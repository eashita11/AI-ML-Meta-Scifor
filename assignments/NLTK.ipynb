{
 "cells": [
  {
   "cell_type": "markdown",
   "id": "51deac09",
   "metadata": {},
   "source": [
    "## Text Preprocessing\n",
    "Supose we have textual data available, we need to apply many of pre-processing steps to the data to transform those words into numerical features that work with machine learning algorithms.\\\n",
    "The pre-processing steps for the problem depend mainly on the domain and the problem itself. We don't need to apply all the steps for every problem.\\\n",
    "We'll use NLTK (Natural Language Toolkit) library here."
   ]
  },
  {
   "cell_type": "code",
   "execution_count": 1,
   "id": "80095e5e",
   "metadata": {},
   "outputs": [],
   "source": [
    "import nltk\n",
    "import string\n",
    "import re"
   ]
  },
  {
   "cell_type": "markdown",
   "id": "79606168",
   "metadata": {},
   "source": [
    "## Text Lowercasing\n",
    "This is done to reduce the size of the vocabulary of our text data."
   ]
  },
  {
   "cell_type": "code",
   "execution_count": 2,
   "id": "f9982974",
   "metadata": {},
   "outputs": [],
   "source": [
    "def lowercase_text(text):\n",
    "    return text.lower()"
   ]
  },
  {
   "cell_type": "code",
   "execution_count": 3,
   "id": "71cf6709",
   "metadata": {},
   "outputs": [
    {
     "name": "stdout",
     "output_type": "stream",
     "text": [
      "weather is too cloudy. possibility of rain is high, today!!\n"
     ]
    }
   ],
   "source": [
    "input_str = \"Weather is too Cloudy. Possibility of Rain is High, Today!!\"\n",
    "print(lowercase_text(input_str))"
   ]
  },
  {
   "cell_type": "markdown",
   "id": "c2c4a7a1",
   "metadata": {},
   "source": [
    "## Remove numbers\n",
    "We either remove the numbers or convert the numbers into textual representation. We can use regular expressions (re) to remove the numbers"
   ]
  },
  {
   "cell_type": "code",
   "execution_count": 4,
   "id": "3bf3924f",
   "metadata": {},
   "outputs": [],
   "source": [
    "def remove_num(text):\n",
    "    result = re.sub(r'\\d+', '', text)\n",
    "    return result"
   ]
  },
  {
   "cell_type": "code",
   "execution_count": 5,
   "id": "07463239",
   "metadata": {},
   "outputs": [
    {
     "name": "stdout",
     "output_type": "stream",
     "text": [
      "You bought  candies from shop, and  candies are in home.\n"
     ]
    }
   ],
   "source": [
    "input_s = \"You bought 6 candies from shop, and 4 candies are in home.\"\n",
    "print(remove_num(input_s))"
   ]
  },
  {
   "cell_type": "markdown",
   "id": "8c9b5418",
   "metadata": {},
   "source": [
    "## Converting numbers to words using the inflect library"
   ]
  },
  {
   "cell_type": "code",
   "execution_count": 6,
   "id": "9731a685",
   "metadata": {},
   "outputs": [
    {
     "name": "stdout",
     "output_type": "stream",
     "text": [
      "Requirement already satisfied: inflect in ./anaconda3/lib/python3.11/site-packages (7.4.0)\r\n",
      "Requirement already satisfied: more-itertools>=8.5.0 in ./anaconda3/lib/python3.11/site-packages (from inflect) (8.12.0)\r\n",
      "Requirement already satisfied: typeguard>=4.0.1 in ./anaconda3/lib/python3.11/site-packages (from inflect) (4.3.0)\r\n",
      "Requirement already satisfied: typing-extensions>=4.10.0 in ./anaconda3/lib/python3.11/site-packages (from typeguard>=4.0.1->inflect) (4.12.2)\r\n"
     ]
    }
   ],
   "source": [
    "!pip install inflect"
   ]
  },
  {
   "cell_type": "code",
   "execution_count": 7,
   "id": "d194ef1a",
   "metadata": {},
   "outputs": [],
   "source": [
    "import inflect\n",
    "q = inflect.engine()"
   ]
  },
  {
   "cell_type": "code",
   "execution_count": 19,
   "id": "db57a76e",
   "metadata": {},
   "outputs": [
    {
     "name": "stdout",
     "output_type": "stream",
     "text": [
      "You bought six candies from shop, and four candies are in home.\n"
     ]
    }
   ],
   "source": [
    "# convert number into text\n",
    "def convert_num(text):\n",
    "    # split strings into list of texts\n",
    "    temp_string = text.split()\n",
    "    # initialise empty list\n",
    "    new_str = []\n",
    "    for word in temp_string:\n",
    "        # if text is a digit, convert the digit to numbers and append into the new_str list\n",
    "        if word.isdigit():\n",
    "            temp = q.number_to_words(word)\n",
    "            new_str.append(temp)\n",
    "        # append the texts as it is\n",
    "        else:\n",
    "            new_str.append(word)\n",
    "    #join the texts of new_str to form a string\n",
    "    temp_str=' '.join(new_str)\n",
    "    return temp_str\n",
    "\n",
    "input_num = \"You bought 6 candies from shop, and 4 candies are in home.\"\n",
    "print(convert_num(input_num))"
   ]
  },
  {
   "cell_type": "markdown",
   "id": "0d9df5e9",
   "metadata": {},
   "source": [
    "## Remove Punctuation\n",
    "We remove punctuations so that we don't have different forms of the same word. If we don't remove punctuations, been.,been,been! will all be treated differently."
   ]
  },
  {
   "cell_type": "code",
   "execution_count": 22,
   "id": "c5b87b4c",
   "metadata": {},
   "outputs": [
    {
     "data": {
      "text/plain": [
       "'Hey Are you excited After a week we will be in Shimla'"
      ]
     },
     "execution_count": 22,
     "metadata": {},
     "output_type": "execute_result"
    }
   ],
   "source": [
    "def rem_punct(text):\n",
    "    translator=str.maketrans('','',string.punctuation)\n",
    "    return text.translate(translator)\n",
    "\n",
    "input_str=\"Hey, Are you excited??, After a week, we will be in Shimla\"\n",
    "rem_punct(input_str)"
   ]
  },
  {
   "cell_type": "code",
   "execution_count": 23,
   "id": "5d159258",
   "metadata": {},
   "outputs": [
    {
     "data": {
      "text/plain": [
       "'!\"#$%&\\'()*+,-./:;<=>?@[\\\\]^_`{|}~'"
      ]
     },
     "execution_count": 23,
     "metadata": {},
     "output_type": "execute_result"
    }
   ],
   "source": [
    "string.punctuation"
   ]
  },
  {
   "cell_type": "markdown",
   "id": "6a11beab",
   "metadata": {},
   "source": [
    "## Remove default stopwords\n",
    "Stopwords are words that do not contribute to the meaning of the sentence. Hence, they can be safely removed without any change in the meaning of a sentence. The NLTK (Natural Language Toolkit) library has a set of stopwords, which can be used to remove stopwords from our text and return a list of word tokens."
   ]
  },
  {
   "cell_type": "code",
   "execution_count": 24,
   "id": "3d778103",
   "metadata": {},
   "outputs": [
    {
     "name": "stderr",
     "output_type": "stream",
     "text": [
      "[nltk_data] Downloading package stopwords to /Users/anil/nltk_data...\n",
      "[nltk_data]   Package stopwords is already up-to-date!\n",
      "[nltk_data] Downloading package punkt to /Users/anil/nltk_data...\n",
      "[nltk_data]   Package punkt is already up-to-date!\n"
     ]
    },
    {
     "data": {
      "text/plain": [
       "True"
      ]
     },
     "execution_count": 24,
     "metadata": {},
     "output_type": "execute_result"
    }
   ],
   "source": [
    "# importing nltk library\n",
    "from nltk.corpus import stopwords\n",
    "from nltk.tokenize import word_tokenize\n",
    "\n",
    "nltk.download('stopwords')\n",
    "nltk.download('punkt')"
   ]
  },
  {
   "cell_type": "code",
   "execution_count": 25,
   "id": "ddf34e6c",
   "metadata": {},
   "outputs": [
    {
     "data": {
      "text/plain": [
       "['Data', 'new', 'oil', 'A.I', 'last', 'invention']"
      ]
     },
     "execution_count": 25,
     "metadata": {},
     "output_type": "execute_result"
    }
   ],
   "source": [
    "# remove stopwords function\n",
    "def rem_stopwords(text):\n",
    "    stop_words = set(stopwords.words(\"english\"))\n",
    "    word_tokens = word_tokenize(text)\n",
    "    filtered_text = [word for word in word_tokens if word not in string.punctuation]\n",
    "    filtered_text = [word for word in filtered_text if word not in stop_words]\n",
    "    return filtered_text\n",
    "\n",
    "ex_text = \"Data is the new oil. A.I is the last invention\"\n",
    "rem_stopwords(ex_text)\n"
   ]
  },
  {
   "cell_type": "markdown",
   "id": "a45c67c9",
   "metadata": {},
   "source": [
    "## Stemming\n",
    "Stemming is the process of getting the root form of a word. Root or Stem is the part to which inflectional affixes (like -ed, -ize, etc) are added. We would create the stem words by removing the prefix or suffix of a word. So, stemming a word may not result in actual words.\n",
    "\n",
    "For Example:\n",
    "\n",
    "Mangoes ---> Mango\n",
    "Boys ---> Boy\n",
    "going ---> go\n",
    "\n",
    "If our sentences are not in tokens, then we need to convert it into tokens. After we convert strings of text into tokens, then we can convert those word tokens into their root form. These are the Porter stemmer, the snowball stemmer, and the Lancaster Stemmer. We usually use the Porter stemmer among them."
   ]
  },
  {
   "cell_type": "code",
   "execution_count": 26,
   "id": "0782bc68",
   "metadata": {},
   "outputs": [],
   "source": [
    "from nltk.stem.porter import PorterStemmer\n",
    "from nltk.tokenize import word_tokenize"
   ]
  },
  {
   "cell_type": "code",
   "execution_count": 27,
   "id": "9de0f5ec",
   "metadata": {},
   "outputs": [],
   "source": [
    "stem1 = PorterStemmer()"
   ]
  },
  {
   "cell_type": "code",
   "execution_count": 28,
   "id": "b45eb937",
   "metadata": {},
   "outputs": [],
   "source": [
    "def s_words(text):\n",
    "    word_tokens = word_tokenize(text)\n",
    "    stems = [stem1.stem(word) for word in word_tokens]\n",
    "    return stems"
   ]
  },
  {
   "cell_type": "code",
   "execution_count": 29,
   "id": "24d552cf",
   "metadata": {},
   "outputs": [
    {
     "name": "stdout",
     "output_type": "stream",
     "text": [
      "['data', 'is', 'the', 'new', 'revolut', 'in', 'the', 'world', ',', 'in', 'a', 'day', 'one', 'individu', 'would', 'gener', 'terabyt', 'of', 'data', '.']\n"
     ]
    }
   ],
   "source": [
    "text = 'Data is the new revolution in the World, in a day one individual would generate terabytes of data.'\n",
    "print(s_words(text))"
   ]
  },
  {
   "cell_type": "markdown",
   "id": "30e7a24a",
   "metadata": {},
   "source": [
    "## Lemmatization\n",
    "As stemming, lemmatization does the same, but the only difference is that lemmatization ensures that the root word belongs to the language. Because of the use of lemmatization, we will get valid words. In NLTK, we use WordLemmatizer to get the lemmas of words. We also need to provide a context for the lemmatization. So, we added POS (parts-of-speech) as a parameter."
   ]
  },
  {
   "cell_type": "code",
   "execution_count": 30,
   "id": "712fa39c",
   "metadata": {},
   "outputs": [],
   "source": [
    "from nltk.stem import wordnet\n",
    "from nltk.tokenize import word_tokenize"
   ]
  },
  {
   "cell_type": "code",
   "execution_count": 31,
   "id": "eb722122",
   "metadata": {},
   "outputs": [
    {
     "name": "stderr",
     "output_type": "stream",
     "text": [
      "[nltk_data] Downloading package wordnet to /Users/anil/nltk_data...\n",
      "[nltk_data]   Package wordnet is already up-to-date!\n"
     ]
    },
    {
     "data": {
      "text/plain": [
       "True"
      ]
     },
     "execution_count": 31,
     "metadata": {},
     "output_type": "execute_result"
    }
   ],
   "source": [
    "lemma = wordnet.WordNetLemmatizer()\n",
    "nltk.download('wordnet')"
   ]
  },
  {
   "cell_type": "code",
   "execution_count": 32,
   "id": "a306de5d",
   "metadata": {},
   "outputs": [],
   "source": [
    "def lemmatize_word(text):\n",
    "    word_tokens = word_tokenize(text)\n",
    "    lemmas = [lemma.lemmatize(word, pos='v') for word in word_tokens]\n",
    "    return lemmas"
   ]
  },
  {
   "cell_type": "code",
   "execution_count": 33,
   "id": "ccdb7608",
   "metadata": {},
   "outputs": [
    {
     "name": "stdout",
     "output_type": "stream",
     "text": [
      "['Data', 'be', 'the', 'new', 'revolution', 'in', 'the', 'World', ',', 'in', 'a', 'day', 'one', 'individual', 'would', 'generate', 'terabytes', 'of', 'data', '.']\n"
     ]
    }
   ],
   "source": [
    "text = 'Data is the new revolution in the World, in a day one individual would generate terabytes of data.'\n",
    "print(lemmatize_word(text))"
   ]
  },
  {
   "cell_type": "markdown",
   "id": "67e4ba18",
   "metadata": {},
   "source": [
    "## Part of Speech (POS) Tagging\n",
    "The pos (parts of speech) explain how a word is used in a sentence. In the sentence, a word can have different contexts and semantic meanings. The basic natural language processing (NLP) models like bag-of-words (BOW) fail to identify the relationships between words. For that, we use POS tagging to mark a word to its POS tag based on its context in the data. POS is also used to extract relationships between words."
   ]
  },
  {
   "cell_type": "code",
   "execution_count": 34,
   "id": "ac68f83b",
   "metadata": {},
   "outputs": [
    {
     "name": "stderr",
     "output_type": "stream",
     "text": [
      "[nltk_data] Downloading package averaged_perceptron_tagger to\n",
      "[nltk_data]     /Users/anil/nltk_data...\n",
      "[nltk_data]   Package averaged_perceptron_tagger is already up-to-\n",
      "[nltk_data]       date!\n"
     ]
    },
    {
     "data": {
      "text/plain": [
       "[('Are', 'NNP'),\n",
       " ('you', 'PRP'),\n",
       " ('afraid', 'IN'),\n",
       " ('of', 'IN'),\n",
       " ('something', 'NN'),\n",
       " ('?', '.')]"
      ]
     },
     "execution_count": 34,
     "metadata": {},
     "output_type": "execute_result"
    }
   ],
   "source": [
    "# importing tokenize library\n",
    "from nltk.tokenize import word_tokenize\n",
    "from nltk import pos_tag\n",
    "nltk.download('averaged_perceptron_tagger')\n",
    "\n",
    "# convert text into word_tokens with their tags\n",
    "def pos_tagg(text):\n",
    "    word_tokens = word_tokenize(text)\n",
    "    return pos_tag(word_tokens)\n",
    "\n",
    "pos_tagg('Are you afraid of something?')\n"
   ]
  },
  {
   "cell_type": "markdown",
   "id": "f330d81e",
   "metadata": {},
   "source": [
    "In the above example, NNP stands for Proper Noun, PRP for Proper Noun, IN as Preposition. We can get all the details pos tags using the Penn Treebank tagset"
   ]
  },
  {
   "cell_type": "code",
   "execution_count": 35,
   "id": "8c92850b",
   "metadata": {},
   "outputs": [
    {
     "name": "stderr",
     "output_type": "stream",
     "text": [
      "[nltk_data] Downloading package tagsets to /Users/anil/nltk_data...\n"
     ]
    },
    {
     "name": "stdout",
     "output_type": "stream",
     "text": [
      "PRP: pronoun, personal\n",
      "    hers herself him himself hisself it itself me myself one oneself ours\n",
      "    ourselves ownself self she thee theirs them themselves they thou thy us\n"
     ]
    },
    {
     "name": "stderr",
     "output_type": "stream",
     "text": [
      "[nltk_data]   Unzipping help/tagsets.zip.\n"
     ]
    }
   ],
   "source": [
    "# downloading the dataset\n",
    "nltk.download('tagsets')\n",
    "\n",
    "#extract information about the tag\n",
    "nltk.help.upenn_tagset('PRP')"
   ]
  },
  {
   "cell_type": "markdown",
   "id": "78d3c4a9",
   "metadata": {},
   "source": [
    "## Chunking\n",
    "Chunking is the process of extracting phrases from unstructured text and giving them more structure. We also call it shallow parsing. We can do chunking on top of POS tagging. It groups words into chunks, mainly for noun phrases. Chunking is done by using regular expressions."
   ]
  },
  {
   "cell_type": "code",
   "execution_count": 38,
   "id": "9db69137",
   "metadata": {},
   "outputs": [
    {
     "name": "stdout",
     "output_type": "stream",
     "text": [
      "(S\n",
      "  (NP the/DT little/JJ red/JJ parrot/NN)\n",
      "  is/VBZ\n",
      "  flying/VBG\n",
      "  in/IN\n",
      "  (NP the/DT sky/NN))\n",
      "(NP the/DT little/JJ red/JJ parrot/NN)\n",
      "(NP the/DT sky/NN)\n"
     ]
    }
   ],
   "source": [
    "# importing libraries\n",
    "from nltk.tokenize import word_tokenize\n",
    "from nltk import pos_tag\n",
    "\n",
    "# here we define chunking function with text and regular \n",
    "# expressions representing grammar as parameter\n",
    "def chunking(text, grammar):\n",
    "    word_tokens = word_tokenize(text)\n",
    "\n",
    "    # label words with POS\n",
    "    word_pos = pos_tag(word_tokens)\n",
    "\n",
    "    # create chunk parser using grammar\n",
    "    chunkParser = nltk.RegexpParser(grammar)\n",
    "\n",
    "    # test it on the list of word tokens with tagged POS\n",
    "    tree = chunkParser.parse(word_pos)\n",
    "\n",
    "    for subtree in tree.subtrees():\n",
    "        print(subtree)\n",
    "    # tree.draw()\n",
    "sentence='the little red parrot is flying in the sky'\n",
    "grammar=\"NP: {<DT>?<JJ>*<NN>}\"\n",
    "chunking(sentence,grammar)"
   ]
  },
  {
   "cell_type": "markdown",
   "id": "6854e604",
   "metadata": {},
   "source": [
    "In the above example, we defined the grammar by using the regular expression rule. This rule tells you that NP (noun phrase) chunk should be formed whenever the chunker finds the optional determiner (DT) followed by any number of adjectives (JJ) and then a noun (NN). \n",
    "\n",
    "Libraries like Spacy and TextBlob are best for chunking"
   ]
  },
  {
   "cell_type": "markdown",
   "id": "7ddc627b",
   "metadata": {},
   "source": [
    "## Named Entity Recognition\n",
    "It is used to extract information from unstructured text. It is used to classify the entities which are present in the text into categories like a person, organisation, event, places, etc. This will give you detailed knowledge about the text and the relationship between the different entities"
   ]
  },
  {
   "cell_type": "code",
   "execution_count": 39,
   "id": "8070d22a",
   "metadata": {},
   "outputs": [
    {
     "name": "stderr",
     "output_type": "stream",
     "text": [
      "[nltk_data] Downloading package maxent_ne_chunker to\n",
      "[nltk_data]     /Users/anil/nltk_data...\n",
      "[nltk_data]   Unzipping chunkers/maxent_ne_chunker.zip.\n",
      "[nltk_data] Downloading package words to /Users/anil/nltk_data...\n"
     ]
    },
    {
     "name": "stdout",
     "output_type": "stream",
     "text": [
      "(S\n",
      "  (PERSON Brain/NNP)\n",
      "  (PERSON Lara/NNP)\n",
      "  scored/VBD\n",
      "  the/DT\n",
      "  highest/JJS\n",
      "  400/CD\n",
      "  runs/NNS\n",
      "  in/IN\n",
      "  a/DT\n",
      "  test/NN\n",
      "  match/NN\n",
      "  which/WDT\n",
      "  played/VBD\n",
      "  in/IN\n",
      "  between/IN\n",
      "  (ORGANIZATION WI/NNP)\n",
      "  and/CC\n",
      "  (GPE England/NNP)\n",
      "  ./.)\n"
     ]
    },
    {
     "name": "stderr",
     "output_type": "stream",
     "text": [
      "[nltk_data]   Unzipping corpora/words.zip.\n"
     ]
    }
   ],
   "source": [
    "# Importing tokenization and chunk\n",
    "from nltk.tokenize import word_tokenize\n",
    "from nltk import pos_tag, ne_chunk\n",
    "nltk.download('maxent_ne_chunker')\n",
    "nltk.download('words')\n",
    "\n",
    "def ner(text):\n",
    "    # tokenize the text\n",
    "    word_tokens = word_tokenize(text)\n",
    "    \n",
    "    # pos tagging of words\n",
    "    word_pos = pos_tag(word_tokens)\n",
    "    \n",
    "    # tree of word entities\n",
    "    print(ne_chunk(word_pos))\n",
    "\n",
    "text = 'Brain Lara scored the highest 400 runs in a test match which played in between WI and England.'\n",
    "ner(text)\n"
   ]
  },
  {
   "cell_type": "markdown",
   "id": "2c8ec8f5",
   "metadata": {},
   "source": [
    "## Understanding Regex\n",
    "As you're a software developer, you have probably encountered regular expressions many times and got confused many times with these daunting sets of characters grouped together like this:\n",
    "\n",
    "/^\\w+([.-]?\\w+)*@\\w+([.-]?\\w+)*(\\.[a-zA-Z]{2,3})+$\n",
    "\n",
    "And you may wonder what this is all about?\n",
    "\n",
    "Regular Expressions (Regx or RegExp) are very useful in stepping up your algorithm game and this will make you a better problem solver. The structure of Regx can be intimidating at first, but it is very rewarding once you get all the patterns and implement them in your work properly."
   ]
  },
  {
   "cell_type": "markdown",
   "id": "3e7c7b40",
   "metadata": {},
   "source": [
    "## What is Regex and why is it important?\n",
    "A Regex or we call it as regular expression, is a type of object that will help you extract information from any string data by searching through text and finding what you need. Whether it's punctuation, numbers, letters, or even white spaces, RegEx will allow you to check and match any of the character combinations in strings.\n",
    "\n",
    "For example, suppose you need to match the format of an email address or security numbers. You can utilize RegEx to check the pattern inside the text strings and use it to replace another substring.\n",
    "\n",
    "For instance, a RegEx could tell the program to search for specific text from the string and then print out the output accordingly. Expressions can include text matching, repetition of words, branching, and pattern composition.\n",
    "\n",
    "Python supports RegEx through libraries. In RegEx, it supports various things like Identifiers, Modifiers, and White Space.\n",
    "\n"
   ]
  },
  {
   "cell_type": "markdown",
   "id": "0d054648",
   "metadata": {},
   "source": [
    "| **Identifiers**                   | **Modifiers**                                                    | **White space characters** | **Escape required**       |\n",
    "|---------------------------------|--------------------------------------------------------------|------------------------|-----------------------|\n",
    "| `\\d` = any number (a digit)     | `\\d` represents a digit. Ex: `\\d{1,5}` will declare a digit between 1,5 like 424, 444, 545, etc. | `\\n` = new line        | `.` `+` `?` `*` `{}` `$` `^` `()` `[]` `|` `\\` |\n",
    "| `\\D` = anything but a number (a non-digit) | `+` = matches 1 or more                                      | `\\s` = space           |                       |\n",
    "| `\\s` = space (tab, space, newline, etc.) | `?` = matches 0 or 1                                         | `\\t` = tab             |                       |\n",
    "| `\\S` = anything but a space     | `*` = 0 or more                                               | `\\e` = escape          |                       |\n",
    "| `\\w` = letters (match alphanumeric character, including `_`) | `$` match end of a string                                    | `\\r` = carriage return |                       |\n",
    "| `\\W` = anything but letters (matches a non-alphanumeric character excluding `_`) | `^` match start of a string                                  | `\\f` = form feed       |                       |\n",
    "| `.` = anything but letters (periods) | `|` matches either x or y                                     | ---------------------- |                       |\n",
    "| `\\b` = any character except for new line | `[]` = range or \"variance\"                                   | ---------------------- |                       |\n",
    "| `\\`                             | `{x}` = this amount of preceding element                      |                        |                       |\n"
   ]
  },
  {
   "cell_type": "markdown",
   "id": "8888e33e",
   "metadata": {},
   "source": [
    "## RegEx Syntax\n",
    "  import re\n",
    "* The re library in Python is used for string searching and manipulation.\n",
    "* We also use it frequently for web scraping.\n",
    "**Example for w+ and ^ Expression**\n",
    "* ^: Here in this expression, matches the start of a string.\n",
    "* w+: This expression matches for the alphanumeric characters from inside the string.\n",
    "\n",
    "Here, we will give one example of how you can use w+ and ^ expressions in code. re.findall will cover in the next parts, so just focus on the w+ and ^ expression.\n",
    "\n",
    "Let's have an example \"iNeuron13, Data is a new fuel\". If we execute the code, we will get 'iNeuron13' as a result."
   ]
  },
  {
   "cell_type": "code",
   "execution_count": 40,
   "id": "bd564172",
   "metadata": {},
   "outputs": [
    {
     "name": "stdout",
     "output_type": "stream",
     "text": [
      "['dataset']\n"
     ]
    }
   ],
   "source": [
    "import re\n",
    "\n",
    "sent = \"dataset, Data is a new fuel\"\n",
    "r2 = re.findall(r\"^\\w+\", sent)\n",
    "print(r2)\n"
   ]
  },
  {
   "cell_type": "markdown",
   "id": "0e71889c",
   "metadata": {},
   "source": [
    "*Note*: If we remove the + sign from \\w, the output will change and it'll give only the first character of the first letter, i.e., [i]."
   ]
  },
  {
   "cell_type": "markdown",
   "id": "4253cc88",
   "metadata": {},
   "source": [
    "## Example of \\s expression in re.split function\n",
    "* \\s: This expression is used for creating a space in the string.\n",
    "To understand better this expression, we will use the split function in a simple example. In this example, we have to split each word using the re.split function, and at the same time, we have used \\s that allows to parse each word in the string separately."
   ]
  },
  {
   "cell_type": "code",
   "execution_count": 42,
   "id": "139f8bd6",
   "metadata": {},
   "outputs": [
    {
     "name": "stdout",
     "output_type": "stream",
     "text": [
      "['We', 'splited', 'this', 'sentence']\n"
     ]
    }
   ],
   "source": [
    "import re\n",
    "print(re.split(r'\\s', 'We splited this sentence'))"
   ]
  },
  {
   "cell_type": "markdown",
   "id": "14830cca",
   "metadata": {},
   "source": [
    "As we can see above, we got the output ['We', 'splited', 'this', 'sentence'], but what if we remove '\\' from '\\s', it will give a result like removing 's' from the entire sentence. Let's see in the example below:"
   ]
  },
  {
   "cell_type": "markdown",
   "id": "856711cb",
   "metadata": {},
   "source": [
    "import re\n",
    "print(re.split(r's', 'We splited this sentence'))"
   ]
  },
  {
   "cell_type": "markdown",
   "id": "f7ff9e25",
   "metadata": {},
   "source": [
    "Similarly, there are series of regular expressions in Python that you can use in various ways like \\d, \\D, $, \\b, etc."
   ]
  },
  {
   "cell_type": "markdown",
   "id": "bd4dd431",
   "metadata": {},
   "source": [
    "## Use RegEx methods\n",
    "The \"re\" packages provide several methods to actually perform queries on an input string. We will see different methods which are:\n",
    "\n",
    "re.match()\n",
    "re.search()\n",
    "re.findall()\n",
    "\n",
    "**Note**: Based on the RegEx, Python offers two different primitive operations. The match method checks for the match only at the beginning of the string while search checks for a match anywhere in the string."
   ]
  },
  {
   "cell_type": "markdown",
   "id": "9562f4de",
   "metadata": {},
   "source": [
    "### Using re.match()\n",
    "The match function is used to match the RegEx pattern to a string with an optional flag. Here, in this \\w+ and \\W will match the words starting from \"i\" and thereafter, anything which is not started with \"i\" is not identified. For checking match for each element in the list or string, we run the for loop."
   ]
  },
  {
   "cell_type": "code",
   "execution_count": 46,
   "id": "4d1effdd",
   "metadata": {},
   "outputs": [
    {
     "name": "stdout",
     "output_type": "stream",
     "text": [
      "('icecream', 'images')\n"
     ]
    }
   ],
   "source": [
    "import re\n",
    "lists = ['icecream images', 'i immitated', 'inner peace']\n",
    "for i in lists:\n",
    "    q = re.match(\"(i\\w+)\\W(i\\w+)\", i)\n",
    "    if q:\n",
    "        print(q.groups())\n"
   ]
  },
  {
   "cell_type": "markdown",
   "id": "4508c3c0",
   "metadata": {},
   "source": [
    "## Finding Pattern in the text (re.search())\n",
    "A RegEx is commonly used to search for a pattern in the text. This method takes a RegEx pattern and a string and searches that pattern within the string.\n",
    "\n",
    "For using re.search() function, you need to import re first. The search() function takes the \"pattern\" and \"text\" to scan from our given string and returns the match object when the pattern is found or else does not match."
   ]
  },
  {
   "cell_type": "code",
   "execution_count": 47,
   "id": "d44bbd9f",
   "metadata": {},
   "outputs": [
    {
     "name": "stdout",
     "output_type": "stream",
     "text": [
      "You're looking for 'playing' in 'Raju is playing outside.' Found match!\n",
      "You're looking for 'dataset' in 'Raju is playing outside.' no match found!\n"
     ]
    }
   ],
   "source": [
    "import re\n",
    "\n",
    "pattern = [\"playing\", \"dataset\"]\n",
    "text = \"Raju is playing outside.\"\n",
    "\n",
    "for p in pattern:\n",
    "    print(\"You're looking for '%s' in '%s'\" % (p, text), end = ' ')\n",
    "\n",
    "    if re.search(p, text):\n",
    "        print('Found match!')\n",
    "    else:\n",
    "        print('no match found!')\n"
   ]
  },
  {
   "cell_type": "markdown",
   "id": "6a688e0c",
   "metadata": {},
   "source": [
    "In the above example, we look for two literal strings \"playing\", \"dataset\" and in the text string we had taken \"Raju is playing outside.\". For \"playing\" we got the match and in the output we got \"Found Match\", while for the word \"dataset\" we didn't get any match. So, we got no match found for that word."
   ]
  },
  {
   "cell_type": "markdown",
   "id": "fd381abd",
   "metadata": {},
   "source": [
    "## Using re.findall() for text\n",
    "We use the re.findall() module when you want to iterate over the lines of the file. It'll list all the matches in one go. Here in an example, we would like to fetch email addresses from the list, and we want to fetch all emails from the list, we use re.findall() method."
   ]
  },
  {
   "cell_type": "code",
   "execution_count": 48,
   "id": "3e6b3476",
   "metadata": {},
   "outputs": [
    {
     "name": "stdout",
     "output_type": "stream",
     "text": [
      "Abc@gmail.com\n",
      "XYX@gmail.com\n",
      "lmn@gmail.com\n",
      "efg@gmail.com\n"
     ]
    }
   ],
   "source": [
    "import re\n",
    "\n",
    "kgf = \"Abc@gmail.com, XYX@gmail.com, lmn@gmail.com, efg@gmail.com\"\n",
    "emails = re.findall(r'[\\w\\.-]+@[\\w\\.-]+', kgf)\n",
    "\n",
    "for e in emails:\n",
    "    print(e)\n"
   ]
  },
  {
   "cell_type": "markdown",
   "id": "a5a3cfa6",
   "metadata": {},
   "source": [
    "## Text Normalization\n",
    "In text pre-processing, a highly overlooked step is text normalization. Text normalization means the process of transforming the text into the canonical (or standard) form. Like, \"ok\" and \"k\" can be transformed to \"okay,\" its canonical form. Another example is mapping of near identical words such as \"preprocessing,\" \"pre-processing,\" and \"pre processing\" to just \"preprocessing.\"\n",
    "\n",
    "Text normalization is very useful for noisy texts such as social media comments, comments on blog posts, and text messages, where abbreviations, misspellings, and the use of out-of-vocabulary (OOV) words are prevalent.\n",
    "\n",
    "| Raw     | Normalized   |\n",
    "|---------|--------------|\n",
    "| 2moro   | tomorrow     |\n",
    "| 2mrrw   | tomorrow     |\n",
    "| 2morrow | tomorrow     |\n",
    "| 2mrw    | tomorrow     |\n",
    "| tomrw   | tomorrow     |\n",
    "| b4      | before       |\n",
    "| otw     | on the way   |\n",
    "| :)      | smile        |\n"
   ]
  },
  {
   "cell_type": "markdown",
   "id": "45227f11",
   "metadata": {},
   "source": [
    "## Effects of normalization\n",
    "Text normalization has even been effective for analyzing highly unstructured clinical texts where physicians take notes in non-standard ways. We have also found it useful for topic extraction where near synonyms and spelling differences are common (like 'topic modelling,' 'topic modeling,' 'topic-modeling,' 'topic-modelling').\n",
    "\n",
    "Unlike stemming and lemmatization, there is not a standard way to normalize texts. It typically depends on the task. For example, the way you would normalize clinical texts would arguably be different from how you normalize text messages.\n",
    "\n",
    "Some of the common approaches to text normalization include dictionary mappings, statistical machine translation (SMT), and spelling-correction-based approaches."
   ]
  },
  {
   "cell_type": "markdown",
   "id": "474f3643",
   "metadata": {},
   "source": [
    "## TOKENIZERS\n",
    "### NLTK"
   ]
  },
  {
   "cell_type": "code",
   "execution_count": 49,
   "id": "5fddb241",
   "metadata": {},
   "outputs": [
    {
     "name": "stdout",
     "output_type": "stream",
     "text": [
      "Requirement already satisfied: nltk in ./anaconda3/lib/python3.11/site-packages (3.8.1)\n",
      "Collecting nltk\n",
      "  Downloading nltk-3.9.1-py3-none-any.whl.metadata (2.9 kB)\n",
      "Requirement already satisfied: click in ./anaconda3/lib/python3.11/site-packages (from nltk) (8.0.4)\n",
      "Requirement already satisfied: joblib in ./anaconda3/lib/python3.11/site-packages (from nltk) (1.2.0)\n",
      "Requirement already satisfied: regex>=2021.8.3 in ./anaconda3/lib/python3.11/site-packages (from nltk) (2022.7.9)\n",
      "Requirement already satisfied: tqdm in ./anaconda3/lib/python3.11/site-packages (from nltk) (4.65.0)\n",
      "Downloading nltk-3.9.1-py3-none-any.whl (1.5 MB)\n",
      "\u001b[2K   \u001b[90m━━━━━━━━━━━━━━━━━━━━━━━━━━━━━━━━━━━━━━━━\u001b[0m \u001b[32m1.5/1.5 MB\u001b[0m \u001b[31m18.6 MB/s\u001b[0m eta \u001b[36m0:00:00\u001b[0m\n",
      "\u001b[?25hInstalling collected packages: nltk\n",
      "\u001b[33m  WARNING: The script nltk is installed in '/Users/anil/.local/bin' which is not on PATH.\n",
      "  Consider adding this directory to PATH or, if you prefer to suppress this warning, use --no-warn-script-location.\u001b[0m\u001b[33m\n",
      "\u001b[0mSuccessfully installed nltk-3.9.1\n"
     ]
    }
   ],
   "source": [
    "!pip install --user -U nltk"
   ]
  },
  {
   "cell_type": "code",
   "execution_count": 50,
   "id": "e197e150",
   "metadata": {},
   "outputs": [],
   "source": [
    "from nltk.tokenize.regexp import WhitespaceTokenizer\n",
    "m = \"There is no need to panic. We need to work together, take small yet important measures to ensure self-protection.\""
   ]
  },
  {
   "cell_type": "code",
   "execution_count": 52,
   "id": "9c68f467",
   "metadata": {},
   "outputs": [
    {
     "data": {
      "text/plain": [
       "['Founded',\n",
       " 'in',\n",
       " '2002',\n",
       " ',',\n",
       " 'SpaceX',\n",
       " \"'s\",\n",
       " 'mission',\n",
       " 'is',\n",
       " 'to',\n",
       " 'enable',\n",
       " 'humans',\n",
       " 'to',\n",
       " 'become',\n",
       " 'a',\n",
       " 'spacefaring',\n",
       " 'civilization',\n",
       " 'and',\n",
       " 'a',\n",
       " 'multi-planetary',\n",
       " 'species',\n",
       " 'by',\n",
       " 'building',\n",
       " 'a',\n",
       " 'self-sustaining',\n",
       " 'city',\n",
       " 'on',\n",
       " 'Mars',\n",
       " '.',\n",
       " 'In',\n",
       " '2008',\n",
       " ',',\n",
       " 'SpaceX',\n",
       " \"'s\",\n",
       " 'Falcon',\n",
       " '1',\n",
       " 'became',\n",
       " 'the',\n",
       " 'first',\n",
       " 'privately',\n",
       " 'developed',\n",
       " 'liquid-fuel',\n",
       " 'launch',\n",
       " 'vehicle',\n",
       " 'to',\n",
       " 'orbit',\n",
       " 'the',\n",
       " 'Earth',\n",
       " '.']"
      ]
     },
     "execution_count": 52,
     "metadata": {},
     "output_type": "execute_result"
    }
   ],
   "source": [
    "from nltk.tokenize import word_tokenize\n",
    "text = \"\"\"Founded in 2002, SpaceX's mission is to enable humans to become a spacefaring civilization and a\n",
    "multi-planetary species by building a self-sustaining city on Mars. In 2008, SpaceX's Falcon 1 became the\n",
    "first privately developed liquid-fuel launch vehicle to orbit the Earth.\"\"\"\n",
    "word_tokenize(text)"
   ]
  },
  {
   "cell_type": "markdown",
   "id": "16082c9d",
   "metadata": {},
   "source": [
    "Note in the above, we had used a slightly different syntax for importing the module. You'll recognize by now the variable assignment."
   ]
  },
  {
   "cell_type": "code",
   "execution_count": 55,
   "id": "591ac059",
   "metadata": {},
   "outputs": [
    {
     "name": "stdout",
     "output_type": "stream",
     "text": [
      "19\n"
     ]
    }
   ],
   "source": [
    "tokens=WhitespaceTokenizer().tokenize(m)\n",
    "print(len(tokens))"
   ]
  },
  {
   "cell_type": "code",
   "execution_count": 56,
   "id": "5faeac21",
   "metadata": {},
   "outputs": [
    {
     "data": {
      "text/plain": [
       "['There',\n",
       " 'is',\n",
       " 'no',\n",
       " 'need',\n",
       " 'to',\n",
       " 'panic.',\n",
       " 'We',\n",
       " 'need',\n",
       " 'to',\n",
       " 'work',\n",
       " 'together,',\n",
       " 'take',\n",
       " 'small',\n",
       " 'yet',\n",
       " 'important',\n",
       " 'measures',\n",
       " 'to',\n",
       " 'ensure',\n",
       " 'self-protection.']"
      ]
     },
     "execution_count": 56,
     "metadata": {},
     "output_type": "execute_result"
    }
   ],
   "source": [
    "tokens"
   ]
  },
  {
   "cell_type": "code",
   "execution_count": 57,
   "id": "aac11d32",
   "metadata": {},
   "outputs": [
    {
     "name": "stdout",
     "output_type": "stream",
     "text": [
      "19\n"
     ]
    }
   ],
   "source": [
    "my_vocab=set(tokens)\n",
    "print(len(tokens))"
   ]
  },
  {
   "cell_type": "code",
   "execution_count": 58,
   "id": "6eb039df",
   "metadata": {},
   "outputs": [
    {
     "data": {
      "text/plain": [
       "{'There',\n",
       " 'We',\n",
       " 'ensure',\n",
       " 'important',\n",
       " 'is',\n",
       " 'measures',\n",
       " 'need',\n",
       " 'no',\n",
       " 'panic.',\n",
       " 'self-protection.',\n",
       " 'small',\n",
       " 'take',\n",
       " 'to',\n",
       " 'together,',\n",
       " 'work',\n",
       " 'yet'}"
      ]
     },
     "execution_count": 58,
     "metadata": {},
     "output_type": "execute_result"
    }
   ],
   "source": [
    "my_vocab"
   ]
  },
  {
   "cell_type": "markdown",
   "id": "f17da593",
   "metadata": {},
   "source": [
    "Now we are going to perform the same operation but with a different tokenizer.\n"
   ]
  },
  {
   "cell_type": "code",
   "execution_count": 63,
   "id": "01e2cd1c",
   "metadata": {},
   "outputs": [],
   "source": [
    "my_st = \"There is no need to panic. We need to work together, take small yet important measures to ensure self-protection, the Prime Minister tweeted.\""
   ]
  },
  {
   "cell_type": "markdown",
   "id": "920bc1b7",
   "metadata": {},
   "source": [
    " We'll import a different tokenizer:"
   ]
  },
  {
   "cell_type": "code",
   "execution_count": 64,
   "id": "141e2472",
   "metadata": {},
   "outputs": [],
   "source": [
    "from nltk.tokenize.regexp import WordPunctTokenizer"
   ]
  },
  {
   "cell_type": "markdown",
   "id": "6b202638",
   "metadata": {},
   "source": [
    "The above tokenizer also splits the words into tokens:"
   ]
  },
  {
   "cell_type": "code",
   "execution_count": 65,
   "id": "6d6a6c6d",
   "metadata": {},
   "outputs": [
    {
     "name": "stdout",
     "output_type": "stream",
     "text": [
      "29\n"
     ]
    }
   ],
   "source": [
    "m_t = WordPunctTokenizer().tokenize(my_st)\n",
    "print(len(m_t))"
   ]
  },
  {
   "cell_type": "code",
   "execution_count": 66,
   "id": "ecdd4710",
   "metadata": {},
   "outputs": [
    {
     "data": {
      "text/plain": [
       "['There',\n",
       " 'is',\n",
       " 'no',\n",
       " 'need',\n",
       " 'to',\n",
       " 'panic',\n",
       " '.',\n",
       " 'We',\n",
       " 'need',\n",
       " 'to',\n",
       " 'work',\n",
       " 'together',\n",
       " ',',\n",
       " 'take',\n",
       " 'small',\n",
       " 'yet',\n",
       " 'important',\n",
       " 'measures',\n",
       " 'to',\n",
       " 'ensure',\n",
       " 'self',\n",
       " '-',\n",
       " 'protection',\n",
       " ',',\n",
       " 'the',\n",
       " 'Prime',\n",
       " 'Minister',\n",
       " 'tweeted',\n",
       " '.']"
      ]
     },
     "execution_count": 66,
     "metadata": {},
     "output_type": "execute_result"
    }
   ],
   "source": [
    "m_t"
   ]
  },
  {
   "cell_type": "markdown",
   "id": "c3463f9b",
   "metadata": {},
   "source": [
    "What is the difference between the above approaches? In the first one, vocabulary ends up containing \"words\" and \"words.\" as two distinct words; whereas in the second example \"words\" is a token type and \".\" (i.e. the dot) is split into a separate token and this results into a new token type in addition to \"words.\""
   ]
  },
  {
   "cell_type": "code",
   "execution_count": 67,
   "id": "48e0317c",
   "metadata": {},
   "outputs": [
    {
     "data": {
      "text/plain": [
       "[\"Founded in 2002, SpaceX's mission is to enable humans to become a spacefaring civilization \\nand a multi-planet species by building a self-sustaining city on Mars.\",\n",
       " \"In 2008, SpaceX's Falcon 1 became the first privately developed liquid-fuel launch vehicle to orbit the Earth.\"]"
      ]
     },
     "execution_count": 67,
     "metadata": {},
     "output_type": "execute_result"
    }
   ],
   "source": [
    "from nltk.tokenize import sent_tokenize\n",
    "\n",
    "text = \"\"\"Founded in 2002, SpaceX's mission is to enable humans to become a spacefaring civilization \n",
    "and a multi-planet species by building a self-sustaining city on Mars. \n",
    "In 2008, SpaceX's Falcon 1 became the first privately developed liquid-fuel launch vehicle to orbit the Earth.\"\"\"\n",
    "\n",
    "sent_tokenize(text)\n"
   ]
  },
  {
   "cell_type": "markdown",
   "id": "f02afbbe",
   "metadata": {},
   "source": [
    "## Frequency Distribution\n",
    "What is Frequency distribution? This is basically counting words in your texts. To give a brief example of how it works, we use:"
   ]
  },
  {
   "cell_type": "code",
   "execution_count": 68,
   "id": "2b2c966e",
   "metadata": {},
   "outputs": [
    {
     "name": "stdout",
     "output_type": "stream",
     "text": [
      "\n",
      "\n",
      "\n",
      "\n",
      "<FreqDist with 18 samples and 22 outcomes>\n"
     ]
    }
   ],
   "source": [
    "# from nltk.book import *\n",
    "import nltk\n",
    "# nltk.download('gutenberg')\n",
    "print(\"\\n\\n\\n\")\n",
    "text1 = \"There is no need to panic. We need to work together, take small yet important measures to ensure self-protection.\"\n",
    "freqDist = nltk.FreqDist(word_tokenize(text1))\n",
    "print(freqDist)"
   ]
  },
  {
   "cell_type": "markdown",
   "id": "26b4f45f",
   "metadata": {},
   "source": [
    "The class FreqDist works like a dictionary where keys are the words in the text and the values are the counts associated with that word. For example, if you want to see how many words \"person\" are in the text, you can type as:"
   ]
  },
  {
   "cell_type": "code",
   "execution_count": 69,
   "id": "56c6b993",
   "metadata": {},
   "outputs": [
    {
     "name": "stdout",
     "output_type": "stream",
     "text": [
      "0\n"
     ]
    }
   ],
   "source": [
    "print(freqDist[\"person\"])"
   ]
  },
  {
   "cell_type": "code",
   "execution_count": 71,
   "id": "32d8cf2f",
   "metadata": {},
   "outputs": [
    {
     "name": "stdout",
     "output_type": "stream",
     "text": [
      "1\n"
     ]
    }
   ],
   "source": [
    "print(freqDist[\"is\"])"
   ]
  },
  {
   "cell_type": "markdown",
   "id": "4f28205b",
   "metadata": {},
   "source": [
    "One of the most important functions in FreqDist is the .keys() function. Let us see what it will give in the below code."
   ]
  },
  {
   "cell_type": "code",
   "execution_count": 72,
   "id": "a0aad5bd",
   "metadata": {},
   "outputs": [
    {
     "name": "stdout",
     "output_type": "stream",
     "text": [
      "<class 'dict_keys'>\n"
     ]
    }
   ],
   "source": [
    "words = freqDist.keys()\n",
    "print(type(words))"
   ]
  },
  {
   "cell_type": "markdown",
   "id": "20835783",
   "metadata": {},
   "source": [
    "After running the above code, it'll give as class dict_keys, in other words, you get a list of all the words in your text.\n",
    "\n",
    "And if you want to see how many words are there in the text, you can use:\n"
   ]
  },
  {
   "cell_type": "code",
   "execution_count": 74,
   "id": "65bc6463",
   "metadata": {},
   "outputs": [
    {
     "name": "stdout",
     "output_type": "stream",
     "text": [
      "18\n"
     ]
    }
   ],
   "source": [
    "print(len(words))"
   ]
  },
  {
   "cell_type": "markdown",
   "id": "6612646a",
   "metadata": {},
   "source": [
    "In the class nltk.text.Text, the function does the same stuff, so what is the difference? The difference is that with FreqDist you can create your own texts without the necessity of converting your text to nltk.text.Text class.\n",
    "\n",
    "And the other usual function is plot. Plot will display the most used words in your text. So if you want to see the 15 most used words in your text, you would do this:"
   ]
  },
  {
   "cell_type": "code",
   "execution_count": 75,
   "id": "a9b9e76c",
   "metadata": {},
   "outputs": [
    {
     "data": {
      "image/png": "[encoded data removed]",
      "text/plain": [
       "<Figure size 640x480 with 1 Axes>"
      ]
     },
     "metadata": {},
     "output_type": "display_data"
    },
    {
     "data": {
      "text/plain": [
       "<Axes: xlabel='Samples', ylabel='Counts'>"
      ]
     },
     "execution_count": 75,
     "metadata": {},
     "output_type": "execute_result"
    }
   ],
   "source": [
    "freqDist.plot(15)"
   ]
  },
  {
   "cell_type": "code",
   "execution_count": null,
   "id": "40339091",
   "metadata": {},
   "outputs": [],
   "source": []
  }
 ],
 "metadata": {
  "kernelspec": {
   "display_name": "Python 3 (ipykernel)",
   "language": "python",
   "name": "python3"
  },
  "language_info": {
   "codemirror_mode": {
    "name": "ipython",
    "version": 3
   },
   "file_extension": ".py",
   "mimetype": "text/x-python",
   "name": "python",
   "nbconvert_exporter": "python",
   "pygments_lexer": "ipython3",
   "version": "3.11.5"
  }
 },
 "nbformat": 4,
 "nbformat_minor": 5
}
