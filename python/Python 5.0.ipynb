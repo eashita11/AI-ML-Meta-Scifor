{
 "cells": [
  {
   "cell_type": "markdown",
   "id": "ed119f73",
   "metadata": {},
   "source": [
    "\n",
    "## Function ,*args, *kwargs, map and filter\n",
    "#Lets Start with Function..\n",
    "\n",
    "A function is a group of statements performing a specific task. When a program gets bigger in size and its complexity grows, it gets difficult for a programmer to keep track of which piece of code is doing what.\n",
    "A function can be reused by the programmer in a given program any number of times.\n",
    "\n",
    "\n",
    "Function Syntax:-\n",
    "\n",
    "    def function_name(argument1,argument2):\n",
    "        do stuff here\n"
   ]
  },
  {
   "cell_type": "code",
   "execution_count": 1,
   "id": "ab21423d",
   "metadata": {},
   "outputs": [],
   "source": [
    "def say_hello():\n",
    "    print(\"This is the basic one\")"
   ]
  },
  {
   "cell_type": "code",
   "execution_count": 2,
   "id": "9d99e064",
   "metadata": {},
   "outputs": [
    {
     "name": "stdout",
     "output_type": "stream",
     "text": [
      "This is the basic one\n"
     ]
    }
   ],
   "source": [
    "say_hello()"
   ]
  },
  {
   "cell_type": "code",
   "execution_count": 3,
   "id": "01b5192a",
   "metadata": {},
   "outputs": [],
   "source": [
    "# A Simple greeting function . "
   ]
  },
  {
   "cell_type": "code",
   "execution_count": 4,
   "id": "7e28197f",
   "metadata": {},
   "outputs": [],
   "source": [
    "def greetings(name):\n",
    "    print(\"Hello Miss \",name)"
   ]
  },
  {
   "cell_type": "code",
   "execution_count": 5,
   "id": "8af62941",
   "metadata": {},
   "outputs": [
    {
     "name": "stdout",
     "output_type": "stream",
     "text": [
      "Hello Miss  Amisha\n"
     ]
    }
   ],
   "source": [
    "greetings(\"Amisha\")"
   ]
  },
  {
   "cell_type": "markdown",
   "id": "4aa4123f",
   "metadata": {},
   "source": [
    "## Return statement\n",
    "Return statement allowß a function to \"return\" a result that can then be stored as a variable, or used in whatever mannner the user wants."
   ]
  },
  {
   "cell_type": "code",
   "execution_count": 6,
   "id": "996bfc2b",
   "metadata": {},
   "outputs": [],
   "source": [
    "#   Salary update example.\n",
    "#   without return method."
   ]
  },
  {
   "cell_type": "code",
   "execution_count": 7,
   "id": "c0f3fcff",
   "metadata": {},
   "outputs": [],
   "source": [
    "def salary_incr(salary):\n",
    "    if salary<=9000:\n",
    "        (salary + 1000)\n",
    "    else:\n",
    "        (salary)"
   ]
  },
  {
   "cell_type": "code",
   "execution_count": 8,
   "id": "e86911ae",
   "metadata": {},
   "outputs": [
    {
     "name": "stdout",
     "output_type": "stream",
     "text": [
      "Your new salary None\n"
     ]
    }
   ],
   "source": [
    "print(\"Your new salary\",salary_incr(5000))"
   ]
  },
  {
   "cell_type": "code",
   "execution_count": 10,
   "id": "02c670cc",
   "metadata": {},
   "outputs": [],
   "source": [
    "#   Why is it showing none? Because we haven;t given a command to return. Why didn't we give a \n",
    "#   print command? Because print is used by a user and since we are coders, we check only by using return."
   ]
  },
  {
   "cell_type": "code",
   "execution_count": 11,
   "id": "75915a67",
   "metadata": {},
   "outputs": [],
   "source": [
    "def incr_salary(salary):\n",
    "    if salary<=8000:\n",
    "        return (salary+1000)\n",
    "    else:\n",
    "        return(salary)"
   ]
  },
  {
   "cell_type": "code",
   "execution_count": 12,
   "id": "ba59a04d",
   "metadata": {},
   "outputs": [
    {
     "data": {
      "text/plain": [
       "8000"
      ]
     },
     "execution_count": 12,
     "metadata": {},
     "output_type": "execute_result"
    }
   ],
   "source": [
    "incr_salary(7000)"
   ]
  },
  {
   "cell_type": "code",
   "execution_count": 13,
   "id": "29721f93",
   "metadata": {},
   "outputs": [],
   "source": [
    "#use with multiple arguments."
   ]
  },
  {
   "cell_type": "code",
   "execution_count": 14,
   "id": "b38238e0",
   "metadata": {},
   "outputs": [],
   "source": [
    "def my_marks(science,maths,english):\n",
    "    return (science + maths + english)"
   ]
  },
  {
   "cell_type": "code",
   "execution_count": 15,
   "id": "277a405d",
   "metadata": {},
   "outputs": [
    {
     "name": "stdout",
     "output_type": "stream",
     "text": [
      "228 You Have Got\n"
     ]
    }
   ],
   "source": [
    "print(my_marks(85,69,74),\"You Have Got\")"
   ]
  },
  {
   "cell_type": "code",
   "execution_count": 16,
   "id": "2a186cbb",
   "metadata": {},
   "outputs": [],
   "source": [
    "total_marks=my_marks(85,69,74)"
   ]
  },
  {
   "cell_type": "code",
   "execution_count": 17,
   "id": "8fccfa13",
   "metadata": {},
   "outputs": [
    {
     "data": {
      "text/plain": [
       "228"
      ]
     },
     "execution_count": 17,
     "metadata": {},
     "output_type": "execute_result"
    }
   ],
   "source": [
    "total_marks"
   ]
  },
  {
   "cell_type": "code",
   "execution_count": 18,
   "id": "cd2ea5b3",
   "metadata": {},
   "outputs": [
    {
     "name": "stdout",
     "output_type": "stream",
     "text": [
      "228  Distinction and you got a scholor\n"
     ]
    }
   ],
   "source": [
    "if total_marks >85:\n",
    "    print(total_marks,\" Distinction and you got a scholor\")\n",
    "elif total_marks>70 and total_marks<=85:\n",
    "    print(total_marks,\"You are good\")\n",
    "elif total_marks>60 and total_marks<=75:\n",
    "    print(total_marks,\"First division\")\n",
    "elif total_marks>45 and total_marks<=60:\n",
    "    print(total_marks,\"second division\")\n",
    "elif total_marks>35 and total_marks<=45:\n",
    "    print(total_marks,\"you are just pass, but you are also good\")\n",
    "else:\n",
    "    print(total_marks,\"You are Fail , but you are best\")"
   ]
  },
  {
   "cell_type": "code",
   "execution_count": 19,
   "id": "8dc8d916",
   "metadata": {},
   "outputs": [],
   "source": [
    "#Lets see how its work in real time.\n",
    "#    http://orangebookvalue>com/used-mobiles\n",
    "\n",
    "\n",
    "#   someone wants to buy a used mobile online and the vendor needs to display the price of mobile based on how many \n",
    "#   months old and gb(if applicable)"
   ]
  },
  {
   "cell_type": "code",
   "execution_count": 20,
   "id": "46c96425",
   "metadata": {},
   "outputs": [],
   "source": [
    "def phone_price(phone_make,phone_age,phone_model_gb):\n",
    "    if phone_make== \"i phone 13\":\n",
    "        if 0<phone_age<=6:\n",
    "            if phone_model_gb==128:\n",
    "                print(\"Rs 60000 - Rs 70000 \")\n",
    "            elif phone_model_gb==256:\n",
    "                print(\"70000 - 80000\")\n",
    "    if phone_make==\"i phone 12\":\n",
    "        if 0<phone_age<=6:\n",
    "            if phone_model_gb==64:\n",
    "                print(\"Rs 50000 - RS 60000\")\n",
    "            elif phone_model_gb==128:\n",
    "                    print(\"Rs 55000 - 65000\")\n",
    "    elif phone_make==\"Nokia Lumia\":\n",
    "        if 0<phone_age<6:\n",
    "            if phone_model_gb==8:\n",
    "                print(\"Rs 15000 - RS 22000\")\n",
    "            elif phone_model_gb==32:\n",
    "                print(\"Rs 22000 , Rs28000\")\n",
    "    else:\n",
    "        print(\"No stock right now. please come back in few days\")"
   ]
  },
  {
   "cell_type": "code",
   "execution_count": 21,
   "id": "8730bf82",
   "metadata": {},
   "outputs": [
    {
     "name": "stdout",
     "output_type": "stream",
     "text": [
      "Rs 22000 , Rs28000\n"
     ]
    }
   ],
   "source": [
    "phone_price('Nokia Lumia',5,32)"
   ]
  },
  {
   "cell_type": "markdown",
   "id": "67d04452",
   "metadata": {},
   "source": [
    "##  Lambda Function\n",
    "Lambda function is used for quick calculation and for one time.\n"
   ]
  },
  {
   "cell_type": "code",
   "execution_count": 22,
   "id": "1f13e853",
   "metadata": {},
   "outputs": [],
   "source": [
    "add_num=lambda y:y+30"
   ]
  },
  {
   "cell_type": "code",
   "execution_count": 23,
   "id": "4d4c01c1",
   "metadata": {},
   "outputs": [
    {
     "data": {
      "text/plain": [
       "70"
      ]
     },
     "execution_count": 23,
     "metadata": {},
     "output_type": "execute_result"
    }
   ],
   "source": [
    "add_num(40)"
   ]
  },
  {
   "cell_type": "code",
   "execution_count": 24,
   "id": "89dfba52",
   "metadata": {},
   "outputs": [],
   "source": [
    "#Multiple arguments-"
   ]
  },
  {
   "cell_type": "code",
   "execution_count": 25,
   "id": "da0021ec",
   "metadata": {},
   "outputs": [],
   "source": [
    "multi_num=lambda x,y:x*y"
   ]
  },
  {
   "cell_type": "code",
   "execution_count": 26,
   "id": "a56d5ed1",
   "metadata": {},
   "outputs": [
    {
     "data": {
      "text/plain": [
       "8"
      ]
     },
     "execution_count": 26,
     "metadata": {},
     "output_type": "execute_result"
    }
   ],
   "source": [
    "multi_num(4,2)"
   ]
  },
  {
   "cell_type": "code",
   "execution_count": 27,
   "id": "767a7f7e",
   "metadata": {},
   "outputs": [],
   "source": [
    "#similarly you can have more arguments and work on it."
   ]
  },
  {
   "cell_type": "markdown",
   "id": "047df6f5",
   "metadata": {},
   "source": [
    "## *args and *kwargs.\n",
    "args take multiple input in the place of function arguments.\n",
    "Syntax: \n",
    "    \n",
    "    def(*args)"
   ]
  },
  {
   "cell_type": "code",
   "execution_count": 28,
   "id": "b45428f8",
   "metadata": {},
   "outputs": [],
   "source": [
    "def my_func(*args):\n",
    "    for i in args:\n",
    "        print(\"my Args \",i)"
   ]
  },
  {
   "cell_type": "code",
   "execution_count": 29,
   "id": "681e9f96",
   "metadata": {},
   "outputs": [
    {
     "name": "stdout",
     "output_type": "stream",
     "text": [
      "my Args  Ramesh\n",
      "my Args  Suresh\n",
      "my Args  Korba\n",
      "my Args  78\n"
     ]
    }
   ],
   "source": [
    "my_func(\"Ramesh\",\"Suresh\",\"Korba\",78)\n",
    "\n",
    "#its mean we put the arguments after the function created,this reason we use *args method"
   ]
  },
  {
   "cell_type": "markdown",
   "id": "13a99ee9",
   "metadata": {},
   "source": [
    "## **kwargs\n",
    "**kwargs means Key word arguments, it is used to pass a keyworded, variable-length argument list. A keyword argument is where you provide a name to the variable as you pass it into the function."
   ]
  },
  {
   "cell_type": "code",
   "execution_count": 30,
   "id": "e8314337",
   "metadata": {},
   "outputs": [],
   "source": [
    "def my_func(**kwargs):\n",
    "    for key,value in kwargs.items():\n",
    "        print(key,value)\n",
    "    "
   ]
  },
  {
   "cell_type": "code",
   "execution_count": 31,
   "id": "a00d06d3",
   "metadata": {},
   "outputs": [
    {
     "name": "stdout",
     "output_type": "stream",
     "text": [
      "student ['Ram', 'Shiva']\n",
      "marks [84, 59]\n"
     ]
    }
   ],
   "source": [
    "my_func(student=[\"Ram\",\"Shiva\"],marks=[84,59])"
   ]
  },
  {
   "cell_type": "markdown",
   "id": "61fbeb01",
   "metadata": {},
   "source": [
    "## String Indexing.\n",
    "String indexing is method of slicing the string from where we want. Its almost like list indexing but here we use [ ] square brackets for slicing and indexing."
   ]
  },
  {
   "cell_type": "code",
   "execution_count": 32,
   "id": "de3b1134",
   "metadata": {},
   "outputs": [],
   "source": [
    "a=\"I Support Nupur Sharma\""
   ]
  },
  {
   "cell_type": "code",
   "execution_count": 33,
   "id": "71b137f4",
   "metadata": {},
   "outputs": [
    {
     "data": {
      "text/plain": [
       "'I Support Nupur Sharma'"
      ]
     },
     "execution_count": 33,
     "metadata": {},
     "output_type": "execute_result"
    }
   ],
   "source": [
    "a"
   ]
  },
  {
   "cell_type": "code",
   "execution_count": 34,
   "id": "f3877af2",
   "metadata": {},
   "outputs": [
    {
     "data": {
      "text/plain": [
       "'I'"
      ]
     },
     "execution_count": 34,
     "metadata": {},
     "output_type": "execute_result"
    }
   ],
   "source": [
    "a[0]"
   ]
  },
  {
   "cell_type": "code",
   "execution_count": 35,
   "id": "85fdf10c",
   "metadata": {},
   "outputs": [
    {
     "data": {
      "text/plain": [
       "'S'"
      ]
     },
     "execution_count": 35,
     "metadata": {},
     "output_type": "execute_result"
    }
   ],
   "source": [
    "a[2]"
   ]
  },
  {
   "cell_type": "code",
   "execution_count": 36,
   "id": "b5b3ba0d",
   "metadata": {},
   "outputs": [],
   "source": [
    "# [1:2] its meaning is 1 is starting index which are included and 2 are stop index which are excluded."
   ]
  },
  {
   "cell_type": "code",
   "execution_count": 37,
   "id": "dad910e2",
   "metadata": {},
   "outputs": [
    {
     "data": {
      "text/plain": [
       "' Suppor'"
      ]
     },
     "execution_count": 37,
     "metadata": {},
     "output_type": "execute_result"
    }
   ],
   "source": [
    "a[1:8]"
   ]
  },
  {
   "cell_type": "code",
   "execution_count": 38,
   "id": "c6c3533d",
   "metadata": {},
   "outputs": [],
   "source": [
    "#Grab last letter from a string "
   ]
  },
  {
   "cell_type": "code",
   "execution_count": 39,
   "id": "cd812b4c",
   "metadata": {},
   "outputs": [
    {
     "data": {
      "text/plain": [
       "'I Support Nupur Sharma'"
      ]
     },
     "execution_count": 39,
     "metadata": {},
     "output_type": "execute_result"
    }
   ],
   "source": [
    "a"
   ]
  },
  {
   "cell_type": "code",
   "execution_count": 43,
   "id": "b72e033f",
   "metadata": {},
   "outputs": [
    {
     "data": {
      "text/plain": [
       "'r'"
      ]
     },
     "execution_count": 43,
     "metadata": {},
     "output_type": "execute_result"
    }
   ],
   "source": [
    "a[-3]"
   ]
  },
  {
   "cell_type": "code",
   "execution_count": 47,
   "id": "183ec95a",
   "metadata": {},
   "outputs": [],
   "source": [
    "#Grab everything, but go in stepsize of 3."
   ]
  },
  {
   "cell_type": "code",
   "execution_count": 48,
   "id": "0140f783",
   "metadata": {},
   "outputs": [
    {
     "data": {
      "text/plain": [
       "'Iuo p aa'"
      ]
     },
     "execution_count": 48,
     "metadata": {},
     "output_type": "execute_result"
    }
   ],
   "source": [
    "a[::3]"
   ]
  },
  {
   "cell_type": "markdown",
   "id": "b243de90",
   "metadata": {},
   "source": [
    "## Map Fucntion\n",
    "map () is a built-in function in Python that allows you to process and transform  all the items in an iteration without using a loop."
   ]
  },
  {
   "cell_type": "code",
   "execution_count": 49,
   "id": "9a164f18",
   "metadata": {},
   "outputs": [],
   "source": [
    "def grace_marks(marks):\n",
    "    if marks==33:\n",
    "        return marks+2\n",
    "    elif marks==34:\n",
    "        return marks+1\n",
    "    else:\n",
    "        return(marks)"
   ]
  },
  {
   "cell_type": "code",
   "execution_count": 56,
   "id": "14755295",
   "metadata": {},
   "outputs": [],
   "source": [
    "score=[47,58,69,14,25,33,34,33,33,34,33]"
   ]
  },
  {
   "cell_type": "code",
   "execution_count": 57,
   "id": "eea0ebc5",
   "metadata": {},
   "outputs": [],
   "source": [
    "total=list(map(grace_marks,score))"
   ]
  },
  {
   "cell_type": "code",
   "execution_count": 58,
   "id": "c55e4b79",
   "metadata": {},
   "outputs": [
    {
     "data": {
      "text/plain": [
       "[47, 58, 69, 14, 25, 35, 35, 35, 35, 35, 35]"
      ]
     },
     "execution_count": 58,
     "metadata": {},
     "output_type": "execute_result"
    }
   ],
   "source": [
    "total"
   ]
  },
  {
   "cell_type": "code",
   "execution_count": 59,
   "id": "d224625f",
   "metadata": {},
   "outputs": [
    {
     "data": {
      "text/plain": [
       "6"
      ]
     },
     "execution_count": 59,
     "metadata": {},
     "output_type": "execute_result"
    }
   ],
   "source": [
    "total.count(35)"
   ]
  },
  {
   "cell_type": "markdown",
   "id": "e7dbf79a",
   "metadata": {},
   "source": [
    "## Filter Funtion.\n",
    "The filter () function returns an iteration where the items are filtered through a function to test if the item is accepted or not."
   ]
  },
  {
   "cell_type": "code",
   "execution_count": 60,
   "id": "0183aa9f",
   "metadata": {},
   "outputs": [],
   "source": [
    "def filter_marks(marks):\n",
    "    if marks<35:\n",
    "        return (marks)"
   ]
  },
  {
   "cell_type": "code",
   "execution_count": 61,
   "id": "96a861ae",
   "metadata": {},
   "outputs": [],
   "source": [
    "score=[47,58,69,14,25,33,34,33,33,34,33]"
   ]
  },
  {
   "cell_type": "code",
   "execution_count": 62,
   "id": "bb6396e6",
   "metadata": {},
   "outputs": [],
   "source": [
    "failed=list(filter(filter_marks,score))"
   ]
  },
  {
   "cell_type": "code",
   "execution_count": 63,
   "id": "2ea2ee99",
   "metadata": {},
   "outputs": [
    {
     "data": {
      "text/plain": [
       "[14, 25, 33, 34, 33, 33, 34, 33]"
      ]
     },
     "execution_count": 63,
     "metadata": {},
     "output_type": "execute_result"
    }
   ],
   "source": [
    "failed"
   ]
  },
  {
   "cell_type": "markdown",
   "id": "f94f5c59",
   "metadata": {},
   "source": [
    "### What is the difference between Map and Filter Fucntion.\n",
    "\n",
    "* Map Function: map accepts all element in a given list and the function can be applied to it.\n",
    "* Filter Function: Filter accepts all data in a list and runs that through a function to create a new list with all elements that returs True in that Function."
   ]
  },
  {
   "cell_type": "code",
   "execution_count": 64,
   "id": "aa978182",
   "metadata": {},
   "outputs": [
    {
     "data": {
      "text/plain": [
       "[False, True, False]"
      ]
     },
     "execution_count": 64,
     "metadata": {},
     "output_type": "execute_result"
    }
   ],
   "source": [
    "list(map(lambda var:var%2==0,[1,2,3]))"
   ]
  },
  {
   "cell_type": "code",
   "execution_count": 65,
   "id": "ca4c3b69",
   "metadata": {},
   "outputs": [
    {
     "data": {
      "text/plain": [
       "[2]"
      ]
     },
     "execution_count": 65,
     "metadata": {},
     "output_type": "execute_result"
    }
   ],
   "source": [
    "list(filter(lambda var:var%2==0,[1,2,3]))"
   ]
  },
  {
   "cell_type": "code",
   "execution_count": null,
   "id": "f7cd16f2-34de-4190-9bb2-47dc357bee74",
   "metadata": {},
   "outputs": [],
   "source": []
  }
 ],
 "metadata": {
  "kernelspec": {
   "display_name": "Python 3 (ipykernel)",
   "language": "python",
   "name": "python3"
  },
  "language_info": {
   "codemirror_mode": {
    "name": "ipython",
    "version": 3
   },
   "file_extension": ".py",
   "mimetype": "text/x-python",
   "name": "python",
   "nbconvert_exporter": "python",
   "pygments_lexer": "ipython3",
   "version": "3.11.5"
  },
  "widgets": {
   "application/vnd.jupyter.widget-state+json": {
    "state": {},
    "version_major": 2,
    "version_minor": 0
   }
  }
 },
 "nbformat": 4,
 "nbformat_minor": 5
}
