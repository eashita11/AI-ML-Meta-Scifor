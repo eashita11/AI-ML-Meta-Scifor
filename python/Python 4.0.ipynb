{
 "cells": [
  {
   "cell_type": "markdown",
   "id": "44d8177c",
   "metadata": {},
   "source": [
    "## Range, Loop, Break and Continue statement.\n",
    "\n",
    "Let's start with the Range Function."
   ]
  },
  {
   "cell_type": "markdown",
   "id": "d4fa32a7",
   "metadata": {},
   "source": [
    "What is range function ? \n",
    "* We can genrate a sequence of numbers using range() function; range(10) will generate numbers from 0 to 9 (10 numbers). \n",
    "* We can also define the starting number of range, which number to stop at, and the step size. \n",
    "* Its written in the form **(starting number, stop number, step size)** \n",
    "* To force the function to output all the items we can use the function **list()**\n"
   ]
  },
  {
   "cell_type": "code",
   "execution_count": 1,
   "id": "7a359817",
   "metadata": {},
   "outputs": [
    {
     "name": "stdout",
     "output_type": "stream",
     "text": [
      "range(0, 10)\n"
     ]
    }
   ],
   "source": [
    "print(range(10))"
   ]
  },
  {
   "cell_type": "code",
   "execution_count": 2,
   "id": "5e87a928",
   "metadata": {},
   "outputs": [],
   "source": [
    "#print range in list."
   ]
  },
  {
   "cell_type": "code",
   "execution_count": 3,
   "id": "b45c8a2b",
   "metadata": {},
   "outputs": [
    {
     "name": "stdout",
     "output_type": "stream",
     "text": [
      "[0, 1, 2, 3, 4, 5, 6, 7, 8, 9]\n"
     ]
    }
   ],
   "source": [
    "print(list(range(10)))"
   ]
  },
  {
   "cell_type": "markdown",
   "id": "01f35cd8",
   "metadata": {},
   "source": [
    "What if we wanted to generate numbers from 10 and its goes till 100 and the step size is 2."
   ]
  },
  {
   "cell_type": "code",
   "execution_count": 4,
   "id": "ba958b3c",
   "metadata": {},
   "outputs": [
    {
     "name": "stdout",
     "output_type": "stream",
     "text": [
      "[10, 12, 14, 16, 18, 20, 22, 24, 26, 28, 30, 32, 34, 36, 38, 40, 42, 44, 46, 48, 50, 52, 54, 56, 58, 60, 62, 64, 66, 68, 70, 72, 74, 76, 78, 80, 82, 84, 86, 88, 90, 92, 94, 96, 98, 100]\n"
     ]
    }
   ],
   "source": [
    "print(list(range(10,101,2)))"
   ]
  },
  {
   "cell_type": "code",
   "execution_count": 5,
   "id": "f46e8899",
   "metadata": {},
   "outputs": [],
   "source": [
    "# In the above example, we use 101 if we want to stop at 100, because the function takes stop value-1 as the actual\n",
    "# stop value"
   ]
  },
  {
   "cell_type": "code",
   "execution_count": 6,
   "id": "7666c427",
   "metadata": {},
   "outputs": [],
   "source": [
    "# Can we store range fuction in variable? Yes we can."
   ]
  },
  {
   "cell_type": "code",
   "execution_count": 7,
   "id": "e1b455c4",
   "metadata": {},
   "outputs": [],
   "source": [
    "roll_num=list(range(10,50,1))"
   ]
  },
  {
   "cell_type": "code",
   "execution_count": 8,
   "id": "e50d474d",
   "metadata": {},
   "outputs": [
    {
     "data": {
      "text/plain": [
       "[10,\n",
       " 11,\n",
       " 12,\n",
       " 13,\n",
       " 14,\n",
       " 15,\n",
       " 16,\n",
       " 17,\n",
       " 18,\n",
       " 19,\n",
       " 20,\n",
       " 21,\n",
       " 22,\n",
       " 23,\n",
       " 24,\n",
       " 25,\n",
       " 26,\n",
       " 27,\n",
       " 28,\n",
       " 29,\n",
       " 30,\n",
       " 31,\n",
       " 32,\n",
       " 33,\n",
       " 34,\n",
       " 35,\n",
       " 36,\n",
       " 37,\n",
       " 38,\n",
       " 39,\n",
       " 40,\n",
       " 41,\n",
       " 42,\n",
       " 43,\n",
       " 44,\n",
       " 45,\n",
       " 46,\n",
       " 47,\n",
       " 48,\n",
       " 49]"
      ]
     },
     "execution_count": 8,
     "metadata": {},
     "output_type": "execute_result"
    }
   ],
   "source": [
    "roll_num"
   ]
  },
  {
   "cell_type": "code",
   "execution_count": 9,
   "id": "a5bd2832",
   "metadata": {},
   "outputs": [],
   "source": [
    "# Lets see Reverse function with range fucntion.\n",
    "# if we have to go backward in range function, what we will do?"
   ]
  },
  {
   "cell_type": "code",
   "execution_count": 10,
   "id": "a1f3fdbe",
   "metadata": {},
   "outputs": [],
   "source": [
    "reverse=list(range(1600,99,-100)) #Lets Remember we have to use - sign (minus) for going backward."
   ]
  },
  {
   "cell_type": "code",
   "execution_count": 11,
   "id": "c6738ccc",
   "metadata": {},
   "outputs": [
    {
     "data": {
      "text/plain": [
       "[1600,\n",
       " 1500,\n",
       " 1400,\n",
       " 1300,\n",
       " 1200,\n",
       " 1100,\n",
       " 1000,\n",
       " 900,\n",
       " 800,\n",
       " 700,\n",
       " 600,\n",
       " 500,\n",
       " 400,\n",
       " 300,\n",
       " 200,\n",
       " 100]"
      ]
     },
     "execution_count": 11,
     "metadata": {},
     "output_type": "execute_result"
    }
   ],
   "source": [
    "reverse"
   ]
  },
  {
   "cell_type": "markdown",
   "id": "a965701c",
   "metadata": {},
   "source": [
    "## Loop Function\n",
    "\n",
    "Sometimes, we want to repeat a set of statements in our program. For instance, print 1 to 1000(with range function). Programming languages provide various control structures that allow for more complicated execution.\n",
    "\n",
    "\n",
    "There are 2 types of loop:\n",
    "* For loop \n",
    "* While loop\n",
    "First we have to study about **For loop** \n",
    "For loop is used to iterate through sequences like list, tuple, or string [iterable]. The loop continues until we reach the last number or of item in sequence.\n",
    "\n",
    "Syntax of range function- \n",
    "\n",
    "    for i in range(10):\n",
    "    print(i) \n"
   ]
  },
  {
   "cell_type": "code",
   "execution_count": 12,
   "id": "81cd3997",
   "metadata": {},
   "outputs": [],
   "source": [
    "location=[\"Korba\",\"Bilaspur\",\"Raipur\",\"Patna\",\"Siwan\"]"
   ]
  },
  {
   "cell_type": "code",
   "execution_count": 13,
   "id": "427b301a",
   "metadata": {},
   "outputs": [
    {
     "data": {
      "text/plain": [
       "['Korba', 'Bilaspur', 'Raipur', 'Patna', 'Siwan']"
      ]
     },
     "execution_count": 13,
     "metadata": {},
     "output_type": "execute_result"
    }
   ],
   "source": [
    "location  #Lets use For loop method."
   ]
  },
  {
   "cell_type": "code",
   "execution_count": 14,
   "id": "64f7aaef",
   "metadata": {},
   "outputs": [
    {
     "name": "stdout",
     "output_type": "stream",
     "text": [
      "Korba\n",
      "Bilaspur\n",
      "Raipur\n",
      "Patna\n",
      "Siwan\n"
     ]
    }
   ],
   "source": [
    "for city in location:\n",
    "    print(city)"
   ]
  },
  {
   "cell_type": "code",
   "execution_count": 15,
   "id": "48eb9995",
   "metadata": {},
   "outputs": [],
   "source": [
    "#lets apply for numbers"
   ]
  },
  {
   "cell_type": "code",
   "execution_count": 16,
   "id": "e40d3c6a",
   "metadata": {},
   "outputs": [],
   "source": [
    "salary=[1000,2000,3000,5000,7000,1000,2000,9000]"
   ]
  },
  {
   "cell_type": "code",
   "execution_count": 17,
   "id": "62b75d87",
   "metadata": {},
   "outputs": [
    {
     "name": "stdout",
     "output_type": "stream",
     "text": [
      "1000\n",
      "2000\n",
      "3000\n",
      "5000\n",
      "7000\n",
      "1000\n",
      "2000\n",
      "9000\n"
     ]
    }
   ],
   "source": [
    "for money in salary:\n",
    "    print(money)"
   ]
  },
  {
   "cell_type": "code",
   "execution_count": 18,
   "id": "acac4695",
   "metadata": {},
   "outputs": [],
   "source": [
    "#Lets see anothe example of for loop with branching statement."
   ]
  },
  {
   "cell_type": "code",
   "execution_count": 19,
   "id": "e856c956",
   "metadata": {},
   "outputs": [],
   "source": [
    "student_score=[78,98,65,45,89,87,32,65,54,98,89,78,69,58,47]"
   ]
  },
  {
   "cell_type": "code",
   "execution_count": 20,
   "id": "2fa34825",
   "metadata": {},
   "outputs": [],
   "source": [
    "# In the above cell, we have created grades for student_score in above list."
   ]
  },
  {
   "cell_type": "code",
   "execution_count": 21,
   "id": "06d03536",
   "metadata": {},
   "outputs": [
    {
     "name": "stdout",
     "output_type": "stream",
     "text": [
      "78 First class\n",
      "98 Distiction\n",
      "65 First class\n",
      "45 Just Pass\n",
      "89 Second class\n",
      "87 Second class\n",
      "32 You have failed, please try next time\n",
      "65 First class\n",
      "54 Second class\n",
      "98 Distiction\n",
      "89 Second class\n",
      "78 First class\n",
      "69 First class\n",
      "58 Second class\n",
      "47 Second class\n"
     ]
    }
   ],
   "source": [
    "for marks in student_score:\n",
    "    if marks>90:\n",
    "        if marks>85:\n",
    "            print(marks , \"Distiction\")\n",
    "        else :\n",
    "            print(marks , \"First class\")\n",
    "    elif marks >60 and marks<85 :\n",
    "        print(marks ,\"First class\")\n",
    "    elif marks>45:\n",
    "        print(marks ,\"Second class\")\n",
    "    elif marks >35:\n",
    "        print(marks ,\"Just Pass\")\n",
    "    else:\n",
    "        print(marks ,\"You have failed, please try next time\")\n",
    "        "
   ]
  },
  {
   "cell_type": "markdown",
   "id": "cc4da75b",
   "metadata": {},
   "source": [
    "## List comprehension \n",
    "List comprehension is of shorter syntax when you want to create a new list based on the values of the existing list.\n",
    "\n",
    "Let's create a list."
   ]
  },
  {
   "cell_type": "code",
   "execution_count": 22,
   "id": "27d50149",
   "metadata": {},
   "outputs": [],
   "source": [
    "salary=[1000,2000,3000,5000,7000,1000,2000,9000]\n",
    "#then apply list comprehension."
   ]
  },
  {
   "cell_type": "code",
   "execution_count": 23,
   "id": "e02319ac",
   "metadata": {},
   "outputs": [],
   "source": [
    "sal=[val for val in salary if val==2000]"
   ]
  },
  {
   "cell_type": "code",
   "execution_count": 24,
   "id": "ef0a0338",
   "metadata": {},
   "outputs": [
    {
     "data": {
      "text/plain": [
       "[2000, 2000]"
      ]
     },
     "execution_count": 24,
     "metadata": {},
     "output_type": "execute_result"
    }
   ],
   "source": [
    "sal"
   ]
  },
  {
   "cell_type": "markdown",
   "id": "0b732300",
   "metadata": {},
   "source": [
    "## For loop with Else statement\n",
    "\n",
    "For loop has an optional else block. The else part is executed if the items in the sequence used in for loop exhaust. break statement can be used to stop a for loop, in such case the else part is ignored. \n",
    "Hence a for loop else part runs when not break method occurs.\n"
   ]
  },
  {
   "cell_type": "code",
   "execution_count": 25,
   "id": "f9041f48",
   "metadata": {},
   "outputs": [],
   "source": [
    "#Print multiplication table with for loop with else."
   ]
  },
  {
   "cell_type": "code",
   "execution_count": 26,
   "id": "7433656a",
   "metadata": {},
   "outputs": [
    {
     "name": "stdout",
     "output_type": "stream",
     "text": [
      "Multiplication table for 2\n",
      "2\n",
      "4\n",
      "6\n",
      "8\n",
      "10\n",
      "12\n",
      "14\n",
      "16\n",
      "18\n",
      "20\n",
      "\n",
      "\n",
      "Multiplication table for 3\n",
      "3\n",
      "6\n",
      "9\n",
      "12\n",
      "15\n",
      "18\n",
      "21\n",
      "24\n",
      "27\n",
      "30\n",
      "\n",
      "\n",
      "Multiplication table for 4\n",
      "4\n",
      "8\n",
      "12\n",
      "16\n",
      "20\n",
      "24\n",
      "28\n",
      "32\n",
      "36\n",
      "40\n",
      "\n",
      "\n",
      "******************************\n",
      "Thats all\n",
      "******************************\n"
     ]
    }
   ],
   "source": [
    "for num in range(2,5):\n",
    "    print(\"Multiplication table for\",num)\n",
    "    for i in range(1,11):\n",
    "        print(num*i)\n",
    "        if i ==10:\n",
    "            print( \"\\n\" )\n",
    "else:\n",
    "    print(\"*\" * 30)\n",
    "    print(\"Thats all\")\n",
    "    print(\"*\" * 30)"
   ]
  },
  {
   "cell_type": "code",
   "execution_count": 27,
   "id": "ff5e8ef9",
   "metadata": {},
   "outputs": [],
   "source": [
    "#Lets see another way of print multiplication table."
   ]
  },
  {
   "cell_type": "code",
   "execution_count": 28,
   "id": "11023bcc",
   "metadata": {},
   "outputs": [
    {
     "name": "stdout",
     "output_type": "stream",
     "text": [
      "Enter Number for which you want a table: 5\n",
      "5 X 1 = 5\n",
      "5 X 2 = 10\n",
      "5 X 3 = 15\n",
      "5 X 4 = 20\n",
      "5 X 5 = 25\n",
      "5 X 6 = 30\n",
      "5 X 7 = 35\n",
      "5 X 8 = 40\n",
      "5 X 9 = 45\n",
      "5 X 10 = 50\n"
     ]
    }
   ],
   "source": [
    "num=int(input(\"Enter Number for which you want a table: \"))\n",
    "\n",
    "for i in range(1,11):\n",
    "    print(str(num), 'X' ,str(i),\"=\",str(num*i))"
   ]
  },
  {
   "cell_type": "markdown",
   "id": "df5c75de",
   "metadata": {},
   "source": [
    "### f string; Formatted String Literal\n",
    "Let's see what is F string ? Formatted string literal. It is used for f-strings; can also be used to apply number \n",
    "formatting directly to the values.\n",
    "Let's print multiplication table with f string."
   ]
  },
  {
   "cell_type": "code",
   "execution_count": 29,
   "id": "30c90b6a",
   "metadata": {},
   "outputs": [
    {
     "name": "stdout",
     "output_type": "stream",
     "text": [
      "Enter Number for which you want a table: 5\n",
      "5X1=5\n",
      "5X2=10\n",
      "5X3=15\n",
      "5X4=20\n",
      "5X5=25\n",
      "5X6=30\n",
      "5X7=35\n",
      "5X8=40\n",
      "5X9=45\n",
      "5X10=50\n"
     ]
    }
   ],
   "source": [
    "num=int(input(\"Enter Number for which you want a table: \"))\n",
    "\n",
    "for i in range(1,11):\n",
    "    print(f\"{num}X{i}={num*i}\") # We have to write varaibles in curly brackets and other is whithout curly brackets."
   ]
  },
  {
   "cell_type": "markdown",
   "id": "50590ac6",
   "metadata": {},
   "source": [
    "## While loop\n",
    "In while loop, first the condition is checked. If it evaluates to true, the body of the loop is executed, otherwise not.   \n",
    "In the loop entered, the process of [conditon executed] is continued until the condition becomes false .\n",
    "\n",
    "Python intrepret any non zero as True , None and zero are interpreted as False.\n",
    "\n",
    "Syntax of while loop:"
   ]
  },
  {
   "cell_type": "code",
   "execution_count": 30,
   "id": "247abf2e",
   "metadata": {},
   "outputs": [
    {
     "name": "stdout",
     "output_type": "stream",
     "text": [
      "0\n",
      "1\n",
      "2\n",
      "3\n",
      "4\n",
      "5\n"
     ]
    }
   ],
   "source": [
    "i=0\n",
    "while i<=5:\n",
    "    print(i)\n",
    "    i=i+1"
   ]
  },
  {
   "cell_type": "code",
   "execution_count": 31,
   "id": "e73bc2a5",
   "metadata": {},
   "outputs": [],
   "source": [
    "#One More Example of While Loop.\n",
    "#Lets say you have to set an alarm, how does it work?\n",
    "#First we have to import time."
   ]
  },
  {
   "cell_type": "code",
   "execution_count": 32,
   "id": "8ef7527e",
   "metadata": {},
   "outputs": [],
   "source": [
    "import time"
   ]
  },
  {
   "cell_type": "code",
   "execution_count": 33,
   "id": "da86f01e",
   "metadata": {},
   "outputs": [],
   "source": [
    "result =time.localtime()"
   ]
  },
  {
   "cell_type": "code",
   "execution_count": 34,
   "id": "ff5a2ee1",
   "metadata": {},
   "outputs": [
    {
     "data": {
      "text/plain": [
       "time.struct_time(tm_year=2024, tm_mon=10, tm_mday=28, tm_hour=15, tm_min=54, tm_sec=14, tm_wday=0, tm_yday=302, tm_isdst=0)"
      ]
     },
     "execution_count": 34,
     "metadata": {},
     "output_type": "execute_result"
    }
   ],
   "source": [
    "result"
   ]
  },
  {
   "cell_type": "code",
   "execution_count": 35,
   "id": "dc4206fa",
   "metadata": {},
   "outputs": [],
   "source": [
    "# Now the time is shown, now we have to set an alarm. Let's see how we set an alarm with the help of while loop."
   ]
  },
  {
   "cell_type": "code",
   "execution_count": 39,
   "id": "b13f9ad1",
   "metadata": {},
   "outputs": [
    {
     "name": "stdout",
     "output_type": "stream",
     "text": [
      "<module 'time' (built-in)>\n",
      "Wake up buddy\n"
     ]
    }
   ],
   "source": [
    "while True:\n",
    "    result=time.localtime()\n",
    "    if result.tm_hour==15 and result.tm_min==56:\n",
    "        print(time)\n",
    "        print(\"Wake up buddy\")\n",
    "        break"
   ]
  },
  {
   "cell_type": "markdown",
   "id": "4d1aea48",
   "metadata": {},
   "source": [
    "## Enumerate\n",
    "Enumerate() allows us to iterate through a sequence but it keeps track of both the index and the element.\n"
   ]
  },
  {
   "cell_type": "code",
   "execution_count": 40,
   "id": "5a66652a",
   "metadata": {},
   "outputs": [],
   "source": [
    "student=[\"Saurav\",\"Gaurav\",\"Ramesh\",\"Suresh\",\"Mukesh\"]"
   ]
  },
  {
   "cell_type": "code",
   "execution_count": 41,
   "id": "faad6de0",
   "metadata": {},
   "outputs": [
    {
     "name": "stdout",
     "output_type": "stream",
     "text": [
      "(0, 'Saurav')\n",
      "(1, 'Gaurav')\n",
      "(2, 'Ramesh')\n",
      "(3, 'Suresh')\n",
      "(4, 'Mukesh')\n"
     ]
    }
   ],
   "source": [
    "for i in enumerate(student):\n",
    "    print(i)"
   ]
  },
  {
   "cell_type": "code",
   "execution_count": 42,
   "id": "21e313c4",
   "metadata": {},
   "outputs": [],
   "source": [
    "#If we want to start numbering from our own number.\n",
    "#we use same list."
   ]
  },
  {
   "cell_type": "code",
   "execution_count": 43,
   "id": "cf93bcf4",
   "metadata": {},
   "outputs": [],
   "source": [
    "student=[\"Saurav\",\"Gaurav\",\"Ramesh\",\"Suresh\",\"Mukesh\"]"
   ]
  },
  {
   "cell_type": "code",
   "execution_count": 44,
   "id": "078a8311",
   "metadata": {},
   "outputs": [
    {
     "name": "stdout",
     "output_type": "stream",
     "text": [
      "1 Saurav\n",
      "2 Gaurav\n",
      "3 Ramesh\n",
      "4 Suresh\n",
      "5 Mukesh\n"
     ]
    }
   ],
   "source": [
    "for i,name in enumerate(student,1):\n",
    "    print(i,name)"
   ]
  },
  {
   "cell_type": "markdown",
   "id": "87a69134",
   "metadata": {},
   "source": [
    "## Zip\n",
    "Zip method is used when we join two lists. "
   ]
  },
  {
   "cell_type": "code",
   "execution_count": 45,
   "id": "771f7308",
   "metadata": {},
   "outputs": [],
   "source": [
    "student_name=[\"Ramesh\",\"Riya\",\"Yashu\",\"Rohit\",\"Amisha\"]\n",
    "student_marks=[54,98,99,100,34]"
   ]
  },
  {
   "cell_type": "code",
   "execution_count": 46,
   "id": "226f9543",
   "metadata": {},
   "outputs": [],
   "source": [
    "student_details=list(zip(student_name,student_marks))"
   ]
  },
  {
   "cell_type": "code",
   "execution_count": 47,
   "id": "e0f8e653",
   "metadata": {},
   "outputs": [
    {
     "data": {
      "text/plain": [
       "[('Ramesh', 54), ('Riya', 98), ('Yashu', 99), ('Rohit', 100), ('Amisha', 34)]"
      ]
     },
     "execution_count": 47,
     "metadata": {},
     "output_type": "execute_result"
    }
   ],
   "source": [
    "student_details"
   ]
  },
  {
   "cell_type": "code",
   "execution_count": 48,
   "id": "265f266a",
   "metadata": {},
   "outputs": [],
   "source": [
    "# How to Unzip?\n",
    "\n",
    "# use * for unziping"
   ]
  },
  {
   "cell_type": "code",
   "execution_count": 49,
   "id": "0114fd78",
   "metadata": {},
   "outputs": [],
   "source": [
    "name,marks=list(zip(*student_details))"
   ]
  },
  {
   "cell_type": "code",
   "execution_count": 50,
   "id": "72b01ed5",
   "metadata": {},
   "outputs": [
    {
     "data": {
      "text/plain": [
       "('Ramesh', 'Riya', 'Yashu', 'Rohit', 'Amisha')"
      ]
     },
     "execution_count": 50,
     "metadata": {},
     "output_type": "execute_result"
    }
   ],
   "source": [
    "name"
   ]
  },
  {
   "cell_type": "code",
   "execution_count": 51,
   "id": "26d96d37",
   "metadata": {},
   "outputs": [
    {
     "data": {
      "text/plain": [
       "(54, 98, 99, 100, 34)"
      ]
     },
     "execution_count": 51,
     "metadata": {},
     "output_type": "execute_result"
    }
   ],
   "source": [
    "marks"
   ]
  },
  {
   "cell_type": "code",
   "execution_count": 52,
   "id": "f4239ba3",
   "metadata": {},
   "outputs": [],
   "source": [
    "# How we can do enumerate and zip in same time?"
   ]
  },
  {
   "cell_type": "code",
   "execution_count": 53,
   "id": "b81ddc96",
   "metadata": {},
   "outputs": [],
   "source": [
    "student_name=[\"Ramesh\",\"Riya\",\"Yashu\",\"Rohit\",\"Amisha\"]\n",
    "student_marks=[54,98,99,100,34]"
   ]
  },
  {
   "cell_type": "code",
   "execution_count": 54,
   "id": "9e82953c",
   "metadata": {},
   "outputs": [
    {
     "name": "stdout",
     "output_type": "stream",
     "text": [
      "1 Ramesh 54\n",
      "2 Riya 98\n",
      "3 Yashu 99\n",
      "4 Rohit 100\n",
      "5 Amisha 34\n"
     ]
    }
   ],
   "source": [
    "for i,(name,marks) in enumerate(zip(student_name,student_marks),1):\n",
    "    print(i,name,marks)"
   ]
  },
  {
   "cell_type": "markdown",
   "id": "98a73e24",
   "metadata": {},
   "source": [
    "## Break\n",
    "The Break Statement used to terminate the loop, it is used in loop and switch case.\n",
    "Keyword \"break\" used in Break Statement , control is tranferred outside.\n"
   ]
  },
  {
   "cell_type": "code",
   "execution_count": 55,
   "id": "4ff41a58",
   "metadata": {},
   "outputs": [],
   "source": [
    "salary=[8000,5000,6000,7000,3000]"
   ]
  },
  {
   "cell_type": "code",
   "execution_count": 56,
   "id": "df8fc4ea",
   "metadata": {},
   "outputs": [
    {
     "name": "stdout",
     "output_type": "stream",
     "text": [
      "8000\n",
      "5000\n",
      "6000\n"
     ]
    }
   ],
   "source": [
    "for val in salary:\n",
    "    if val==7000:\n",
    "        break\n",
    "    print(val)"
   ]
  },
  {
   "cell_type": "markdown",
   "id": "80bd660d",
   "metadata": {},
   "source": [
    "## Continue \n",
    "Continue statement is used to continue the next interation in the loop; its only used in loop, keyword \"continue\" is used for continue statement, control remains in the same loop."
   ]
  },
  {
   "cell_type": "code",
   "execution_count": 57,
   "id": "eee99960",
   "metadata": {},
   "outputs": [],
   "source": [
    "salary=[8000,5000,6000,7000,3000]"
   ]
  },
  {
   "cell_type": "code",
   "execution_count": 58,
   "id": "c39c7b1d",
   "metadata": {},
   "outputs": [
    {
     "name": "stdout",
     "output_type": "stream",
     "text": [
      "8000\n",
      "5000\n",
      "7000\n",
      "3000\n"
     ]
    }
   ],
   "source": [
    "for val in salary:\n",
    "    if val==6000:\n",
    "        continue\n",
    "    print(val)    "
   ]
  },
  {
   "cell_type": "code",
   "execution_count": 59,
   "id": "c0796663",
   "metadata": {},
   "outputs": [],
   "source": [
    "#Lets see how to use break and continue statements together."
   ]
  },
  {
   "cell_type": "code",
   "execution_count": 60,
   "id": "6266f027",
   "metadata": {},
   "outputs": [
    {
     "name": "stdout",
     "output_type": "stream",
     "text": [
      "S\n",
      "t\n",
      "r\n",
      "n\n",
      "g\n",
      "e\n"
     ]
    }
   ],
   "source": [
    "for val in \"Stringexample\":\n",
    "    if val == \"i\":\n",
    "        continue\n",
    "    else:\n",
    "        if val==\"x\":\n",
    "            break\n",
    "        print(val)    "
   ]
  },
  {
   "cell_type": "code",
   "execution_count": null,
   "id": "e45ff886-4a10-4675-a1f2-89e54616f71e",
   "metadata": {},
   "outputs": [],
   "source": []
  }
 ],
 "metadata": {
  "kernelspec": {
   "display_name": "Python 3 (ipykernel)",
   "language": "python",
   "name": "python3"
  },
  "language_info": {
   "codemirror_mode": {
    "name": "ipython",
    "version": 3
   },
   "file_extension": ".py",
   "mimetype": "text/x-python",
   "name": "python",
   "nbconvert_exporter": "python",
   "pygments_lexer": "ipython3",
   "version": "3.11.5"
  },
  "widgets": {
   "application/vnd.jupyter.widget-state+json": {
    "state": {},
    "version_major": 2,
    "version_minor": 0
   }
  }
 },
 "nbformat": 4,
 "nbformat_minor": 5
}
