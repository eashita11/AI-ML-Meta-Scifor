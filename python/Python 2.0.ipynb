{
 "cells": [
  {
   "cell_type": "markdown",
   "id": "1e3aa4e3",
   "metadata": {},
   "source": [
    "## Complex Numbers\n",
    "A complex number is the same as what we studied in school. We have real numbers and imaginary numbers , \n",
    "which can be denote as *i*.\n",
    "\n",
    "example of complex number; 2+5i, But in python i is denoted with j\n"
   ]
  },
  {
   "cell_type": "code",
   "execution_count": 3,
   "id": "75aae4a2",
   "metadata": {},
   "outputs": [],
   "source": [
    "c=2+5j"
   ]
  },
  {
   "cell_type": "code",
   "execution_count": 4,
   "id": "aedad326",
   "metadata": {},
   "outputs": [
    {
     "data": {
      "text/plain": [
       "complex"
      ]
     },
     "execution_count": 4,
     "metadata": {},
     "output_type": "execute_result"
    }
   ],
   "source": [
    "type(c)"
   ]
  },
  {
   "cell_type": "code",
   "execution_count": 5,
   "id": "c4a4b68a",
   "metadata": {},
   "outputs": [],
   "source": [
    "#In data science, we don't use complex numbers."
   ]
  },
  {
   "cell_type": "markdown",
   "id": "7325f793",
   "metadata": {},
   "source": [
    "## String\n",
    "\n",
    "String is used when we use any alphabets or words in single, double and triple quotes.\n",
    "Triple quote is also used for documentation.\n"
   ]
  },
  {
   "cell_type": "code",
   "execution_count": 7,
   "id": "9a62686c",
   "metadata": {},
   "outputs": [],
   "source": [
    "a='Ram is hero'"
   ]
  },
  {
   "cell_type": "code",
   "execution_count": 8,
   "id": "fcf965cb",
   "metadata": {},
   "outputs": [
    {
     "data": {
      "text/plain": [
       "'Ram is hero'"
      ]
     },
     "execution_count": 8,
     "metadata": {},
     "output_type": "execute_result"
    }
   ],
   "source": [
    "a"
   ]
  },
  {
   "cell_type": "code",
   "execution_count": 9,
   "id": "2b5fcf2a",
   "metadata": {},
   "outputs": [
    {
     "data": {
      "text/plain": [
       "str"
      ]
     },
     "execution_count": 9,
     "metadata": {},
     "output_type": "execute_result"
    }
   ],
   "source": [
    "type(a)"
   ]
  },
  {
   "cell_type": "code",
   "execution_count": 10,
   "id": "7dd16562",
   "metadata": {},
   "outputs": [],
   "source": [
    "#one more example\n"
   ]
  },
  {
   "cell_type": "code",
   "execution_count": 11,
   "id": "186ec409",
   "metadata": {},
   "outputs": [],
   "source": [
    "str1='python'\n",
    "str2=' is a powerful'\n",
    "str3=' language'"
   ]
  },
  {
   "cell_type": "code",
   "execution_count": 12,
   "id": "46e3b359",
   "metadata": {},
   "outputs": [],
   "source": [
    "#how can we add str1, str2 and str2"
   ]
  },
  {
   "cell_type": "code",
   "execution_count": 13,
   "id": "3853bfe6",
   "metadata": {},
   "outputs": [
    {
     "name": "stdout",
     "output_type": "stream",
     "text": [
      "python is a powerful language\n"
     ]
    }
   ],
   "source": [
    "print(str1+str2+str3)"
   ]
  },
  {
   "cell_type": "code",
   "execution_count": 14,
   "id": "4508c74f",
   "metadata": {},
   "outputs": [],
   "source": [
    "#we can add directly without assigning a variable name to each string"
   ]
  },
  {
   "cell_type": "code",
   "execution_count": 15,
   "id": "dff35c98",
   "metadata": {},
   "outputs": [
    {
     "name": "stdout",
     "output_type": "stream",
     "text": [
      "saurav is ex  mining engineer\n"
     ]
    }
   ],
   "source": [
    "print(\"saurav\"+\" is ex\",\" mining engineer\")"
   ]
  },
  {
   "cell_type": "code",
   "execution_count": 16,
   "id": "49fef75e",
   "metadata": {},
   "outputs": [],
   "source": [
    "#other operation on string"
   ]
  },
  {
   "cell_type": "code",
   "execution_count": 17,
   "id": "6183c0de",
   "metadata": {},
   "outputs": [
    {
     "name": "stdout",
     "output_type": "stream",
     "text": [
      "  Day  Day  Day  Day  Day\n"
     ]
    }
   ],
   "source": [
    "print('  Day' *  5)  #(* use for multiplication)"
   ]
  },
  {
   "cell_type": "code",
   "execution_count": 18,
   "id": "84622d26",
   "metadata": {},
   "outputs": [
    {
     "name": "stdout",
     "output_type": "stream",
     "text": [
      " = = = = = = = = = = = = = = = = = = = = = = = = = = = = = = = = = = = = = = = = = = = = = = = = = = = = = = = = = = = = = = = = = = = = = = = = = = = = = = = = = = = = = = = = = = = = = = = = = = = =\n"
     ]
    }
   ],
   "source": [
    "print(' =' * 100)"
   ]
  },
  {
   "cell_type": "code",
   "execution_count": 19,
   "id": "33b1afbe",
   "metadata": {},
   "outputs": [],
   "source": [
    "# Try to add string & integer"
   ]
  },
  {
   "cell_type": "code",
   "execution_count": 20,
   "id": "f1058940",
   "metadata": {},
   "outputs": [
    {
     "ename": "TypeError",
     "evalue": "can only concatenate str (not \"int\") to str",
     "output_type": "error",
     "traceback": [
      "\u001b[0;31m---------------------------------------------------------------------------\u001b[0m",
      "\u001b[0;31mTypeError\u001b[0m                                 Traceback (most recent call last)",
      "Cell \u001b[0;32mIn[20], line 1\u001b[0m\n\u001b[0;32m----> 1\u001b[0m \u001b[38;5;28mprint\u001b[39m(\u001b[38;5;124m'\u001b[39m\u001b[38;5;124mDay\u001b[39m\u001b[38;5;124m'\u001b[39m \u001b[38;5;241m+\u001b[39m \u001b[38;5;241m5\u001b[39m)\n",
      "\u001b[0;31mTypeError\u001b[0m: can only concatenate str (not \"int\") to str"
     ]
    }
   ],
   "source": [
    "print('Day' + 5)"
   ]
  },
  {
   "cell_type": "code",
   "execution_count": 21,
   "id": "5501328c",
   "metadata": {},
   "outputs": [],
   "source": [
    "# How can we concatenate string & integer ?\n",
    "# we have to convert integer into string."
   ]
  },
  {
   "cell_type": "code",
   "execution_count": 22,
   "id": "6ce2aab1",
   "metadata": {},
   "outputs": [
    {
     "name": "stdout",
     "output_type": "stream",
     "text": [
      "Day5\n"
     ]
    }
   ],
   "source": [
    "print('Day' + str(5))"
   ]
  },
  {
   "cell_type": "markdown",
   "id": "83ac1f52",
   "metadata": {},
   "source": [
    "## Data Structure.\n",
    "\n",
    "Data structures can hold, store and save our data.\n",
    "\n",
    "There are different different typre data structure\n",
    "* List\n",
    "* Tuple\n",
    "* Set\n",
    "* Dictionary\n"
   ]
  },
  {
   "cell_type": "markdown",
   "id": "6c19a1fe",
   "metadata": {},
   "source": [
    "## List \n",
    "\n",
    "List is like a container which can hold our data, and list is always in square brackets []. It can accommodate all types of data.\n",
    "\n",
    "**Lists are mutable**.\n",
    "What is mutable ? \n",
    "Mutable means where we can edit(update,insert,add,count)our data."
   ]
  },
  {
   "cell_type": "code",
   "execution_count": 25,
   "id": "3190dc1f",
   "metadata": {},
   "outputs": [],
   "source": [
    "#Create empty  list"
   ]
  },
  {
   "cell_type": "code",
   "execution_count": 26,
   "id": "3e834648",
   "metadata": {},
   "outputs": [],
   "source": [
    "lst=[]"
   ]
  },
  {
   "cell_type": "code",
   "execution_count": 27,
   "id": "61a727ef",
   "metadata": {},
   "outputs": [
    {
     "data": {
      "text/plain": [
       "[]"
      ]
     },
     "execution_count": 27,
     "metadata": {},
     "output_type": "execute_result"
    }
   ],
   "source": [
    "lst"
   ]
  },
  {
   "cell_type": "code",
   "execution_count": 28,
   "id": "c9fd8cbc",
   "metadata": {},
   "outputs": [
    {
     "data": {
      "text/plain": [
       "list"
      ]
     },
     "execution_count": 28,
     "metadata": {},
     "output_type": "execute_result"
    }
   ],
   "source": [
    "type(lst)"
   ]
  },
  {
   "cell_type": "code",
   "execution_count": 29,
   "id": "c5d36ed9",
   "metadata": {},
   "outputs": [],
   "source": [
    "#create proper list"
   ]
  },
  {
   "cell_type": "code",
   "execution_count": 30,
   "id": "66af9183",
   "metadata": {},
   "outputs": [],
   "source": [
    "lst=['a','b','c','d']"
   ]
  },
  {
   "cell_type": "code",
   "execution_count": 31,
   "id": "f4e20203",
   "metadata": {},
   "outputs": [
    {
     "data": {
      "text/plain": [
       "['a', 'b', 'c', 'd']"
      ]
     },
     "execution_count": 31,
     "metadata": {},
     "output_type": "execute_result"
    }
   ],
   "source": [
    "lst"
   ]
  },
  {
   "cell_type": "code",
   "execution_count": 32,
   "id": "a6a09c35",
   "metadata": {},
   "outputs": [],
   "source": [
    "#How to copy a list"
   ]
  },
  {
   "cell_type": "code",
   "execution_count": 33,
   "id": "7d3ce149",
   "metadata": {},
   "outputs": [],
   "source": [
    "l2=list(lst)"
   ]
  },
  {
   "cell_type": "code",
   "execution_count": 34,
   "id": "c8bb3a1e",
   "metadata": {},
   "outputs": [
    {
     "data": {
      "text/plain": [
       "['a', 'b', 'c', 'd']"
      ]
     },
     "execution_count": 34,
     "metadata": {},
     "output_type": "execute_result"
    }
   ],
   "source": [
    "l2"
   ]
  },
  {
   "cell_type": "code",
   "execution_count": 35,
   "id": "22f60166",
   "metadata": {},
   "outputs": [],
   "source": [
    "#Differnt way to copy a list \n",
    "#Copy() Method"
   ]
  },
  {
   "cell_type": "code",
   "execution_count": 36,
   "id": "36e61f55",
   "metadata": {},
   "outputs": [],
   "source": [
    "marks=[30,40,50,60]"
   ]
  },
  {
   "cell_type": "code",
   "execution_count": 37,
   "id": "82e44359",
   "metadata": {},
   "outputs": [],
   "source": [
    "copy_marks=marks.copy()"
   ]
  },
  {
   "cell_type": "code",
   "execution_count": 38,
   "id": "3456d27a",
   "metadata": {},
   "outputs": [
    {
     "data": {
      "text/plain": [
       "[30, 40, 50, 60]"
      ]
     },
     "execution_count": 38,
     "metadata": {},
     "output_type": "execute_result"
    }
   ],
   "source": [
    "copy_marks"
   ]
  },
  {
   "cell_type": "code",
   "execution_count": 39,
   "id": "d2db1449",
   "metadata": {},
   "outputs": [],
   "source": [
    "# Another way to make list"
   ]
  },
  {
   "cell_type": "code",
   "execution_count": 40,
   "id": "881941dc",
   "metadata": {},
   "outputs": [
    {
     "data": {
      "text/plain": [
       "['s', 'a', 'u', 'r', 'a', 'v']"
      ]
     },
     "execution_count": 40,
     "metadata": {},
     "output_type": "execute_result"
    }
   ],
   "source": [
    "list('saurav') # this method can separate all the elements."
   ]
  },
  {
   "cell_type": "code",
   "execution_count": 41,
   "id": "592faa96",
   "metadata": {},
   "outputs": [],
   "source": [
    "#Lets Try with integer"
   ]
  },
  {
   "cell_type": "code",
   "execution_count": 42,
   "id": "e370470f",
   "metadata": {},
   "outputs": [
    {
     "ename": "TypeError",
     "evalue": "'int' object is not iterable",
     "output_type": "error",
     "traceback": [
      "\u001b[0;31m---------------------------------------------------------------------------\u001b[0m",
      "\u001b[0;31mTypeError\u001b[0m                                 Traceback (most recent call last)",
      "Cell \u001b[0;32mIn[42], line 1\u001b[0m\n\u001b[0;32m----> 1\u001b[0m \u001b[38;5;28mlist\u001b[39m(\u001b[38;5;241m8885\u001b[39m)\n",
      "\u001b[0;31mTypeError\u001b[0m: 'int' object is not iterable"
     ]
    }
   ],
   "source": [
    "list(8885) #integer object is not iterable"
   ]
  },
  {
   "cell_type": "code",
   "execution_count": 43,
   "id": "3c650f79",
   "metadata": {},
   "outputs": [],
   "source": [
    "#Lets Try append menthod\n",
    "#create an empty list and append data by usind append method."
   ]
  },
  {
   "cell_type": "code",
   "execution_count": 44,
   "id": "b72a3022",
   "metadata": {},
   "outputs": [],
   "source": [
    "l1=[]"
   ]
  },
  {
   "cell_type": "code",
   "execution_count": 45,
   "id": "a2038b32",
   "metadata": {},
   "outputs": [],
   "source": [
    "l1.append('saurav')"
   ]
  },
  {
   "cell_type": "code",
   "execution_count": 46,
   "id": "866cb838",
   "metadata": {},
   "outputs": [
    {
     "data": {
      "text/plain": [
       "['saurav']"
      ]
     },
     "execution_count": 46,
     "metadata": {},
     "output_type": "execute_result"
    }
   ],
   "source": [
    "l1"
   ]
  },
  {
   "cell_type": "code",
   "execution_count": 47,
   "id": "4a84e467",
   "metadata": {},
   "outputs": [],
   "source": [
    "#add one more thing\n",
    "l1.append('vicky')"
   ]
  },
  {
   "cell_type": "code",
   "execution_count": 48,
   "id": "4a55e25e",
   "metadata": {},
   "outputs": [
    {
     "data": {
      "text/plain": [
       "['saurav', 'vicky']"
      ]
     },
     "execution_count": 48,
     "metadata": {},
     "output_type": "execute_result"
    }
   ],
   "source": [
    "l1"
   ]
  },
  {
   "cell_type": "code",
   "execution_count": 49,
   "id": "1abf4ddc",
   "metadata": {},
   "outputs": [],
   "source": [
    "#add two item \n",
    "l1.append('yashu')\n",
    "l1.append('shivangi')"
   ]
  },
  {
   "cell_type": "code",
   "execution_count": 50,
   "id": "dc799445",
   "metadata": {},
   "outputs": [
    {
     "data": {
      "text/plain": [
       "['saurav', 'vicky', 'yashu', 'shivangi']"
      ]
     },
     "execution_count": 50,
     "metadata": {},
     "output_type": "execute_result"
    }
   ],
   "source": [
    "l1"
   ]
  },
  {
   "cell_type": "code",
   "execution_count": 52,
   "id": "0c9e4252",
   "metadata": {},
   "outputs": [],
   "source": [
    "#index and insert - Two arguments can be placed in insert method\n",
    "\n",
    "#insert(index,insert) means, the index is where we have to add objects and meaning of insert is what object we have to store.\n",
    "\n",
    "# an example"
   ]
  },
  {
   "cell_type": "code",
   "execution_count": 53,
   "id": "b57c1179",
   "metadata": {},
   "outputs": [],
   "source": [
    "l1=['saurav','vicky','minakshi','Donald Trump','Imran khan']"
   ]
  },
  {
   "cell_type": "code",
   "execution_count": 54,
   "id": "26996428",
   "metadata": {},
   "outputs": [
    {
     "data": {
      "text/plain": [
       "['saurav', 'vicky', 'minakshi', 'Donald Trump', 'Imran khan']"
      ]
     },
     "execution_count": 54,
     "metadata": {},
     "output_type": "execute_result"
    }
   ],
   "source": [
    "l1"
   ]
  },
  {
   "cell_type": "code",
   "execution_count": 55,
   "id": "daf75bc6",
   "metadata": {},
   "outputs": [],
   "source": [
    "#now we will insert an element in the place of Imran Khan"
   ]
  },
  {
   "cell_type": "code",
   "execution_count": 56,
   "id": "3af5c569",
   "metadata": {},
   "outputs": [],
   "source": [
    "l1.insert(4,'putin')"
   ]
  },
  {
   "cell_type": "code",
   "execution_count": 57,
   "id": "e8573d73",
   "metadata": {},
   "outputs": [
    {
     "data": {
      "text/plain": [
       "['saurav', 'vicky', 'minakshi', 'Donald Trump', 'putin', 'Imran khan']"
      ]
     },
     "execution_count": 57,
     "metadata": {},
     "output_type": "execute_result"
    }
   ],
   "source": [
    "l1"
   ]
  },
  {
   "cell_type": "code",
   "execution_count": 58,
   "id": "cbbdf815",
   "metadata": {},
   "outputs": [],
   "source": [
    "#one more example with numbers"
   ]
  },
  {
   "cell_type": "code",
   "execution_count": 59,
   "id": "ba50ac6f",
   "metadata": {},
   "outputs": [],
   "source": [
    "l1=[11,22,33,44,55,66]"
   ]
  },
  {
   "cell_type": "code",
   "execution_count": 60,
   "id": "2933d087",
   "metadata": {},
   "outputs": [],
   "source": [
    "l1.insert(2,88)"
   ]
  },
  {
   "cell_type": "code",
   "execution_count": 61,
   "id": "4a1fc83f",
   "metadata": {},
   "outputs": [
    {
     "data": {
      "text/plain": [
       "[11, 22, 88, 33, 44, 55, 66]"
      ]
     },
     "execution_count": 61,
     "metadata": {},
     "output_type": "execute_result"
    }
   ],
   "source": [
    "l1"
   ]
  },
  {
   "cell_type": "code",
   "execution_count": 62,
   "id": "c981cd5e",
   "metadata": {},
   "outputs": [],
   "source": [
    "# more list methods - len()\n",
    "\n",
    "# To check number of total elements in the list.\n",
    "\n",
    "# lets create a list"
   ]
  },
  {
   "cell_type": "code",
   "execution_count": 63,
   "id": "8cae174d",
   "metadata": {},
   "outputs": [],
   "source": [
    "l1=[44,55,66,99,77,88]"
   ]
  },
  {
   "cell_type": "code",
   "execution_count": 64,
   "id": "c18c92a6",
   "metadata": {},
   "outputs": [
    {
     "data": {
      "text/plain": [
       "6"
      ]
     },
     "execution_count": 64,
     "metadata": {},
     "output_type": "execute_result"
    }
   ],
   "source": [
    "len(l1)"
   ]
  },
  {
   "cell_type": "code",
   "execution_count": 65,
   "id": "cebdfa99",
   "metadata": {},
   "outputs": [],
   "source": [
    "#Indexing and Slicing; always in square brackets[]\n",
    "#creating a list"
   ]
  },
  {
   "cell_type": "code",
   "execution_count": 66,
   "id": "67bbd8a9",
   "metadata": {},
   "outputs": [],
   "source": [
    "l1=['saurav','gaurav','lovely','advit']"
   ]
  },
  {
   "cell_type": "code",
   "execution_count": 67,
   "id": "6a547a97",
   "metadata": {},
   "outputs": [
    {
     "data": {
      "text/plain": [
       "'saurav'"
      ]
     },
     "execution_count": 67,
     "metadata": {},
     "output_type": "execute_result"
    }
   ],
   "source": [
    "l1[0]"
   ]
  },
  {
   "cell_type": "code",
   "execution_count": 68,
   "id": "123ac6bb",
   "metadata": {},
   "outputs": [
    {
     "data": {
      "text/plain": [
       "'gaurav'"
      ]
     },
     "execution_count": 68,
     "metadata": {},
     "output_type": "execute_result"
    }
   ],
   "source": [
    "l1[1]"
   ]
  },
  {
   "cell_type": "code",
   "execution_count": 69,
   "id": "1db15d47",
   "metadata": {},
   "outputs": [
    {
     "data": {
      "text/plain": [
       "'lovely'"
      ]
     },
     "execution_count": 69,
     "metadata": {},
     "output_type": "execute_result"
    }
   ],
   "source": [
    "l1[2]"
   ]
  },
  {
   "cell_type": "code",
   "execution_count": 70,
   "id": "29fdaeec",
   "metadata": {},
   "outputs": [
    {
     "data": {
      "text/plain": [
       "'advit'"
      ]
     },
     "execution_count": 70,
     "metadata": {},
     "output_type": "execute_result"
    }
   ],
   "source": [
    "l1[3]"
   ]
  },
  {
   "cell_type": "code",
   "execution_count": 71,
   "id": "ddf49864",
   "metadata": {},
   "outputs": [],
   "source": [
    "#How to replace an object in list\n",
    "#we have to replace advit by babu"
   ]
  },
  {
   "cell_type": "code",
   "execution_count": 72,
   "id": "cc3bb803",
   "metadata": {},
   "outputs": [],
   "source": [
    "l1[3]='Babu'"
   ]
  },
  {
   "cell_type": "code",
   "execution_count": 73,
   "id": "d275d48a",
   "metadata": {},
   "outputs": [
    {
     "data": {
      "text/plain": [
       "['saurav', 'gaurav', 'lovely', 'Babu']"
      ]
     },
     "execution_count": 73,
     "metadata": {},
     "output_type": "execute_result"
    }
   ],
   "source": [
    "l1"
   ]
  },
  {
   "cell_type": "code",
   "execution_count": 74,
   "id": "543478ff",
   "metadata": {},
   "outputs": [],
   "source": [
    "#Replace with Integer\n",
    "#lets create a list with numbers"
   ]
  },
  {
   "cell_type": "code",
   "execution_count": 75,
   "id": "08064661",
   "metadata": {},
   "outputs": [],
   "source": [
    "l1=[11,22,33,66,44,88,99,44]"
   ]
  },
  {
   "cell_type": "code",
   "execution_count": 76,
   "id": "74b6c811",
   "metadata": {},
   "outputs": [],
   "source": [
    "#in l1, replace 66 with 1607"
   ]
  },
  {
   "cell_type": "code",
   "execution_count": 77,
   "id": "5a4f2dc7",
   "metadata": {},
   "outputs": [],
   "source": [
    "l1[3]=1607"
   ]
  },
  {
   "cell_type": "code",
   "execution_count": 78,
   "id": "8467a325",
   "metadata": {},
   "outputs": [
    {
     "data": {
      "text/plain": [
       "[11, 22, 33, 1607, 44, 88, 99, 44]"
      ]
     },
     "execution_count": 78,
     "metadata": {},
     "output_type": "execute_result"
    }
   ],
   "source": [
    "l1"
   ]
  },
  {
   "cell_type": "code",
   "execution_count": 79,
   "id": "e7147adf",
   "metadata": {},
   "outputs": [],
   "source": [
    "# index 1 onwards in l1"
   ]
  },
  {
   "cell_type": "code",
   "execution_count": 80,
   "id": "12b31b91",
   "metadata": {},
   "outputs": [
    {
     "data": {
      "text/plain": [
       "[11, 22, 33, 1607, 44, 88, 99, 44]"
      ]
     },
     "execution_count": 80,
     "metadata": {},
     "output_type": "execute_result"
    }
   ],
   "source": [
    "l1"
   ]
  },
  {
   "cell_type": "code",
   "execution_count": 81,
   "id": "f7bf04e4",
   "metadata": {},
   "outputs": [
    {
     "data": {
      "text/plain": [
       "[22, 33, 1607, 44, 88, 99, 44]"
      ]
     },
     "execution_count": 81,
     "metadata": {},
     "output_type": "execute_result"
    }
   ],
   "source": [
    "l1[1:]"
   ]
  },
  {
   "cell_type": "code",
   "execution_count": 82,
   "id": "4c448043",
   "metadata": {},
   "outputs": [
    {
     "data": {
      "text/plain": [
       "[33, 1607, 44, 88, 99, 44]"
      ]
     },
     "execution_count": 82,
     "metadata": {},
     "output_type": "execute_result"
    }
   ],
   "source": [
    "l1[2:]"
   ]
  },
  {
   "cell_type": "code",
   "execution_count": 83,
   "id": "668b9479",
   "metadata": {},
   "outputs": [],
   "source": [
    "#see and understand"
   ]
  },
  {
   "cell_type": "code",
   "execution_count": 84,
   "id": "d111d20d",
   "metadata": {},
   "outputs": [
    {
     "data": {
      "text/plain": [
       "[11, 22, 33, 1607, 44, 88, 99, 44]"
      ]
     },
     "execution_count": 84,
     "metadata": {},
     "output_type": "execute_result"
    }
   ],
   "source": [
    "l1"
   ]
  },
  {
   "cell_type": "code",
   "execution_count": 85,
   "id": "bdfc39d2",
   "metadata": {},
   "outputs": [
    {
     "data": {
      "text/plain": [
       "[22, 33, 1607, 44, 88, 99]"
      ]
     },
     "execution_count": 85,
     "metadata": {},
     "output_type": "execute_result"
    }
   ],
   "source": [
    "l1[1:7] # what is done here?"
   ]
  },
  {
   "cell_type": "code",
   "execution_count": 86,
   "id": "46bf00b8",
   "metadata": {},
   "outputs": [
    {
     "data": {
      "text/plain": [
       "[11, 22, 33]"
      ]
     },
     "execution_count": 86,
     "metadata": {},
     "output_type": "execute_result"
    }
   ],
   "source": [
    "l1[:3]"
   ]
  },
  {
   "cell_type": "code",
   "execution_count": 87,
   "id": "ea7ac5e1",
   "metadata": {},
   "outputs": [],
   "source": [
    "#we also use \"+\" sign to concatenate list, just like we did for string"
   ]
  },
  {
   "cell_type": "code",
   "execution_count": 88,
   "id": "c9b79da0",
   "metadata": {},
   "outputs": [
    {
     "data": {
      "text/plain": [
       "[11, 22, 33, 1607, 44, 88, 99, 44]"
      ]
     },
     "execution_count": 88,
     "metadata": {},
     "output_type": "execute_result"
    }
   ],
   "source": [
    "l1"
   ]
  },
  {
   "cell_type": "code",
   "execution_count": 89,
   "id": "1fe2f3d7",
   "metadata": {},
   "outputs": [
    {
     "data": {
      "text/plain": [
       "[11, 22, 33, 1607, 44, 88, 99, 44]"
      ]
     },
     "execution_count": 89,
     "metadata": {},
     "output_type": "execute_result"
    }
   ],
   "source": [
    "l1"
   ]
  },
  {
   "cell_type": "code",
   "execution_count": 90,
   "id": "23e8d403",
   "metadata": {},
   "outputs": [
    {
     "data": {
      "text/plain": [
       "[11, 22, 33, 1607, 44, 88, 99, 44, 6622]"
      ]
     },
     "execution_count": 90,
     "metadata": {},
     "output_type": "execute_result"
    }
   ],
   "source": [
    "l1+[6622]"
   ]
  },
  {
   "cell_type": "code",
   "execution_count": 91,
   "id": "3ac823a9",
   "metadata": {},
   "outputs": [],
   "source": [
    "# this concatenate method does not change the list permanently.\n",
    "# if you want to concatenate permanently you use different method"
   ]
  },
  {
   "cell_type": "code",
   "execution_count": 92,
   "id": "843a3b51",
   "metadata": {},
   "outputs": [],
   "source": [
    "l1=l1+[5566]"
   ]
  },
  {
   "cell_type": "code",
   "execution_count": 93,
   "id": "7987ffa8",
   "metadata": {},
   "outputs": [
    {
     "data": {
      "text/plain": [
       "[11, 22, 33, 1607, 44, 88, 99, 44, 5566]"
      ]
     },
     "execution_count": 93,
     "metadata": {},
     "output_type": "execute_result"
    }
   ],
   "source": [
    "l1"
   ]
  },
  {
   "cell_type": "code",
   "execution_count": 94,
   "id": "3980d80a",
   "metadata": {},
   "outputs": [],
   "source": [
    "#if you want to duplicate lists\n"
   ]
  },
  {
   "cell_type": "code",
   "execution_count": 95,
   "id": "17d28085",
   "metadata": {},
   "outputs": [
    {
     "data": {
      "text/plain": [
       "[11, 22, 33, 1607, 44, 88, 99, 44, 5566]"
      ]
     },
     "execution_count": 95,
     "metadata": {},
     "output_type": "execute_result"
    }
   ],
   "source": [
    "l1"
   ]
  },
  {
   "cell_type": "code",
   "execution_count": 96,
   "id": "05327f39",
   "metadata": {},
   "outputs": [
    {
     "data": {
      "text/plain": [
       "[11,\n",
       " 22,\n",
       " 33,\n",
       " 1607,\n",
       " 44,\n",
       " 88,\n",
       " 99,\n",
       " 44,\n",
       " 5566,\n",
       " 11,\n",
       " 22,\n",
       " 33,\n",
       " 1607,\n",
       " 44,\n",
       " 88,\n",
       " 99,\n",
       " 44,\n",
       " 5566,\n",
       " 11,\n",
       " 22,\n",
       " 33,\n",
       " 1607,\n",
       " 44,\n",
       " 88,\n",
       " 99,\n",
       " 44,\n",
       " 5566,\n",
       " 11,\n",
       " 22,\n",
       " 33,\n",
       " 1607,\n",
       " 44,\n",
       " 88,\n",
       " 99,\n",
       " 44,\n",
       " 5566]"
      ]
     },
     "execution_count": 96,
     "metadata": {},
     "output_type": "execute_result"
    }
   ],
   "source": [
    "l1 * 4 #like that"
   ]
  },
  {
   "cell_type": "code",
   "execution_count": 97,
   "id": "b11efd22",
   "metadata": {},
   "outputs": [],
   "source": [
    "# if you want to decorate your code\n",
    "\n",
    "# making a list and decorate"
   ]
  },
  {
   "cell_type": "code",
   "execution_count": 98,
   "id": "a8f7a4fe",
   "metadata": {},
   "outputs": [
    {
     "name": "stdout",
     "output_type": "stream",
     "text": [
      "====================================================================================================\n",
      "[11, 22, 33, 1607, 44, 88, 99, 44, 5566]\n",
      "====================================================================================================\n"
     ]
    }
   ],
   "source": [
    "print('=' * 100)\n",
    "\n",
    "print(l1)\n",
    "\n",
    "print('=' * 100)   #like that"
   ]
  },
  {
   "cell_type": "code",
   "execution_count": 99,
   "id": "13977bd6",
   "metadata": {},
   "outputs": [],
   "source": [
    "#if you double anything by using * method they dont double permanently"
   ]
  },
  {
   "cell_type": "code",
   "execution_count": 100,
   "id": "58e85572",
   "metadata": {},
   "outputs": [],
   "source": [
    "#Advanced List\n",
    "\n",
    "#count method\n",
    "\n",
    "# count method can show how many times an element has been repeated.\n",
    "\n",
    "#create list with the name of marks"
   ]
  },
  {
   "cell_type": "code",
   "execution_count": 101,
   "id": "3f6d8009",
   "metadata": {},
   "outputs": [],
   "source": [
    "marks=[51,56,89,78,89,45,56,12,12,32,45,32,65,45,89,78,45,56,23,12,4,5,23,23,56,]"
   ]
  },
  {
   "cell_type": "code",
   "execution_count": 102,
   "id": "c946c53a",
   "metadata": {},
   "outputs": [],
   "source": [
    "#we have to find how many times 23 has been repeated in the list."
   ]
  },
  {
   "cell_type": "code",
   "execution_count": 103,
   "id": "368db823",
   "metadata": {},
   "outputs": [
    {
     "data": {
      "text/plain": [
       "3"
      ]
     },
     "execution_count": 103,
     "metadata": {},
     "output_type": "execute_result"
    }
   ],
   "source": [
    "marks.count(23)"
   ]
  },
  {
   "cell_type": "code",
   "execution_count": 104,
   "id": "37d2ccd5",
   "metadata": {},
   "outputs": [
    {
     "data": {
      "text/plain": [
       "3"
      ]
     },
     "execution_count": 104,
     "metadata": {},
     "output_type": "execute_result"
    }
   ],
   "source": [
    "marks.count(89)"
   ]
  },
  {
   "cell_type": "code",
   "execution_count": 105,
   "id": "b0201739",
   "metadata": {},
   "outputs": [],
   "source": [
    "# this will show only first element index if there are repeatitions."
   ]
  },
  {
   "cell_type": "code",
   "execution_count": 106,
   "id": "5aa2c22f",
   "metadata": {},
   "outputs": [],
   "source": [
    "#Extend Method.\n",
    "\n",
    "#what is the the diffrences between extend and append method?"
   ]
  },
  {
   "cell_type": "code",
   "execution_count": 113,
   "id": "851de6f9",
   "metadata": {},
   "outputs": [],
   "source": [
    "lst=['munmun','lovely']"
   ]
  },
  {
   "cell_type": "code",
   "execution_count": 114,
   "id": "931562d4",
   "metadata": {},
   "outputs": [
    {
     "data": {
      "text/plain": [
       "['munmun', 'lovely']"
      ]
     },
     "execution_count": 114,
     "metadata": {},
     "output_type": "execute_result"
    }
   ],
   "source": [
    "lst"
   ]
  },
  {
   "cell_type": "code",
   "execution_count": 115,
   "id": "85b2d679",
   "metadata": {},
   "outputs": [],
   "source": [
    "lst.append(['amisha','khushi'])"
   ]
  },
  {
   "cell_type": "code",
   "execution_count": 116,
   "id": "44cc371b",
   "metadata": {},
   "outputs": [
    {
     "data": {
      "text/plain": [
       "['munmun', 'lovely', ['amisha', 'khushi']]"
      ]
     },
     "execution_count": 116,
     "metadata": {},
     "output_type": "execute_result"
    }
   ],
   "source": [
    "lst"
   ]
  },
  {
   "cell_type": "code",
   "execution_count": 117,
   "id": "2bbf5697",
   "metadata": {},
   "outputs": [],
   "source": [
    "#that does not look like right .\n",
    "#lets check with extend method"
   ]
  },
  {
   "cell_type": "code",
   "execution_count": 118,
   "id": "829a6232",
   "metadata": {},
   "outputs": [],
   "source": [
    "lst1=['munmun','lovely']"
   ]
  },
  {
   "cell_type": "code",
   "execution_count": 119,
   "id": "257b115e",
   "metadata": {},
   "outputs": [
    {
     "data": {
      "text/plain": [
       "['munmun', 'lovely']"
      ]
     },
     "execution_count": 119,
     "metadata": {},
     "output_type": "execute_result"
    }
   ],
   "source": [
    "lst1"
   ]
  },
  {
   "cell_type": "code",
   "execution_count": 120,
   "id": "f67094e0",
   "metadata": {},
   "outputs": [],
   "source": [
    "lst1.extend(['amisha','khushi'])"
   ]
  },
  {
   "cell_type": "code",
   "execution_count": 121,
   "id": "180340d5",
   "metadata": {},
   "outputs": [
    {
     "data": {
      "text/plain": [
       "['munmun', 'lovely', 'amisha', 'khushi']"
      ]
     },
     "execution_count": 121,
     "metadata": {},
     "output_type": "execute_result"
    }
   ],
   "source": [
    "lst1"
   ]
  },
  {
   "cell_type": "code",
   "execution_count": 122,
   "id": "799eeb18",
   "metadata": {},
   "outputs": [],
   "source": [
    "#similarly you can add integer elements as well; the concept is the same for any datatype."
   ]
  },
  {
   "cell_type": "code",
   "execution_count": 123,
   "id": "83496f0b",
   "metadata": {},
   "outputs": [],
   "source": [
    "#Pop method\n",
    "#Pop method deletes the last index element from any list.\n",
    "#lets see with example."
   ]
  },
  {
   "cell_type": "code",
   "execution_count": 124,
   "id": "0ffbf318",
   "metadata": {},
   "outputs": [],
   "source": [
    "lst1=['Raj','Saurav','Garima','Riya','Gaurav','Ratnesh','Shailesh']"
   ]
  },
  {
   "cell_type": "code",
   "execution_count": 125,
   "id": "340454f9",
   "metadata": {},
   "outputs": [
    {
     "data": {
      "text/plain": [
       "['Raj', 'Saurav', 'Garima', 'Riya', 'Gaurav', 'Ratnesh', 'Shailesh']"
      ]
     },
     "execution_count": 125,
     "metadata": {},
     "output_type": "execute_result"
    }
   ],
   "source": [
    "lst1"
   ]
  },
  {
   "cell_type": "code",
   "execution_count": 126,
   "id": "8cd0b79c",
   "metadata": {},
   "outputs": [],
   "source": [
    "#what would we do if we had to delete \"Shailesh\" from our list."
   ]
  },
  {
   "cell_type": "code",
   "execution_count": 127,
   "id": "0b873a77",
   "metadata": {},
   "outputs": [],
   "source": [
    "pop_shailesh=lst1.pop()"
   ]
  },
  {
   "cell_type": "code",
   "execution_count": 128,
   "id": "328c58dd",
   "metadata": {},
   "outputs": [
    {
     "data": {
      "text/plain": [
       "'Shailesh'"
      ]
     },
     "execution_count": 128,
     "metadata": {},
     "output_type": "execute_result"
    }
   ],
   "source": [
    "pop_shailesh"
   ]
  },
  {
   "cell_type": "code",
   "execution_count": 129,
   "id": "95e167d6",
   "metadata": {},
   "outputs": [
    {
     "data": {
      "text/plain": [
       "['Raj', 'Saurav', 'Garima', 'Riya', 'Gaurav', 'Ratnesh']"
      ]
     },
     "execution_count": 129,
     "metadata": {},
     "output_type": "execute_result"
    }
   ],
   "source": [
    "lst1"
   ]
  },
  {
   "cell_type": "code",
   "execution_count": 130,
   "id": "d4979ba4",
   "metadata": {},
   "outputs": [],
   "source": [
    "#Delete based on index positon\n",
    "#lets check"
   ]
  },
  {
   "cell_type": "code",
   "execution_count": 131,
   "id": "cb0bbc3b",
   "metadata": {},
   "outputs": [
    {
     "data": {
      "text/plain": [
       "['Raj', 'Saurav', 'Garima', 'Riya', 'Gaurav', 'Ratnesh']"
      ]
     },
     "execution_count": 131,
     "metadata": {},
     "output_type": "execute_result"
    }
   ],
   "source": [
    "lst1"
   ]
  },
  {
   "cell_type": "code",
   "execution_count": 132,
   "id": "ac6fc45a",
   "metadata": {},
   "outputs": [],
   "source": [
    "#we have to delete \"Garima\" From our list"
   ]
  },
  {
   "cell_type": "code",
   "execution_count": 133,
   "id": "1dc4fac3",
   "metadata": {},
   "outputs": [],
   "source": [
    "pop_garima=lst1.pop(2)"
   ]
  },
  {
   "cell_type": "code",
   "execution_count": 134,
   "id": "bda8b090",
   "metadata": {},
   "outputs": [
    {
     "data": {
      "text/plain": [
       "'Garima'"
      ]
     },
     "execution_count": 134,
     "metadata": {},
     "output_type": "execute_result"
    }
   ],
   "source": [
    "pop_garima"
   ]
  },
  {
   "cell_type": "code",
   "execution_count": 135,
   "id": "12474efb",
   "metadata": {},
   "outputs": [
    {
     "data": {
      "text/plain": [
       "['Raj', 'Saurav', 'Riya', 'Gaurav', 'Ratnesh']"
      ]
     },
     "execution_count": 135,
     "metadata": {},
     "output_type": "execute_result"
    }
   ],
   "source": [
    "lst1"
   ]
  },
  {
   "cell_type": "code",
   "execution_count": 136,
   "id": "fae00c5e",
   "metadata": {},
   "outputs": [],
   "source": [
    "#Remove method\n",
    "#Remove method helps to delete element from our list.\n",
    "#lets see with example"
   ]
  },
  {
   "cell_type": "code",
   "execution_count": 137,
   "id": "c1afaa5d",
   "metadata": {},
   "outputs": [],
   "source": [
    "lst1=[12,33,66,55,44,77,88,99,11,22,33,44,55,66,77,88]"
   ]
  },
  {
   "cell_type": "code",
   "execution_count": 138,
   "id": "904aaa37",
   "metadata": {},
   "outputs": [],
   "source": [
    "lst1.remove(55)"
   ]
  },
  {
   "cell_type": "code",
   "execution_count": 139,
   "id": "bfb1b51e",
   "metadata": {},
   "outputs": [
    {
     "data": {
      "text/plain": [
       "[12, 33, 66, 44, 77, 88, 99, 11, 22, 33, 44, 55, 66, 77, 88]"
      ]
     },
     "execution_count": 139,
     "metadata": {},
     "output_type": "execute_result"
    }
   ],
   "source": [
    "lst1"
   ]
  },
  {
   "cell_type": "code",
   "execution_count": 140,
   "id": "83ee314a",
   "metadata": {},
   "outputs": [],
   "source": [
    "#Remove method only works with integer.\n",
    "#and they can delete first element if there is any repeatition"
   ]
  },
  {
   "cell_type": "code",
   "execution_count": 141,
   "id": "41cf7100",
   "metadata": {},
   "outputs": [],
   "source": [
    "#Reverse Method.\n",
    "\n",
    "#Reverse method helps in to reverse show the all element in list."
   ]
  },
  {
   "cell_type": "code",
   "execution_count": 142,
   "id": "c3b52409",
   "metadata": {},
   "outputs": [],
   "source": [
    "lst1=[11,22,33,44,55,66,44,55,66,77,88,99]"
   ]
  },
  {
   "cell_type": "code",
   "execution_count": 143,
   "id": "8d9943cd",
   "metadata": {},
   "outputs": [],
   "source": [
    "lst1.reverse()"
   ]
  },
  {
   "cell_type": "code",
   "execution_count": 144,
   "id": "200abdbd",
   "metadata": {},
   "outputs": [
    {
     "data": {
      "text/plain": [
       "[99, 88, 77, 66, 55, 44, 66, 55, 44, 33, 22, 11]"
      ]
     },
     "execution_count": 144,
     "metadata": {},
     "output_type": "execute_result"
    }
   ],
   "source": [
    "lst1"
   ]
  },
  {
   "cell_type": "code",
   "execution_count": 145,
   "id": "f8386f1c",
   "metadata": {},
   "outputs": [],
   "source": [
    "#Sort Method\n",
    "\n",
    "#Sort method helps in arranging the elements in ascending and descending order."
   ]
  },
  {
   "cell_type": "code",
   "execution_count": 146,
   "id": "f4f948cb",
   "metadata": {},
   "outputs": [
    {
     "data": {
      "text/plain": [
       "[99, 88, 77, 66, 55, 44, 66, 55, 44, 33, 22, 11]"
      ]
     },
     "execution_count": 146,
     "metadata": {},
     "output_type": "execute_result"
    }
   ],
   "source": [
    "lst1"
   ]
  },
  {
   "cell_type": "code",
   "execution_count": 147,
   "id": "c3af82ba",
   "metadata": {},
   "outputs": [],
   "source": [
    "lst1.sort()"
   ]
  },
  {
   "cell_type": "code",
   "execution_count": 148,
   "id": "172b75e0",
   "metadata": {},
   "outputs": [
    {
     "data": {
      "text/plain": [
       "[11, 22, 33, 44, 44, 55, 55, 66, 66, 77, 88, 99]"
      ]
     },
     "execution_count": 148,
     "metadata": {},
     "output_type": "execute_result"
    }
   ],
   "source": [
    "lst1"
   ]
  },
  {
   "cell_type": "code",
   "execution_count": 149,
   "id": "27480185",
   "metadata": {},
   "outputs": [],
   "source": [
    "#sort in descending order."
   ]
  },
  {
   "cell_type": "code",
   "execution_count": 150,
   "id": "ebaf3cf3",
   "metadata": {},
   "outputs": [
    {
     "data": {
      "text/plain": [
       "[11, 22, 33, 44, 44, 55, 55, 66, 66, 77, 88, 99]"
      ]
     },
     "execution_count": 150,
     "metadata": {},
     "output_type": "execute_result"
    }
   ],
   "source": [
    "lst1"
   ]
  },
  {
   "cell_type": "code",
   "execution_count": 151,
   "id": "1ace3698",
   "metadata": {},
   "outputs": [],
   "source": [
    "lst1.sort(reverse=True)"
   ]
  },
  {
   "cell_type": "code",
   "execution_count": 152,
   "id": "af546722",
   "metadata": {},
   "outputs": [
    {
     "data": {
      "text/plain": [
       "[99, 88, 77, 66, 66, 55, 55, 44, 44, 33, 22, 11]"
      ]
     },
     "execution_count": 152,
     "metadata": {},
     "output_type": "execute_result"
    }
   ],
   "source": [
    "lst1"
   ]
  },
  {
   "cell_type": "code",
   "execution_count": null,
   "id": "348acc67-ae29-4542-9fcb-0597ba9cd629",
   "metadata": {},
   "outputs": [],
   "source": []
  }
 ],
 "metadata": {
  "kernelspec": {
   "display_name": "Python 3 (ipykernel)",
   "language": "python",
   "name": "python3"
  },
  "language_info": {
   "codemirror_mode": {
    "name": "ipython",
    "version": 3
   },
   "file_extension": ".py",
   "mimetype": "text/x-python",
   "name": "python",
   "nbconvert_exporter": "python",
   "pygments_lexer": "ipython3",
   "version": "3.11.5"
  },
  "widgets": {
   "application/vnd.jupyter.widget-state+json": {
    "state": {},
    "version_major": 2,
    "version_minor": 0
   }
  }
 },
 "nbformat": 4,
 "nbformat_minor": 5
}
