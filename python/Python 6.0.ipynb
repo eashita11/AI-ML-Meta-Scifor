{
 "cells": [
  {
   "cell_type": "markdown",
   "id": "5f088e85",
   "metadata": {},
   "source": [
    "## Global and Local Variables\n",
    "Global varibale is defined as the variable we can use both outside and inside the function."
   ]
  },
  {
   "cell_type": "code",
   "execution_count": 1,
   "id": "478423fc",
   "metadata": {},
   "outputs": [],
   "source": [
    "extra_marks=10   #Its a global variable"
   ]
  },
  {
   "cell_type": "markdown",
   "id": "7f4f41e6",
   "metadata": {},
   "source": [
    "## Local variable\n",
    "Local varibale is defined as the varible which can be used only inside the function."
   ]
  },
  {
   "cell_type": "code",
   "execution_count": 2,
   "id": "e5b36f3d",
   "metadata": {},
   "outputs": [],
   "source": [
    "def total_marks():\n",
    "    some_marks=50   #its a local variable, and it does not work outside the function\n",
    "    print(\"printing inside the fucntion and the total is \",50+some_marks+total_marks)"
   ]
  },
  {
   "cell_type": "code",
   "execution_count": 3,
   "id": "c8fc19b0",
   "metadata": {},
   "outputs": [],
   "source": [
    "#How to use local varibale outside the function"
   ]
  },
  {
   "cell_type": "code",
   "execution_count": 4,
   "id": "74db7824",
   "metadata": {},
   "outputs": [],
   "source": [
    "def local_global():\n",
    "    global var12    # what can we do for var12. (\"there is a coversion\")\n",
    "    var12=\"This is fantastic\"\n",
    "    print(var12)"
   ]
  },
  {
   "cell_type": "code",
   "execution_count": 5,
   "id": "baf67c0b",
   "metadata": {},
   "outputs": [
    {
     "name": "stdout",
     "output_type": "stream",
     "text": [
      "This is fantastic\n"
     ]
    }
   ],
   "source": [
    "local_global()"
   ]
  },
  {
   "cell_type": "code",
   "execution_count": 6,
   "id": "667ebe16",
   "metadata": {},
   "outputs": [
    {
     "data": {
      "text/plain": [
       "'This is fantastic'"
      ]
     },
     "execution_count": 6,
     "metadata": {},
     "output_type": "execute_result"
    }
   ],
   "source": [
    "var12 # we are using local varaible outside the function because we coverted the local variable to global variable."
   ]
  },
  {
   "cell_type": "markdown",
   "id": "ff591717",
   "metadata": {},
   "source": [
    "## Input from keyword/user"
   ]
  },
  {
   "cell_type": "markdown",
   "id": "fd56c4b3",
   "metadata": {},
   "source": [
    "### Program to take string input from the user"
   ]
  },
  {
   "cell_type": "code",
   "execution_count": 7,
   "id": "b9345b76",
   "metadata": {},
   "outputs": [
    {
     "name": "stdout",
     "output_type": "stream",
     "text": [
      "Enter Your Name \n",
      "eashita\n",
      "User Input eashita\n"
     ]
    }
   ],
   "source": [
    "name=input(\"Enter Your Name \\n\")\n",
    "print(\"User Input\",name)"
   ]
  },
  {
   "cell_type": "markdown",
   "id": "293fb34f",
   "metadata": {},
   "source": [
    "### Program to take integer input from user"
   ]
  },
  {
   "cell_type": "code",
   "execution_count": 8,
   "id": "1a7b1d10",
   "metadata": {},
   "outputs": [
    {
     "name": "stdout",
     "output_type": "stream",
     "text": [
      "Enter Your Marks99\n",
      "Enter Your Marks90\n",
      "189  Out of 200\n"
     ]
    }
   ],
   "source": [
    "maths=int(input(\"Enter Your Marks\"))  #(int) use for integer\n",
    "science=int(input(\"Enter Your Marks\"))\n",
    "total_marks=maths + science\n",
    "print(total_marks,\" Out of 200\")"
   ]
  },
  {
   "cell_type": "markdown",
   "id": "69aefe8c",
   "metadata": {},
   "source": [
    "### How to check if only letters have been inputted?"
   ]
  },
  {
   "cell_type": "code",
   "execution_count": 9,
   "id": "309fd8fc",
   "metadata": {},
   "outputs": [
    {
     "name": "stdout",
     "output_type": "stream",
     "text": [
      "Enter Your name eashit11\n",
      "Look like You Did not enter alpha charater\n"
     ]
    }
   ],
   "source": [
    "name=input(\"Enter Your name \")\n",
    "if name.isalpha():\n",
    "    print(\"You Entered \",name)\n",
    "else:\n",
    "    print(\"Look like You Did not enter alpha charater\")"
   ]
  },
  {
   "cell_type": "code",
   "execution_count": 10,
   "id": "33fb75a3",
   "metadata": {},
   "outputs": [],
   "source": [
    "# Another Example. "
   ]
  },
  {
   "cell_type": "code",
   "execution_count": 11,
   "id": "9528bd62",
   "metadata": {},
   "outputs": [],
   "source": [
    "def phone_price(phone_make,phone_age,phone_model_gb):\n",
    "    if phone_make==\"iphone13\":\n",
    "        if 0<phone_age<=6:\n",
    "            if phone_model_gb==128:\n",
    "                print(\"Rs 65000 - Rs 75000\")\n",
    "            elif phone_model_gb==256:\n",
    "                print(\"Rs 80000\")\n",
    "        if 6<phone_age<=12:\n",
    "            if phone_model_gb==128:\n",
    "                print(\"Rs 60000 - Rs 65000\")\n",
    "            elif phone_model_gb==256:\n",
    "                print(\"Rs70000\")\n",
    "    elif phone_make==\"iphone11\":\n",
    "        if 0<phone_age<=6:\n",
    "            if phone_model_gb==64:\n",
    "                print(\"Rs 44000 - Rs 48000\")\n",
    "            elif phone_model_gb==128:\n",
    "                print(\"RS 50000 - Rs 550000\")\n",
    "        if 6<phone_age<=12:\n",
    "            if phone_model_gb==64:\n",
    "                print(\"Rs 39000 - Rs 42000\")\n",
    "            elif phone_model_gb:\n",
    "                print(\"Rs 45000 - 48000\")\n",
    "    else:\n",
    "        print(\"No Stock Right Now, Please check after few days\")"
   ]
  },
  {
   "cell_type": "code",
   "execution_count": 12,
   "id": "19caf092",
   "metadata": {},
   "outputs": [
    {
     "name": "stdout",
     "output_type": "stream",
     "text": [
      " Enter Your Required Phone  iphone11\n",
      " Enter how old a phone you need  2\n",
      " Enter how much space do you want in your phone  64\n",
      "Rs 44000 - Rs 48000\n"
     ]
    }
   ],
   "source": [
    "phone=input(\" Enter Your Required Phone  \")\n",
    "months_old=int(input(\" Enter how old a phone you need  \"))\n",
    "capacity=int(input(\" Enter how much space do you want in your phone  \"))\n",
    "phone_price(phone,months_old,capacity)"
   ]
  },
  {
   "cell_type": "markdown",
   "id": "3a95c44f",
   "metadata": {},
   "source": [
    "## Error and Exception Handling\n",
    "As we know that when we are coding, we get different different types of error, this reason python use an error and exception handling. Understanding various types of error will help you debug your code much faster.\n",
    "\n",
    "#### How to handle error and exception hadling?\n",
    "\n",
    "###  try and except\n",
    "Try and Except statement is used to handle these errors within our code in Python. The try block is used to check some code for errors i.e the code inside the try block will execute when there is no error in the program. Whereas the code inside the except block will execute whenever the program encounters some error in the preceding try block."
   ]
  },
  {
   "cell_type": "code",
   "execution_count": 13,
   "id": "3642cffb",
   "metadata": {},
   "outputs": [],
   "source": [
    "#Using just except, we can check for any exception to understand better. lets check out the sample code."
   ]
  },
  {
   "cell_type": "code",
   "execution_count": 14,
   "id": "117b0116",
   "metadata": {},
   "outputs": [],
   "source": [
    "marks_1=88\n",
    "subject=\"datascience\"\n",
    "marks_2=33"
   ]
  },
  {
   "cell_type": "code",
   "execution_count": 15,
   "id": "20b657cd",
   "metadata": {},
   "outputs": [
    {
     "name": "stdout",
     "output_type": "stream",
     "text": [
      "You can only add integer & integer, not with integer & string\n"
     ]
    }
   ],
   "source": [
    "try:\n",
    "    total= marks_1 + subject\n",
    "except:\n",
    "    print(\"You can only add integer & integer, not with integer & string\")\n",
    "else:\n",
    "    (total)\n",
    "    "
   ]
  },
  {
   "cell_type": "code",
   "execution_count": 16,
   "id": "e0224962",
   "metadata": {},
   "outputs": [],
   "source": [
    "# In the above example if you know your mistake, you can correct your mistake"
   ]
  },
  {
   "cell_type": "code",
   "execution_count": 17,
   "id": "a7b7ba09",
   "metadata": {},
   "outputs": [
    {
     "name": "stdout",
     "output_type": "stream",
     "text": [
      "Your Total marks is \n",
      "\t\t 121\n"
     ]
    }
   ],
   "source": [
    "try:\n",
    "    total=marks_1 + marks_2\n",
    "except:\n",
    "    print(\"plese dont add integer with string\")\n",
    "else:\n",
    "    print(\"Your Total marks is \\n\\t\\t\",total)"
   ]
  },
  {
   "cell_type": "code",
   "execution_count": 18,
   "id": "068f3bc4",
   "metadata": {},
   "outputs": [],
   "source": [
    "# How does it work in real time.\n",
    "# we have one web site:  https://www.insurancedekho.com/\n",
    "# write a program to insure car number  or new car insurence, program to accept car numbers, customer name\n",
    "# and mobile number. If user does not provide the details, the system needs to raise an exception saying \n",
    "# its a mandatory field; field required."
   ]
  },
  {
   "cell_type": "code",
   "execution_count": 19,
   "id": "3c39375e",
   "metadata": {},
   "outputs": [
    {
     "name": "stdout",
     "output_type": "stream",
     "text": [
      "Enter Your Car number 4536\n",
      "Enter Your Name \n",
      "Enter Your Number \n",
      "\n",
      " The Name Field is required\n",
      "\n",
      " The Mobile Number Field is required\n"
     ]
    }
   ],
   "source": [
    "try:\n",
    "    car_number=input(\"Enter Your Car number \")\n",
    "    name=input(\"Enter Your Name \")\n",
    "    mobile_number=input(\"Enter Your Number \")\n",
    "    if car_number ==\"\":\n",
    "        raise Exception()\n",
    "    elif name ==\"\":\n",
    "        raise Exception()\n",
    "    elif mobie_number ==\"\":\n",
    "        raise Exception()\n",
    "    else:\n",
    "        pass\n",
    "except:\n",
    "    if car_number ==\"\":\n",
    "        print(\"\\n The Registration Field Required\")\n",
    "    if name ==\"\":\n",
    "        print(\"\\n The Name Field is required\")\n",
    "    if mobile_number ==\"\":\n",
    "        print(\"\\n The Mobile Number Field is required\")\n",
    "    \n",
    "else:\n",
    "    print(\"Thanks for registration\")"
   ]
  },
  {
   "cell_type": "markdown",
   "id": "583cf85f",
   "metadata": {},
   "source": [
    "## Finally Block. \n",
    "\n",
    "We don't actually need to memorize the list of exception types. Fianlly blocks are used when both try and except blocks are getting an error.\n",
    "\n",
    "Finally will execute all times even if there are any errors."
   ]
  },
  {
   "cell_type": "code",
   "execution_count": 20,
   "id": "989fb515",
   "metadata": {},
   "outputs": [
    {
     "name": "stdout",
     "output_type": "stream",
     "text": [
      "Enter Your Car number 4536\n",
      "Enter Your Name  \n",
      "Enter Your Number 0123456789\n",
      "\n",
      " The Name Field is required\n",
      "Thanks for registration\n"
     ]
    }
   ],
   "source": [
    "try:\n",
    "    car_number=input(\"Enter Your Car number \")\n",
    "    name=input(\"Enter Your Name \")\n",
    "    mobile_number=input(\"Enter Your Number \")\n",
    "    if car_number ==\" \":\n",
    "        raise Exception()\n",
    "    elif name ==\" \":\n",
    "        raise Exception()\n",
    "    elif mobie_number ==\" \":\n",
    "        raise Exception()\n",
    "    else:\n",
    "        pass\n",
    "except:\n",
    "    if car_number ==\" \":\n",
    "        print(\"\\n The Registration Field Required\")\n",
    "    if name ==\" \":\n",
    "        print(\"\\n The Name Field is required\")\n",
    "    if mobile_number ==\" \":\n",
    "        print(\"\\n The Mobile Number Field is required\")\n",
    "    \n",
    "finally:\n",
    "    print(\"Thanks for registration\")"
   ]
  },
  {
   "cell_type": "code",
   "execution_count": 21,
   "id": "8597b86e",
   "metadata": {},
   "outputs": [],
   "source": [
    "# We can use this in conjuction wi ethxecute, let's see a new example that will take into account\n",
    "# a user putting in the wrong input:-"
   ]
  },
  {
   "cell_type": "code",
   "execution_count": 22,
   "id": "92693c7b",
   "metadata": {},
   "outputs": [],
   "source": [
    "def mobile_num():\n",
    "    try:\n",
    "        val=int(input(\"Enter Your Number \"))\n",
    "    except:\n",
    "        print(\"Look Like You did not enter an integer\")  "
   ]
  },
  {
   "cell_type": "code",
   "execution_count": 23,
   "id": "603a2601",
   "metadata": {},
   "outputs": [
    {
     "name": "stdout",
     "output_type": "stream",
     "text": [
      "Enter Your Number eashita08\n",
      "Look Like You did not enter an integer\n"
     ]
    }
   ],
   "source": [
    "mobile_num()"
   ]
  },
  {
   "cell_type": "code",
   "execution_count": 24,
   "id": "bab4d5ab",
   "metadata": {},
   "outputs": [
    {
     "name": "stdout",
     "output_type": "stream",
     "text": [
      "Enter Your Number 0123456789\n"
     ]
    }
   ],
   "source": [
    "mobile_num()"
   ]
  },
  {
   "cell_type": "code",
   "execution_count": 25,
   "id": "91b17a08",
   "metadata": {},
   "outputs": [],
   "source": [
    "# What happend if we enter an incorrect number and it will takes it as a correct number?\n",
    "# what if we set the code in such a way that only a 10 digit mobile number is accepted."
   ]
  },
  {
   "cell_type": "code",
   "execution_count": 26,
   "id": "dcc9fc42",
   "metadata": {},
   "outputs": [],
   "source": [
    "def mobile_number():\n",
    "    while True:\n",
    "        try:\n",
    "            val=int(input(\"Enter Your Mobile Number: \"))\n",
    "            if len(str(val))!=10:\n",
    "                print(\"You did not enter a Right Mobile Number\")\n",
    "            else:\n",
    "                print(\"Thankyou\")\n",
    "                break\n",
    "        except:\n",
    "            print(\"Look Like You Did Not Enter An Integer\")\n",
    "            continue"
   ]
  },
  {
   "cell_type": "code",
   "execution_count": 27,
   "id": "9b639eff",
   "metadata": {},
   "outputs": [
    {
     "name": "stdout",
     "output_type": "stream",
     "text": [
      "Enter Your Mobile Number: 1234\n",
      "You did not enter a Right Mobile Number\n",
      "Enter Your Mobile Number: 1234567889\n",
      "Thankyou\n"
     ]
    }
   ],
   "source": [
    "mobile_number()"
   ]
  },
  {
   "cell_type": "code",
   "execution_count": null,
   "id": "93d3f9ee-9a09-483b-874b-3e4d079e9a00",
   "metadata": {},
   "outputs": [],
   "source": []
  }
 ],
 "metadata": {
  "kernelspec": {
   "display_name": "Python 3 (ipykernel)",
   "language": "python",
   "name": "python3"
  },
  "language_info": {
   "codemirror_mode": {
    "name": "ipython",
    "version": 3
   },
   "file_extension": ".py",
   "mimetype": "text/x-python",
   "name": "python",
   "nbconvert_exporter": "python",
   "pygments_lexer": "ipython3",
   "version": "3.11.5"
  },
  "widgets": {
   "application/vnd.jupyter.widget-state+json": {
    "state": {},
    "version_major": 2,
    "version_minor": 0
   }
  }
 },
 "nbformat": 4,
 "nbformat_minor": 5
}
