{
 "cells": [
  {
   "cell_type": "markdown",
   "id": "a76839ed",
   "metadata": {},
   "source": [
    "## OOPS Concept - Object Oriented Programming\n",
    "Solving a problem by creating objects is one of the most populer approaches in programming. This is call object oriented programming.\n",
    "\n",
    "Real Time Example: Imagine you are opening a bank account and you fill most of your personal information; Age, UserName, City, phone number, email id, etc.\n",
    "\n",
    "Once you fill all your information, it will be registered with the bank and whenever you want to check your personal information, you can click on My Profile and your name, last name, account number, city, etc will be\n",
    "displayed\n",
    "\n",
    "Whenever you want to deposit or withdraw money, you click other tabs."
   ]
  },
  {
   "cell_type": "markdown",
   "id": "2bffae66",
   "metadata": {},
   "source": [
    "## self:\n",
    "\n",
    "In Python classes, self is a special parameter that refers to the current object instance itself.\n",
    "When you define methods within a class, self is implicitly passed as the first argument to those methods.\n",
    "Inside a method, you use self to access and modify the attributes (variables) of the specific object instance.\n",
    "init (constructor):\n",
    "\n",
    "#### __init__ is a special method in Python classes that acts as the constructor.\n",
    "It's automatically called whenever you create a new instance (object) of the class.\n",
    "Its purpose is to initialize the object's attributes with starting values.\n",
    "By convention, it's named __init__ with two underscores at the beginning and end.\n",
    "\n",
    "### Simple Terms \n",
    "Imagine you're building a house (the class). A house has different rooms and features (the attributes). But when you build a new house, it's empty, right? You need to put furniture (values) in those rooms.\n",
    "\n",
    "self: This is like the blueprint for each house you build. It tells you which rooms there are (attributes) but doesn't say what's inside yet. When you actually build a house (create an object), self becomes like the house itself, allowing you to access its specific rooms.\n",
    "\n",
    "\n",
    "\n",
    "init: This is like the moving truck. When you build a new house, the moving truck (the __init__ method) delivers furniture (values) and puts them in the corresponding rooms (attributes) of that specific house (object)."
   ]
  },
  {
   "cell_type": "markdown",
   "id": "742cfbdc",
   "metadata": {},
   "source": [
    "Bank Account is your class\n",
    "\n",
    " __init__(self) will register your details with bank\n",
    " \n",
    "self will help you to get your respective details back when you click various tab.\n",
    "\n",
    "log in personal information and password change, withdraw are methods. "
   ]
  },
  {
   "cell_type": "markdown",
   "id": "b119ff88",
   "metadata": {},
   "source": [
    "## How to define a class?\n",
    "Suppose we want to create a class, named person as a prototype a sort of template for any number of \"person\" object (instances)\n",
    "\n",
    "### The following python syntax define a class\n",
    "    class ClassName(base_class):\n",
    "        statements\n",
    "\n",
    "Remember one thing class name should always be in uppercase (naming convention)\n"
   ]
  },
  {
   "cell_type": "markdown",
   "id": "e9500f1a",
   "metadata": {},
   "source": [
    "### Why is the class name in uppercase ? \n",
    "Because there are two methods 1-pascal case, 2- camel case\n",
    "* **Pascal Case**: e.g; EmployeesName- we have to write the first letter in Capitals and when we start a second word we again start from a capital letter.\n",
    "\n",
    "* **Camel case**: e.g; -Employeename- we have to write only the first letter in capital and all other words in small . This is known as camel case and its used in oops concepts."
   ]
  },
  {
   "cell_type": "markdown",
   "id": "0e8e1150",
   "metadata": {},
   "source": [
    "### What is __init__(self)? \n",
    "It is a constructor that initializes your details."
   ]
  },
  {
   "cell_type": "code",
   "execution_count": 1,
   "id": "21174358",
   "metadata": {},
   "outputs": [],
   "source": [
    "class Account:\n",
    "    def __init__(self,name,last_name,city,user_id,password,phone): #attribute/arguments\n",
    "        self.name=name\n",
    "        self.last_name=last_name\n",
    "        self.city=city\n",
    "        self.user_id=user_id\n",
    "        self.password=password\n",
    "        self.phone=phone"
   ]
  },
  {
   "cell_type": "code",
   "execution_count": 2,
   "id": "f012b33d",
   "metadata": {},
   "outputs": [],
   "source": [
    "#Lets see with real time example:\n"
   ]
  },
  {
   "cell_type": "code",
   "execution_count": 3,
   "id": "788ac6e3",
   "metadata": {},
   "outputs": [
    {
     "name": "stdout",
     "output_type": "stream",
     "text": [
      "Enter Your Name eashita\n",
      "Enter Your Last Name dhillon\n",
      "Enter Your City Name Delhi\n",
      "Enter Your User Id eash1234\n",
      "Enter Your Password password\n",
      "Enter Your Number 1234567889\n"
     ]
    }
   ],
   "source": [
    "class Account:    #This is a class\n",
    "    def __init__(self,name=input(\"Enter Your Name \"),\n",
    "                last_name=input(\"Enter Your Last Name \"),\n",
    "                city=input(\"Enter Your City Name \"),\n",
    "                user_id=input(\"Enter Your User Id \"),\n",
    "                password=input(\"Enter Your Password \"),\n",
    "                phone=input(\"Enter Your Number \")):\n",
    "        self.name=name    #Data Initialization\n",
    "        self.last_name=last_name\n",
    "        self.city=city\n",
    "        self.user_id=user_id\n",
    "        self.password=password\n",
    "        self.phone=phone\n",
    "    def login(self):    #Method\n",
    "        while True:\n",
    "            signin=input(\"Enter Your User Id \")\n",
    "            password=input(\"Enter Your Password \")\n",
    "            if signin ==self.user_id and password==self.password:\n",
    "                print(\"Logged in Sucessfully\")\n",
    "                break\n",
    "            else:\n",
    "                print(\"You Entered Invalid id and password , Please Enter Correct  one\")\n",
    "                continue\n",
    "\n",
    "    \n",
    "    "
   ]
  },
  {
   "cell_type": "code",
   "execution_count": 4,
   "id": "8f168271",
   "metadata": {},
   "outputs": [],
   "source": [
    "c=Account()"
   ]
  },
  {
   "cell_type": "code",
   "execution_count": 5,
   "id": "53defb6f",
   "metadata": {},
   "outputs": [
    {
     "name": "stdout",
     "output_type": "stream",
     "text": [
      "Enter Your User Id eash1234\n",
      "Enter Your Password psswrd\n",
      "You Entered Invalid id and password , Please Enter Correct  one\n",
      "Enter Your User Id eash1234\n",
      "Enter Your Password password\n",
      "Logged in Sucessfully\n"
     ]
    }
   ],
   "source": [
    "c.login()"
   ]
  },
  {
   "cell_type": "markdown",
   "id": "36f23ca3",
   "metadata": {},
   "source": [
    "## Inheritance\n",
    "Inheritance is a way of creating a new class from an existing class.\n",
    "There are Three Types Of Inheritance:\n",
    "* Single Inheritance \n",
    "* Multi Inheritance \n",
    "* Multilevel Inheritance\n",
    "\n",
    "Let's see with an example how to inherit a class from existing class."
   ]
  },
  {
   "cell_type": "markdown",
   "id": "3158318d",
   "metadata": {},
   "source": [
    "The User_Account class inherits from the Account class. This means that the User_Account class will have all the properties and methods of the Account class, plus any additional properties and methods that you define in the User_Account class.\n",
    "\n",
    "\n",
    "The __init__ method is the constructor method of a class. It is called when a new instance of the class is created. The super() function is used in the __init__ method of the User_Account class to call the __init__ method of the parent class (Account). This ensures that the initialization process of the parent class is run before the initialization process of the child class.\n",
    "\n",
    "\n",
    "The account_number and balance attributes are used to store the account number and balance of a user account. These attributes are defined in the __init__ method of the User_Account class."
   ]
  },
  {
   "cell_type": "code",
   "execution_count": 6,
   "id": "89054d70",
   "metadata": {},
   "outputs": [],
   "source": [
    "class User_Account(Account):\n",
    "    def __init__(self,account_number,balance,*args):\n",
    "        super(User_Account,self).__init__(*args)\n",
    "        self.account_number=account_number\n",
    "        self.balance=balance\n",
    "            \n",
    "    def user_details(self):\n",
    "        while True:\n",
    "            account=int(input(\"Enter Your Account Number: \"))\n",
    "            if account==self.account_number:\n",
    "                print(\"Name =\", self.name)\n",
    "                print(\"Account Number =\",self.account_number)\n",
    "                print(\"Balance =\",self.balance )\n",
    "                break\n",
    "            else:\n",
    "                print(\"Account Number is not valid\")\n",
    "                continue\n",
    "    def deposit(self):\n",
    "        print(\"Your Previous Balance is \",self.balance)\n",
    "        add_cash=int(input(\"Enter how much ammount you want to deposit: \"))\n",
    "        self.balance= self.balance+add_cash\n",
    "        print(\"Your account has been credited with \",add_cash, \"and now your balace is \" ,self.balance)\n",
    "    def transfer(self):\n",
    "        print(\"Your Previous Balance is \",self.balance)\n",
    "        withdrawl=int(input(\"Enter How much money you want to withdraw: \"))\n",
    "        if withdrawl<=self.balance:\n",
    "            self.balance-=withdrawl\n",
    "            print(\"The Withdrawed ammount is \",withdrawl,\"and you remaining balance is \" ,self.balance)\n",
    "            \n",
    "        else:\n",
    "            print(\"Alert:Hello You Dont have sufficient Balance to withdraw\")\n",
    "                \n",
    "            \n",
    "        \n",
    "            \n",
    "        "
   ]
  },
  {
   "cell_type": "code",
   "execution_count": 7,
   "id": "628cf5a8",
   "metadata": {},
   "outputs": [],
   "source": [
    "bank=User_Account(5555,0)"
   ]
  },
  {
   "cell_type": "code",
   "execution_count": 8,
   "id": "87428baf",
   "metadata": {},
   "outputs": [
    {
     "name": "stdout",
     "output_type": "stream",
     "text": [
      "Enter Your User Id eash1234\n",
      "Enter Your Password password\n",
      "Logged in Sucessfully\n"
     ]
    }
   ],
   "source": [
    "bank.login()"
   ]
  },
  {
   "cell_type": "code",
   "execution_count": 9,
   "id": "f71ec127",
   "metadata": {},
   "outputs": [
    {
     "name": "stdout",
     "output_type": "stream",
     "text": [
      "Enter Your Account Number: 5555\n",
      "Name = eashita\n",
      "Account Number = 5555\n",
      "Balance = 0\n"
     ]
    }
   ],
   "source": [
    "bank.user_details()"
   ]
  },
  {
   "cell_type": "code",
   "execution_count": 10,
   "id": "8e266e40",
   "metadata": {},
   "outputs": [
    {
     "name": "stdout",
     "output_type": "stream",
     "text": [
      "Your Previous Balance is  0\n",
      "Enter how much ammount you want to deposit: 5000\n",
      "Your account has been credited with  5000 and now your balace is  5000\n"
     ]
    }
   ],
   "source": [
    "bank.deposit()"
   ]
  },
  {
   "cell_type": "code",
   "execution_count": 11,
   "id": "be2e2607",
   "metadata": {},
   "outputs": [
    {
     "name": "stdout",
     "output_type": "stream",
     "text": [
      "Your Previous Balance is  5000\n",
      "Enter How much money you want to withdraw: 1000\n",
      "The Withdrawed ammount is  1000 and you remaining balance is  4000\n"
     ]
    }
   ],
   "source": [
    "bank.transfer()"
   ]
  },
  {
   "cell_type": "code",
   "execution_count": 12,
   "id": "382797f6",
   "metadata": {},
   "outputs": [],
   "source": [
    "# Lets understand one thing from the previous example. Account is a base class and User_Account is a\n",
    "# subclass or Superclass, which can inherit the data from base class using __init__ and (*args) method."
   ]
  },
  {
   "cell_type": "markdown",
   "id": "89d31d9e",
   "metadata": {},
   "source": [
    "## Encapsulation \n",
    "Encapsulation is an another powerful way to extend a class which consists of wrapping object with second one.\n",
    "Just like gmail, google photos, google drive are wrapped into one\n",
    "\n",
    "The abstraction process relies on creating a simplified model that removes useless details from a concept. In order to be simplified, a model should be described in terms of other concepts, \n",
    "for eaxmple - we can say that a car is composed of :-\n",
    "* Tyre\n",
    "* Engine\n",
    "* Body\n",
    "\n",
    "And we break down each one of these element in simpler parts until we reach primitive data."
   ]
  },
  {
   "cell_type": "code",
   "execution_count": 13,
   "id": "acf0cc1c",
   "metadata": {},
   "outputs": [
    {
     "name": "stdout",
     "output_type": "stream",
     "text": [
      "Tyre \n",
      "\t Branch MRF\n",
      "\tBelted_bias True\n",
      "\topt_pressure 34\n",
      "  \n",
      "\t fuel type is  petrol\n",
      "\t noise leve is  2.3\n",
      "\n",
      "\t Body Size of car is sedan\n"
     ]
    }
   ],
   "source": [
    "class Tyres:\n",
    "    def __init__(self,branch,belted_bias,opt_pressure):\n",
    "        self.branch=branch\n",
    "        self.belted_bias=belted_bias\n",
    "        self.opt_pressure=opt_pressure\n",
    "    def __str__(self) :#__str__ can be used if you dont want to define a method name,but you want this to execute\n",
    "        return(\"Tyre \\n\\t Branch \"+self.branch+\n",
    "               \"\\n\\tBelted_bias \"+str(self.belted_bias)+\n",
    "               \"\\n\\topt_pressure \"+str(self.opt_pressure))\n",
    "class Engine:\n",
    "    def __init__(self,fuel_type,noise_level):\n",
    "        self.fuel_type=fuel_type\n",
    "        self.noise_level=noise_level\n",
    "    def __str__(self):\n",
    "        return(\"\\n\\t fuel type is  \"+self.fuel_type+\n",
    "              \"\\n\\t noise leve is  \"+str(self.noise_level))#__str__ method only returns only text so we are converting into string.\n",
    "class Body():\n",
    "    def __init__(self,size):\n",
    "        self.size=size\n",
    "    def __str__(self):\n",
    "        return(\"\\n\\t Body Size of car is \"+self.size)\n",
    "    \n",
    "class Car():\n",
    "    def __init__(self,Tyres,Engine,Body):\n",
    "        self.Tyres=Tyres\n",
    "        self.Engine=Engine\n",
    "        self.Body=Body\n",
    "    def __str__(self):\n",
    "        return   str(self.Tyres) +\"\\n  \"  + str(self.Engine) +\"\\n\" +  str(self.Body)\n",
    "t=Tyres(\"MRF\",True,34)\n",
    "e=Engine(\"petrol\",2.3)\n",
    "b=Body(\"sedan\")\n",
    "c=Car(t,e,b)\n",
    "print(c)"
   ]
  },
  {
   "cell_type": "code",
   "execution_count": 14,
   "id": "7e7bc504",
   "metadata": {},
   "outputs": [
    {
     "name": "stdout",
     "output_type": "stream",
     "text": [
      "Tyre \n",
      "\t Branch MRF\n",
      "\tBelted_bias True\n",
      "\topt_pressure 34\n",
      "  \n",
      "\t fuel type is  petrol\n",
      "\t noise leve is  2.3\n",
      "\n",
      "\t Body Size of car is sedan\n"
     ]
    }
   ],
   "source": [
    "print(c)"
   ]
  },
  {
   "cell_type": "code",
   "execution_count": null,
   "id": "2ed4d349",
   "metadata": {},
   "outputs": [],
   "source": []
  },
  {
   "cell_type": "code",
   "execution_count": null,
   "id": "9e84a291",
   "metadata": {},
   "outputs": [],
   "source": []
  }
 ],
 "metadata": {
  "kernelspec": {
   "display_name": "Python 3 (ipykernel)",
   "language": "python",
   "name": "python3"
  },
  "language_info": {
   "codemirror_mode": {
    "name": "ipython",
    "version": 3
   },
   "file_extension": ".py",
   "mimetype": "text/x-python",
   "name": "python",
   "nbconvert_exporter": "python",
   "pygments_lexer": "ipython3",
   "version": "3.11.5"
  }
 },
 "nbformat": 4,
 "nbformat_minor": 5
}
