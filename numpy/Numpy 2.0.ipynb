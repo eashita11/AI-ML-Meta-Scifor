{
 "cells": [
  {
   "cell_type": "markdown",
   "id": "52862876",
   "metadata": {},
   "source": [
    "# Numpy and its Functions"
   ]
  },
  {
   "cell_type": "code",
   "execution_count": 1,
   "id": "748a8ba5",
   "metadata": {},
   "outputs": [],
   "source": [
    "import numpy as np"
   ]
  },
  {
   "cell_type": "code",
   "execution_count": 2,
   "id": "c0804514",
   "metadata": {},
   "outputs": [],
   "source": [
    "emp_salary=np.random.randint(8,70,10)"
   ]
  },
  {
   "cell_type": "code",
   "execution_count": 3,
   "id": "15d8fc62",
   "metadata": {},
   "outputs": [
    {
     "data": {
      "text/plain": [
       "array([17, 58, 40, 69, 55, 21, 23, 62, 66, 18])"
      ]
     },
     "execution_count": 3,
     "metadata": {},
     "output_type": "execute_result"
    }
   ],
   "source": [
    "emp_salary"
   ]
  },
  {
   "cell_type": "code",
   "execution_count": 4,
   "id": "722f4f4e",
   "metadata": {},
   "outputs": [],
   "source": [
    "#set minimum and maximum salary using a_min and a_max "
   ]
  },
  {
   "cell_type": "code",
   "execution_count": 5,
   "id": "e59e0912",
   "metadata": {},
   "outputs": [
    {
     "data": {
      "text/plain": [
       "array([20, 50, 40, 50, 50, 21, 23, 50, 50, 20])"
      ]
     },
     "execution_count": 5,
     "metadata": {},
     "output_type": "execute_result"
    }
   ],
   "source": [
    "np.clip(emp_salary,a_min=20,a_max=50)# if we use clip method then all maximum and minimum value we can set as per our use"
   ]
  },
  {
   "cell_type": "code",
   "execution_count": 6,
   "id": "46e5ec59",
   "metadata": {},
   "outputs": [],
   "source": [
    "#If you want to find actual salary which are less then or greater than some salary use np.where\n",
    "#np.where gives index detail"
   ]
  },
  {
   "cell_type": "code",
   "execution_count": 7,
   "id": "1b2d5f2c",
   "metadata": {},
   "outputs": [
    {
     "name": "stdout",
     "output_type": "stream",
     "text": [
      "(array([0, 5, 6, 9]),)\n"
     ]
    }
   ],
   "source": [
    "print(np.where(emp_salary <25))"
   ]
  },
  {
   "cell_type": "code",
   "execution_count": 8,
   "id": "7af86183",
   "metadata": {},
   "outputs": [],
   "source": [
    "#If you want to see actual data, use index "
   ]
  },
  {
   "cell_type": "code",
   "execution_count": 9,
   "id": "3463761b",
   "metadata": {},
   "outputs": [
    {
     "data": {
      "text/plain": [
       "array([58, 55])"
      ]
     },
     "execution_count": 9,
     "metadata": {},
     "output_type": "execute_result"
    }
   ],
   "source": [
    "emp_salary[[1,4]]"
   ]
  },
  {
   "cell_type": "code",
   "execution_count": 10,
   "id": "88fdffc1",
   "metadata": {},
   "outputs": [],
   "source": [
    "#similarly you can  check for any condition (<,>,=,==,<=,>=)"
   ]
  },
  {
   "cell_type": "code",
   "execution_count": 11,
   "id": "c6698932",
   "metadata": {},
   "outputs": [],
   "source": [
    "#Reshaping Otherways"
   ]
  },
  {
   "cell_type": "code",
   "execution_count": 12,
   "id": "173a9f65",
   "metadata": {},
   "outputs": [],
   "source": [
    "import numpy as np\n",
    "from numpy.random import randint as ri"
   ]
  },
  {
   "cell_type": "code",
   "execution_count": 13,
   "id": "08c862ff",
   "metadata": {},
   "outputs": [
    {
     "name": "stdout",
     "output_type": "stream",
     "text": [
      "[82 89 22 69  1 10 12 60 67 74 31 40 66  5 87 97 43  9 53  8 85 96 94 98\n",
      " 20 33 66 25 75 67]\n"
     ]
    }
   ],
   "source": [
    "a=ri(1,99,30)\n",
    "print(a)"
   ]
  },
  {
   "cell_type": "code",
   "execution_count": 14,
   "id": "e2e1d17c",
   "metadata": {},
   "outputs": [
    {
     "name": "stdout",
     "output_type": "stream",
     "text": [
      "[[[82 89 22 69  1]\n",
      "  [10 12 60 67 74]\n",
      "  [31 40 66  5 87]]\n",
      "\n",
      " [[97 43  9 53  8]\n",
      "  [85 96 94 98 20]\n",
      "  [33 66 25 75 67]]]\n"
     ]
    }
   ],
   "source": [
    "b=a.reshape(2,3,5)\n",
    "print(b)"
   ]
  },
  {
   "cell_type": "code",
   "execution_count": 15,
   "id": "359c5e0b",
   "metadata": {},
   "outputs": [
    {
     "name": "stdout",
     "output_type": "stream",
     "text": [
      "[[82 89 22 69  1]\n",
      " [10 12 60 67 74]\n",
      " [31 40 66  5 87]\n",
      " [97 43  9 53  8]\n",
      " [85 96 94 98 20]\n",
      " [33 66 25 75 67]]\n"
     ]
    }
   ],
   "source": [
    "c=a.reshape(6,5)\n",
    "print(c)"
   ]
  },
  {
   "cell_type": "code",
   "execution_count": 16,
   "id": "6c85cde5",
   "metadata": {},
   "outputs": [
    {
     "name": "stdout",
     "output_type": "stream",
     "text": [
      "Minimum of a is  1\n",
      "Maximum of a is  98\n"
     ]
    }
   ],
   "source": [
    "print(\"Minimum of a is \",c.min())\n",
    "print(\"Maximum of a is \",c.max())"
   ]
  },
  {
   "cell_type": "markdown",
   "id": "8d15d422",
   "metadata": {},
   "source": [
    "## Sorting "
   ]
  },
  {
   "cell_type": "code",
   "execution_count": 17,
   "id": "00319595",
   "metadata": {},
   "outputs": [
    {
     "name": "stdout",
     "output_type": "stream",
     "text": [
      "\n",
      " 5 X 5 matrix of random integer \n",
      " -------------------------------------------------- \n",
      " [[73 94 36 64 42]\n",
      " [24 14 11 91 88]\n",
      " [53 66 29 73 52]\n",
      " [20 59 90 83 60]\n",
      " [55 73 15 59  1]]\n",
      "\n",
      " Here is the sorted matrix along each row \n",
      " -------------------------------------------------- \n",
      " [[36 42 64 73 94]\n",
      " [11 14 24 88 91]\n",
      " [29 52 53 66 73]\n",
      " [20 59 60 83 90]\n",
      " [ 1 15 55 59 73]]\n",
      "\n",
      " Here is the sorted matrix along each column \n",
      " -------------------------------------------------- \n",
      " [[20 14 11 59  1]\n",
      " [24 59 15 64 42]\n",
      " [53 66 29 73 52]\n",
      " [55 73 36 83 60]\n",
      " [73 94 90 91 88]]\n"
     ]
    }
   ],
   "source": [
    "m=ri(1,100,25).reshape(5,5) #matrix of random integer\n",
    "print(\"\\n 5 X 5 matrix of random integer \\n\",'-'*50,'\\n',m)\n",
    "print(\"\\n Here is the sorted matrix along each row \\n\",'-'*50,'\\n',np.sort(m))#default axis=1\n",
    "print(\"\\n Here is the sorted matrix along each column \\n\",'-'*50,'\\n',np.sort(m,axis=0))"
   ]
  },
  {
   "cell_type": "code",
   "execution_count": 18,
   "id": "fa5a87a5",
   "metadata": {},
   "outputs": [],
   "source": [
    "# Index and slicing"
   ]
  },
  {
   "cell_type": "code",
   "execution_count": 19,
   "id": "3f1a0752",
   "metadata": {},
   "outputs": [
    {
     "name": "stdout",
     "output_type": "stream",
     "text": [
      "Array [13 14 15 16 17 18 19 20 21 22 23 24 25 26 27 28 29]\n"
     ]
    }
   ],
   "source": [
    "arr=np.arange(13,30)\n",
    "print(\"Array\",arr)"
   ]
  },
  {
   "cell_type": "code",
   "execution_count": 20,
   "id": "f0fae17b",
   "metadata": {},
   "outputs": [
    {
     "name": "stdout",
     "output_type": "stream",
     "text": [
      "Element of 7th index is = 20\n"
     ]
    }
   ],
   "source": [
    "print(\"Element of 7th index is =\",arr[7])"
   ]
  },
  {
   "cell_type": "code",
   "execution_count": 21,
   "id": "513f8cda",
   "metadata": {},
   "outputs": [
    {
     "name": "stdout",
     "output_type": "stream",
     "text": [
      "Element of 3rd and 5th index is =  [16 17]\n"
     ]
    }
   ],
   "source": [
    "print(\"Element of 3rd and 5th index is = \",arr[3:5])"
   ]
  },
  {
   "cell_type": "code",
   "execution_count": 22,
   "id": "5559db6f",
   "metadata": {},
   "outputs": [
    {
     "name": "stdout",
     "output_type": "stream",
     "text": [
      "Element up to 4th index are : [17 18 19 20 21 22 23 24 25 26 27 28 29]\n"
     ]
    }
   ],
   "source": [
    "print(\"Element up to 4th index are :\",arr[4:])"
   ]
  },
  {
   "cell_type": "code",
   "execution_count": 23,
   "id": "cadfb11f",
   "metadata": {},
   "outputs": [],
   "source": [
    "#Store arr in abc and check upto 4th index of abc"
   ]
  },
  {
   "cell_type": "code",
   "execution_count": 24,
   "id": "344b5959",
   "metadata": {},
   "outputs": [
    {
     "name": "stdout",
     "output_type": "stream",
     "text": [
      "[17 18 19 20 21 22 23 24 25 26 27 28 29]\n"
     ]
    }
   ],
   "source": [
    "abc=arr[4:]\n",
    "print(abc)"
   ]
  },
  {
   "cell_type": "code",
   "execution_count": 25,
   "id": "1c4e8c0d",
   "metadata": {},
   "outputs": [
    {
     "name": "stdout",
     "output_type": "stream",
     "text": [
      "Element from last backwords :  [29 27 25 23 21 19 17]\n"
     ]
    }
   ],
   "source": [
    "print(\"Element from last backwords : \",abc[-1::-2])"
   ]
  },
  {
   "cell_type": "code",
   "execution_count": 26,
   "id": "38c178d4",
   "metadata": {},
   "outputs": [
    {
     "name": "stdout",
     "output_type": "stream",
     "text": [
      "7th elemets from last backword are :  [29 28 27 26 25 24 23]\n"
     ]
    }
   ],
   "source": [
    "print(\"7th elemets from last backword are : \",arr[-1:-8:-1])"
   ]
  },
  {
   "cell_type": "code",
   "execution_count": 27,
   "id": "d65d15e2",
   "metadata": {},
   "outputs": [
    {
     "name": "stdout",
     "output_type": "stream",
     "text": [
      "Elements at 2nd 4th and 9th index are :  [15 17 22]\n"
     ]
    }
   ],
   "source": [
    "print(\"Elements at 2nd 4th and 9th index are : \",arr[[2,4,9]])#Pass a list as a index to subset"
   ]
  },
  {
   "cell_type": "code",
   "execution_count": 28,
   "id": "6d36b4a6",
   "metadata": {},
   "outputs": [
    {
     "name": "stdout",
     "output_type": "stream",
     "text": [
      "[[1 2 3]\n",
      " [4 5 6]\n",
      " [7 8 9]]\n"
     ]
    }
   ],
   "source": [
    "my_mat=[[1,2,3],[4,5,6],[7,8,9]]\n",
    "mat=np.array(my_mat)\n",
    "print(mat)"
   ]
  },
  {
   "cell_type": "code",
   "execution_count": 29,
   "id": "10b402a0",
   "metadata": {},
   "outputs": [
    {
     "name": "stdout",
     "output_type": "stream",
     "text": [
      "Entire row at index 2:  [7 8 9]\n"
     ]
    }
   ],
   "source": [
    "print(\"Entire row at index 2: \",mat[2])"
   ]
  },
  {
   "cell_type": "code",
   "execution_count": 30,
   "id": "1d44b9c7",
   "metadata": {},
   "outputs": [
    {
     "name": "stdout",
     "output_type": "stream",
     "text": [
      "Entire column at index  3:\n",
      " [[2 3]\n",
      " [5 6]\n",
      " [8 9]]\n"
     ]
    }
   ],
   "source": [
    "print(\"Entire column at index  3:\\n\",mat[:,1:])"
   ]
  },
  {
   "cell_type": "code",
   "execution_count": 31,
   "id": "0c8f73ea",
   "metadata": {},
   "outputs": [
    {
     "name": "stdout",
     "output_type": "stream",
     "text": [
      "\n",
      "Subsetting Sub-Matricss\n",
      "---------\n",
      "Matrics with row indices 1 and 2 and column indices 3 and 4\n",
      " [[5]]\n"
     ]
    }
   ],
   "source": [
    "print(\"\\nSubsetting Sub-Matricss\\n---------\")\n",
    "print(\"Matrics with row indices 1 and 2 and column indices 3 and 4\\n\",mat[1:2,1:2])"
   ]
  },
  {
   "cell_type": "code",
   "execution_count": 32,
   "id": "d7845d80",
   "metadata": {},
   "outputs": [
    {
     "name": "stdout",
     "output_type": "stream",
     "text": [
      "[[1 2 3]\n",
      " [4 5 6]\n",
      " [7 8 9]]\n"
     ]
    }
   ],
   "source": [
    "print(mat)"
   ]
  },
  {
   "cell_type": "code",
   "execution_count": 33,
   "id": "8b32cbba",
   "metadata": {},
   "outputs": [
    {
     "name": "stdout",
     "output_type": "stream",
     "text": [
      "[[2 3]\n",
      " [5 6]]\n"
     ]
    }
   ],
   "source": [
    "print(mat[0:2,[1,2]])"
   ]
  },
  {
   "cell_type": "code",
   "execution_count": 34,
   "id": "15562878",
   "metadata": {},
   "outputs": [],
   "source": [
    "#Update Matrix"
   ]
  },
  {
   "cell_type": "code",
   "execution_count": 35,
   "id": "364f58d2",
   "metadata": {},
   "outputs": [
    {
     "name": "stdout",
     "output_type": "stream",
     "text": [
      "Original Matrix \n",
      "\n",
      " [[1 2 3]\n",
      " [4 5 6]\n",
      " [7 8 9]]\n"
     ]
    }
   ],
   "source": [
    "print(\"Original Matrix \\n\\n\",mat)"
   ]
  },
  {
   "cell_type": "code",
   "execution_count": 36,
   "id": "98eb1524",
   "metadata": {},
   "outputs": [],
   "source": [
    "mat[0,2]=200"
   ]
  },
  {
   "cell_type": "code",
   "execution_count": 37,
   "id": "eac605be",
   "metadata": {},
   "outputs": [
    {
     "data": {
      "text/plain": [
       "array([[  1,   2, 200],\n",
       "       [  4,   5,   6],\n",
       "       [  7,   8,   9]])"
      ]
     },
     "execution_count": 37,
     "metadata": {},
     "output_type": "execute_result"
    }
   ],
   "source": [
    "mat"
   ]
  },
  {
   "cell_type": "code",
   "execution_count": 38,
   "id": "8164b23c",
   "metadata": {},
   "outputs": [],
   "source": [
    "mat[1,0]=100"
   ]
  },
  {
   "cell_type": "code",
   "execution_count": 39,
   "id": "d93a0ddd",
   "metadata": {},
   "outputs": [
    {
     "data": {
      "text/plain": [
       "array([[  1,   2, 200],\n",
       "       [100,   5,   6],\n",
       "       [  7,   8,   9]])"
      ]
     },
     "execution_count": 39,
     "metadata": {},
     "output_type": "execute_result"
    }
   ],
   "source": [
    "mat"
   ]
  },
  {
   "cell_type": "markdown",
   "id": "c2923738",
   "metadata": {},
   "source": [
    "## Subsetting\n",
    "Subsetting means when we want to fetch only few data from matrix."
   ]
  },
  {
   "cell_type": "code",
   "execution_count": 40,
   "id": "39c0825d",
   "metadata": {},
   "outputs": [
    {
     "name": "stdout",
     "output_type": "stream",
     "text": [
      "Matrix of random 2 digit number \n",
      "------\n",
      " [[46 28 56 49 47]\n",
      " [28 51 64 84 47]\n",
      " [33 73 48 73 36]]\n"
     ]
    }
   ],
   "source": [
    "mat=np.array(ri(10,100,15)).reshape(3,5)\n",
    "print('Matrix of random 2 digit number \\n------\\n',mat)"
   ]
  },
  {
   "cell_type": "code",
   "execution_count": 41,
   "id": "7b834833",
   "metadata": {},
   "outputs": [
    {
     "name": "stdout",
     "output_type": "stream",
     "text": [
      "Elements greater than 50\n",
      "  [56 51 64 84 73 73]\n"
     ]
    }
   ],
   "source": [
    "print(\"Elements greater than 50\\n \",mat[mat>50])"
   ]
  },
  {
   "cell_type": "code",
   "execution_count": 42,
   "id": "980340ea",
   "metadata": {},
   "outputs": [
    {
     "name": "stdout",
     "output_type": "stream",
     "text": [
      "(array([], dtype=int64), array([], dtype=int64))\n"
     ]
    }
   ],
   "source": [
    "print(np.where(mat==98))"
   ]
  },
  {
   "cell_type": "code",
   "execution_count": 43,
   "id": "42ea2f86",
   "metadata": {},
   "outputs": [],
   "source": [
    "#You can also use np.where to return some data based on condtion"
   ]
  },
  {
   "cell_type": "code",
   "execution_count": 44,
   "id": "7361e631",
   "metadata": {},
   "outputs": [
    {
     "data": {
      "text/plain": [
       "array('Still Working', dtype='<U13')"
      ]
     },
     "execution_count": 44,
     "metadata": {},
     "output_type": "execute_result"
    }
   ],
   "source": [
    "age=50\n",
    "np.where(age>68,'Retired','Still Working')"
   ]
  },
  {
   "cell_type": "markdown",
   "id": "c6d40232",
   "metadata": {},
   "source": [
    "## Universal Functions"
   ]
  },
  {
   "cell_type": "code",
   "execution_count": 45,
   "id": "24ee6ddb",
   "metadata": {},
   "outputs": [
    {
     "name": "stdout",
     "output_type": "stream",
     "text": [
      "\n",
      " 1st Matrics of Single digit number \n",
      "---------------\n",
      " [[1 3 9]\n",
      " [2 5 3]\n",
      " [3 7 6]]\n",
      "\n",
      " 2st Matrics of Single digit number \n",
      "---------------\n",
      " [[2 7 4]\n",
      " [6 9 7]\n",
      " [5 5 8]]\n"
     ]
    }
   ],
   "source": [
    "mat1=np.array(ri(1,10,9)).reshape(3,3)\n",
    "mat2=np.array(ri(1,10,9)).reshape(3,3)\n",
    "\n",
    "print(\"\\n 1st Matrics of Single digit number \\n---------------\\n\",mat1)\n",
    "print(\"\\n 2st Matrics of Single digit number \\n---------------\\n\",mat2)"
   ]
  },
  {
   "cell_type": "code",
   "execution_count": 46,
   "id": "f9c33014",
   "metadata": {},
   "outputs": [
    {
     "name": "stdout",
     "output_type": "stream",
     "text": [
      "mat1=\n",
      " [[1 3 9]\n",
      " [2 5 3]\n",
      " [3 7 6]]\n",
      "mat2=\n",
      " [[2 7 4]\n",
      " [6 9 7]\n",
      " [5 5 8]]\n"
     ]
    }
   ],
   "source": [
    "print('mat1=\\n',mat1)\n",
    "print('mat2=\\n',mat2)"
   ]
  },
  {
   "cell_type": "code",
   "execution_count": 47,
   "id": "64d0b628",
   "metadata": {},
   "outputs": [
    {
     "name": "stdout",
     "output_type": "stream",
     "text": [
      "\n",
      " Division \n",
      "---------------------\n",
      " [[0.5        0.42857143 2.25      ]\n",
      " [0.33333333 0.55555556 0.42857143]\n",
      " [0.6        1.4        0.75      ]]\n"
     ]
    }
   ],
   "source": [
    "print(\"\\n Division \\n---------------------\\n\",mat1/mat2)"
   ]
  },
  {
   "cell_type": "code",
   "execution_count": 48,
   "id": "a68631dc",
   "metadata": {},
   "outputs": [
    {
     "name": "stdout",
     "output_type": "stream",
     "text": [
      "\n",
      " Linear combination : 3*A - 2*B \n",
      " [[-1 -5 19]\n",
      " [-6 -3 -5]\n",
      " [-1 11  2]]\n"
     ]
    }
   ],
   "source": [
    "print(\"\\n Linear combination : 3*A - 2*B \\n\",3*mat1-2*mat2)"
   ]
  },
  {
   "cell_type": "markdown",
   "id": "42d2f19e",
   "metadata": {},
   "source": [
    "## Broadcasting-\n",
    "* NumPy operations are usually performed on pairs of arrays on an element-by-element basis. In the simplest case, the two arrays must have exactly the same shape. \n",
    "* However, NumPy broadcasting rules relax this constraint when the array shapes meet certain conditions. When operating on two arrays, NumPy compares their shapes element-wise, starting with the trailing dimensions and working its way forward. \n",
    "* Two dimensions are compatible when they are equal, or when one of them is 1."
   ]
  },
  {
   "cell_type": "code",
   "execution_count": 50,
   "id": "13537c49",
   "metadata": {},
   "outputs": [
    {
     "name": "stdout",
     "output_type": "stream",
     "text": [
      "[[0. 0. 0.]\n",
      " [0. 0. 0.]\n",
      " [0. 0. 0.]]\n"
     ]
    }
   ],
   "source": [
    "start=np.zeros((3,3))\n",
    "print(start)"
   ]
  },
  {
   "cell_type": "code",
   "execution_count": 51,
   "id": "8307ac9a",
   "metadata": {},
   "outputs": [],
   "source": [
    "#create a rank1 ndarray with 3 values"
   ]
  },
  {
   "cell_type": "code",
   "execution_count": 52,
   "id": "853f62a4",
   "metadata": {},
   "outputs": [
    {
     "name": "stdout",
     "output_type": "stream",
     "text": [
      "[[1 0 2]]\n"
     ]
    }
   ],
   "source": [
    "add_rows=np.array([[1,0,2]])\n",
    "print(add_rows)"
   ]
  },
  {
   "cell_type": "code",
   "execution_count": 53,
   "id": "d4460da8",
   "metadata": {},
   "outputs": [],
   "source": [
    "y=start+add_rows # add to each row of 'start' using broadcasting"
   ]
  },
  {
   "cell_type": "code",
   "execution_count": 54,
   "id": "4895a20b",
   "metadata": {},
   "outputs": [
    {
     "data": {
      "text/plain": [
       "array([[1., 0., 2.],\n",
       "       [1., 0., 2.],\n",
       "       [1., 0., 2.]])"
      ]
     },
     "execution_count": 54,
     "metadata": {},
     "output_type": "execute_result"
    }
   ],
   "source": [
    "y"
   ]
  },
  {
   "cell_type": "code",
   "execution_count": 55,
   "id": "caa124bb",
   "metadata": {},
   "outputs": [],
   "source": [
    "new_row=add_rows.T # T is use for transpose it convert column into row #vice versa"
   ]
  },
  {
   "cell_type": "code",
   "execution_count": 56,
   "id": "b3302dfb",
   "metadata": {},
   "outputs": [
    {
     "data": {
      "text/plain": [
       "array([[1],\n",
       "       [0],\n",
       "       [2]])"
      ]
     },
     "execution_count": 56,
     "metadata": {},
     "output_type": "execute_result"
    }
   ],
   "source": [
    "new_row"
   ]
  },
  {
   "cell_type": "code",
   "execution_count": 57,
   "id": "d0230dd8",
   "metadata": {},
   "outputs": [
    {
     "name": "stdout",
     "output_type": "stream",
     "text": [
      "[[1. 1. 1.]\n",
      " [0. 0. 0.]\n",
      " [2. 2. 2.]]\n"
     ]
    }
   ],
   "source": [
    "test=new_row+start\n",
    "print(test)"
   ]
  },
  {
   "cell_type": "code",
   "execution_count": 58,
   "id": "95442612",
   "metadata": {},
   "outputs": [],
   "source": [
    "#craete table ndarray which is 4 X 1 to broadcast across coloumn"
   ]
  },
  {
   "cell_type": "code",
   "execution_count": 59,
   "id": "db265efc",
   "metadata": {},
   "outputs": [],
   "source": [
    "ad_cols=np.array([[0,2,2,3]])"
   ]
  },
  {
   "cell_type": "code",
   "execution_count": 60,
   "id": "6fe12713",
   "metadata": {},
   "outputs": [],
   "source": [
    "ad_cols=ad_cols.T"
   ]
  },
  {
   "cell_type": "code",
   "execution_count": 61,
   "id": "f03e6df1",
   "metadata": {},
   "outputs": [
    {
     "data": {
      "text/plain": [
       "array([[0],\n",
       "       [2],\n",
       "       [2],\n",
       "       [3]])"
      ]
     },
     "execution_count": 61,
     "metadata": {},
     "output_type": "execute_result"
    }
   ],
   "source": [
    "ad_cols"
   ]
  },
  {
   "cell_type": "code",
   "execution_count": 62,
   "id": "4e4d7a95",
   "metadata": {},
   "outputs": [],
   "source": [
    "#Array Math"
   ]
  },
  {
   "cell_type": "code",
   "execution_count": 63,
   "id": "971e3363",
   "metadata": {},
   "outputs": [
    {
     "name": "stdout",
     "output_type": "stream",
     "text": [
      "\n",
      " 1st Matrix of random single digit number\n",
      "---------------------------\n",
      " [[5 6 4]\n",
      " [2 3 9]\n",
      " [2 2 2]]\n",
      "\n",
      " 2nd Matrix of random single digit number\n",
      "---------------------------\n",
      " [[9 7 7]\n",
      " [2 5 3]\n",
      " [5 4 9]]\n",
      "\n",
      " sq-root of 1st Matrix using np\n",
      " -------------------------------------------------- \n",
      " [[2.23606798 2.44948974 2.        ]\n",
      " [1.41421356 1.73205081 3.        ]\n",
      " [1.41421356 1.41421356 1.41421356]]\n",
      "\n",
      " square of 2nd Matrix using np\n",
      " -------------------------------------------------- \n",
      " [[81 49 49]\n",
      " [ 4 25  9]\n",
      " [25 16 81]]\n"
     ]
    }
   ],
   "source": [
    "mat1=np.array(ri(1,10,9)).reshape(3,3)\n",
    "mat2=np.array(ri(1,10,9)).reshape(3,3)\n",
    "\n",
    "print(\"\\n 1st Matrix of random single digit number\\n---------------------------\\n\",mat1)\n",
    "print(\"\\n 2nd Matrix of random single digit number\\n---------------------------\\n\",mat2)\n",
    "\n",
    "print(\"\\n sq-root of 1st Matrix using np\\n\",'-'*50,\"\\n\",np.sqrt(mat1))\n",
    "print(\"\\n square of 2nd Matrix using np\\n\",'-'*50,\"\\n\",np.square(mat2))"
   ]
  },
  {
   "cell_type": "code",
   "execution_count": null,
   "id": "f6b85939",
   "metadata": {},
   "outputs": [],
   "source": []
  },
  {
   "cell_type": "code",
   "execution_count": null,
   "id": "80152304-39ed-4d9f-b3c7-f69fc9618edb",
   "metadata": {},
   "outputs": [],
   "source": []
  }
 ],
 "metadata": {
  "kernelspec": {
   "display_name": "Python 3 (ipykernel)",
   "language": "python",
   "name": "python3"
  },
  "language_info": {
   "codemirror_mode": {
    "name": "ipython",
    "version": 3
   },
   "file_extension": ".py",
   "mimetype": "text/x-python",
   "name": "python",
   "nbconvert_exporter": "python",
   "pygments_lexer": "ipython3",
   "version": "3.11.5"
  },
  "widgets": {
   "application/vnd.jupyter.widget-state+json": {
    "state": {},
    "version_major": 2,
    "version_minor": 0
   }
  }
 },
 "nbformat": 4,
 "nbformat_minor": 5
}
