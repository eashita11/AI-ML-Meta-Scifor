{
 "cells": [
  {
   "cell_type": "code",
   "execution_count": 1,
   "id": "67583b60",
   "metadata": {},
   "outputs": [],
   "source": [
    "import pandas as pd\n",
    "import numpy as np\n"
   ]
  },
  {
   "cell_type": "code",
   "execution_count": 2,
   "id": "65e12402",
   "metadata": {},
   "outputs": [],
   "source": [
    "# First we have to CREATE one python function because we will use the code later."
   ]
  },
  {
   "cell_type": "code",
   "execution_count": 3,
   "id": "bf9c6af4",
   "metadata": {},
   "outputs": [],
   "source": [
    "def salary_hike(x):\n",
    "    if x>3000:\n",
    "        return np.ceil(x+(x*.30))\n",
    "    else:\n",
    "        return np.ceil(x*1.5)"
   ]
  },
  {
   "cell_type": "code",
   "execution_count": 4,
   "id": "85486c41",
   "metadata": {},
   "outputs": [],
   "source": [
    "# Lets Create a Data Frame"
   ]
  },
  {
   "cell_type": "code",
   "execution_count": 5,
   "id": "c97f4f4b",
   "metadata": {},
   "outputs": [],
   "source": [
    "df=pd.DataFrame({'Dept':[1,2,3,4,5,6,7,8,9,10],\n",
    "                'Emp_Name':['Rajesh','Shankar','Vihaan','Saurav','Gaurav','Riya','Munmun','Rohit','Yashu','Garima'],\n",
    "                'Salary':[4994,5455,6166,4044,3433,2922,6466,7877,6766,5155]})"
   ]
  },
  {
   "cell_type": "code",
   "execution_count": 6,
   "id": "987d903b",
   "metadata": {},
   "outputs": [
    {
     "data": {
      "text/html": [
       "<div>\n",
       "<style scoped>\n",
       "    .dataframe tbody tr th:only-of-type {\n",
       "        vertical-align: middle;\n",
       "    }\n",
       "\n",
       "    .dataframe tbody tr th {\n",
       "        vertical-align: top;\n",
       "    }\n",
       "\n",
       "    .dataframe thead th {\n",
       "        text-align: right;\n",
       "    }\n",
       "</style>\n",
       "<table border=\"1\" class=\"dataframe\">\n",
       "  <thead>\n",
       "    <tr style=\"text-align: right;\">\n",
       "      <th></th>\n",
       "      <th>Dept</th>\n",
       "      <th>Emp_Name</th>\n",
       "      <th>Salary</th>\n",
       "    </tr>\n",
       "  </thead>\n",
       "  <tbody>\n",
       "    <tr>\n",
       "      <th>0</th>\n",
       "      <td>1</td>\n",
       "      <td>Rajesh</td>\n",
       "      <td>4994</td>\n",
       "    </tr>\n",
       "    <tr>\n",
       "      <th>1</th>\n",
       "      <td>2</td>\n",
       "      <td>Shankar</td>\n",
       "      <td>5455</td>\n",
       "    </tr>\n",
       "    <tr>\n",
       "      <th>2</th>\n",
       "      <td>3</td>\n",
       "      <td>Vihaan</td>\n",
       "      <td>6166</td>\n",
       "    </tr>\n",
       "    <tr>\n",
       "      <th>3</th>\n",
       "      <td>4</td>\n",
       "      <td>Saurav</td>\n",
       "      <td>4044</td>\n",
       "    </tr>\n",
       "    <tr>\n",
       "      <th>4</th>\n",
       "      <td>5</td>\n",
       "      <td>Gaurav</td>\n",
       "      <td>3433</td>\n",
       "    </tr>\n",
       "    <tr>\n",
       "      <th>5</th>\n",
       "      <td>6</td>\n",
       "      <td>Riya</td>\n",
       "      <td>2922</td>\n",
       "    </tr>\n",
       "    <tr>\n",
       "      <th>6</th>\n",
       "      <td>7</td>\n",
       "      <td>Munmun</td>\n",
       "      <td>6466</td>\n",
       "    </tr>\n",
       "    <tr>\n",
       "      <th>7</th>\n",
       "      <td>8</td>\n",
       "      <td>Rohit</td>\n",
       "      <td>7877</td>\n",
       "    </tr>\n",
       "    <tr>\n",
       "      <th>8</th>\n",
       "      <td>9</td>\n",
       "      <td>Yashu</td>\n",
       "      <td>6766</td>\n",
       "    </tr>\n",
       "    <tr>\n",
       "      <th>9</th>\n",
       "      <td>10</td>\n",
       "      <td>Garima</td>\n",
       "      <td>5155</td>\n",
       "    </tr>\n",
       "  </tbody>\n",
       "</table>\n",
       "</div>"
      ],
      "text/plain": [
       "   Dept Emp_Name  Salary\n",
       "0     1   Rajesh    4994\n",
       "1     2  Shankar    5455\n",
       "2     3   Vihaan    6166\n",
       "3     4   Saurav    4044\n",
       "4     5   Gaurav    3433\n",
       "5     6     Riya    2922\n",
       "6     7   Munmun    6466\n",
       "7     8    Rohit    7877\n",
       "8     9    Yashu    6766\n",
       "9    10   Garima    5155"
      ]
     },
     "execution_count": 6,
     "metadata": {},
     "output_type": "execute_result"
    }
   ],
   "source": [
    "df"
   ]
  },
  {
   "cell_type": "code",
   "execution_count": 7,
   "id": "56e0bc48",
   "metadata": {},
   "outputs": [],
   "source": [
    "# Lets add a new column name in the old dataframe"
   ]
  },
  {
   "cell_type": "code",
   "execution_count": 8,
   "id": "cc6521f1",
   "metadata": {},
   "outputs": [],
   "source": [
    "df['New Salary']=df['Salary'].apply(salary_hike)"
   ]
  },
  {
   "cell_type": "code",
   "execution_count": 9,
   "id": "95d80737",
   "metadata": {},
   "outputs": [
    {
     "data": {
      "text/html": [
       "<div>\n",
       "<style scoped>\n",
       "    .dataframe tbody tr th:only-of-type {\n",
       "        vertical-align: middle;\n",
       "    }\n",
       "\n",
       "    .dataframe tbody tr th {\n",
       "        vertical-align: top;\n",
       "    }\n",
       "\n",
       "    .dataframe thead th {\n",
       "        text-align: right;\n",
       "    }\n",
       "</style>\n",
       "<table border=\"1\" class=\"dataframe\">\n",
       "  <thead>\n",
       "    <tr style=\"text-align: right;\">\n",
       "      <th></th>\n",
       "      <th>Dept</th>\n",
       "      <th>Emp_Name</th>\n",
       "      <th>Salary</th>\n",
       "      <th>New Salary</th>\n",
       "    </tr>\n",
       "  </thead>\n",
       "  <tbody>\n",
       "    <tr>\n",
       "      <th>0</th>\n",
       "      <td>1</td>\n",
       "      <td>Rajesh</td>\n",
       "      <td>4994</td>\n",
       "      <td>6493.0</td>\n",
       "    </tr>\n",
       "    <tr>\n",
       "      <th>1</th>\n",
       "      <td>2</td>\n",
       "      <td>Shankar</td>\n",
       "      <td>5455</td>\n",
       "      <td>7092.0</td>\n",
       "    </tr>\n",
       "    <tr>\n",
       "      <th>2</th>\n",
       "      <td>3</td>\n",
       "      <td>Vihaan</td>\n",
       "      <td>6166</td>\n",
       "      <td>8016.0</td>\n",
       "    </tr>\n",
       "    <tr>\n",
       "      <th>3</th>\n",
       "      <td>4</td>\n",
       "      <td>Saurav</td>\n",
       "      <td>4044</td>\n",
       "      <td>5258.0</td>\n",
       "    </tr>\n",
       "    <tr>\n",
       "      <th>4</th>\n",
       "      <td>5</td>\n",
       "      <td>Gaurav</td>\n",
       "      <td>3433</td>\n",
       "      <td>4463.0</td>\n",
       "    </tr>\n",
       "    <tr>\n",
       "      <th>5</th>\n",
       "      <td>6</td>\n",
       "      <td>Riya</td>\n",
       "      <td>2922</td>\n",
       "      <td>4383.0</td>\n",
       "    </tr>\n",
       "    <tr>\n",
       "      <th>6</th>\n",
       "      <td>7</td>\n",
       "      <td>Munmun</td>\n",
       "      <td>6466</td>\n",
       "      <td>8406.0</td>\n",
       "    </tr>\n",
       "    <tr>\n",
       "      <th>7</th>\n",
       "      <td>8</td>\n",
       "      <td>Rohit</td>\n",
       "      <td>7877</td>\n",
       "      <td>10241.0</td>\n",
       "    </tr>\n",
       "    <tr>\n",
       "      <th>8</th>\n",
       "      <td>9</td>\n",
       "      <td>Yashu</td>\n",
       "      <td>6766</td>\n",
       "      <td>8796.0</td>\n",
       "    </tr>\n",
       "    <tr>\n",
       "      <th>9</th>\n",
       "      <td>10</td>\n",
       "      <td>Garima</td>\n",
       "      <td>5155</td>\n",
       "      <td>6702.0</td>\n",
       "    </tr>\n",
       "  </tbody>\n",
       "</table>\n",
       "</div>"
      ],
      "text/plain": [
       "   Dept Emp_Name  Salary  New Salary\n",
       "0     1   Rajesh    4994      6493.0\n",
       "1     2  Shankar    5455      7092.0\n",
       "2     3   Vihaan    6166      8016.0\n",
       "3     4   Saurav    4044      5258.0\n",
       "4     5   Gaurav    3433      4463.0\n",
       "5     6     Riya    2922      4383.0\n",
       "6     7   Munmun    6466      8406.0\n",
       "7     8    Rohit    7877     10241.0\n",
       "8     9    Yashu    6766      8796.0\n",
       "9    10   Garima    5155      6702.0"
      ]
     },
     "execution_count": 9,
     "metadata": {},
     "output_type": "execute_result"
    }
   ],
   "source": [
    "df"
   ]
  },
  {
   "cell_type": "code",
   "execution_count": 10,
   "id": "cc4f68a8",
   "metadata": {},
   "outputs": [],
   "source": [
    "# lets add new column. Length of name"
   ]
  },
  {
   "cell_type": "code",
   "execution_count": 11,
   "id": "912df9e3",
   "metadata": {},
   "outputs": [],
   "source": [
    "df['Name_Length']=df['Emp_Name'].apply(len)"
   ]
  },
  {
   "cell_type": "code",
   "execution_count": 12,
   "id": "6af878f0",
   "metadata": {},
   "outputs": [
    {
     "data": {
      "text/html": [
       "<div>\n",
       "<style scoped>\n",
       "    .dataframe tbody tr th:only-of-type {\n",
       "        vertical-align: middle;\n",
       "    }\n",
       "\n",
       "    .dataframe tbody tr th {\n",
       "        vertical-align: top;\n",
       "    }\n",
       "\n",
       "    .dataframe thead th {\n",
       "        text-align: right;\n",
       "    }\n",
       "</style>\n",
       "<table border=\"1\" class=\"dataframe\">\n",
       "  <thead>\n",
       "    <tr style=\"text-align: right;\">\n",
       "      <th></th>\n",
       "      <th>Dept</th>\n",
       "      <th>Emp_Name</th>\n",
       "      <th>Salary</th>\n",
       "      <th>New Salary</th>\n",
       "      <th>Name_Length</th>\n",
       "    </tr>\n",
       "  </thead>\n",
       "  <tbody>\n",
       "    <tr>\n",
       "      <th>0</th>\n",
       "      <td>1</td>\n",
       "      <td>Rajesh</td>\n",
       "      <td>4994</td>\n",
       "      <td>6493.0</td>\n",
       "      <td>6</td>\n",
       "    </tr>\n",
       "    <tr>\n",
       "      <th>1</th>\n",
       "      <td>2</td>\n",
       "      <td>Shankar</td>\n",
       "      <td>5455</td>\n",
       "      <td>7092.0</td>\n",
       "      <td>7</td>\n",
       "    </tr>\n",
       "    <tr>\n",
       "      <th>2</th>\n",
       "      <td>3</td>\n",
       "      <td>Vihaan</td>\n",
       "      <td>6166</td>\n",
       "      <td>8016.0</td>\n",
       "      <td>6</td>\n",
       "    </tr>\n",
       "    <tr>\n",
       "      <th>3</th>\n",
       "      <td>4</td>\n",
       "      <td>Saurav</td>\n",
       "      <td>4044</td>\n",
       "      <td>5258.0</td>\n",
       "      <td>6</td>\n",
       "    </tr>\n",
       "    <tr>\n",
       "      <th>4</th>\n",
       "      <td>5</td>\n",
       "      <td>Gaurav</td>\n",
       "      <td>3433</td>\n",
       "      <td>4463.0</td>\n",
       "      <td>6</td>\n",
       "    </tr>\n",
       "    <tr>\n",
       "      <th>5</th>\n",
       "      <td>6</td>\n",
       "      <td>Riya</td>\n",
       "      <td>2922</td>\n",
       "      <td>4383.0</td>\n",
       "      <td>4</td>\n",
       "    </tr>\n",
       "    <tr>\n",
       "      <th>6</th>\n",
       "      <td>7</td>\n",
       "      <td>Munmun</td>\n",
       "      <td>6466</td>\n",
       "      <td>8406.0</td>\n",
       "      <td>6</td>\n",
       "    </tr>\n",
       "    <tr>\n",
       "      <th>7</th>\n",
       "      <td>8</td>\n",
       "      <td>Rohit</td>\n",
       "      <td>7877</td>\n",
       "      <td>10241.0</td>\n",
       "      <td>5</td>\n",
       "    </tr>\n",
       "    <tr>\n",
       "      <th>8</th>\n",
       "      <td>9</td>\n",
       "      <td>Yashu</td>\n",
       "      <td>6766</td>\n",
       "      <td>8796.0</td>\n",
       "      <td>5</td>\n",
       "    </tr>\n",
       "    <tr>\n",
       "      <th>9</th>\n",
       "      <td>10</td>\n",
       "      <td>Garima</td>\n",
       "      <td>5155</td>\n",
       "      <td>6702.0</td>\n",
       "      <td>6</td>\n",
       "    </tr>\n",
       "  </tbody>\n",
       "</table>\n",
       "</div>"
      ],
      "text/plain": [
       "   Dept Emp_Name  Salary  New Salary  Name_Length\n",
       "0     1   Rajesh    4994      6493.0            6\n",
       "1     2  Shankar    5455      7092.0            7\n",
       "2     3   Vihaan    6166      8016.0            6\n",
       "3     4   Saurav    4044      5258.0            6\n",
       "4     5   Gaurav    3433      4463.0            6\n",
       "5     6     Riya    2922      4383.0            4\n",
       "6     7   Munmun    6466      8406.0            6\n",
       "7     8    Rohit    7877     10241.0            5\n",
       "8     9    Yashu    6766      8796.0            5\n",
       "9    10   Garima    5155      6702.0            6"
      ]
     },
     "execution_count": 12,
     "metadata": {},
     "output_type": "execute_result"
    }
   ],
   "source": [
    "df"
   ]
  },
  {
   "cell_type": "code",
   "execution_count": 13,
   "id": "02a46cad",
   "metadata": {},
   "outputs": [],
   "source": [
    "# Lets understand about how to use lambda function in our DataFrmae"
   ]
  },
  {
   "cell_type": "code",
   "execution_count": 14,
   "id": "605bde4a",
   "metadata": {},
   "outputs": [
    {
     "ename": "SyntaxError",
     "evalue": "invalid syntax (2710570300.py, line 1)",
     "output_type": "error",
     "traceback": [
      "\u001b[0;36m  Cell \u001b[0;32mIn[14], line 1\u001b[0;36m\u001b[0m\n\u001b[0;31m    =df['New Salary'].apply(lambda x:np.sqrt(x))\u001b[0m\n\u001b[0m    ^\u001b[0m\n\u001b[0;31mSyntaxError\u001b[0m\u001b[0;31m:\u001b[0m invalid syntax\n"
     ]
    }
   ],
   "source": [
    "=df['New Salary'].apply(lambda x:np.sqrt(x))"
   ]
  },
  {
   "cell_type": "code",
   "execution_count": null,
   "id": "8144404c",
   "metadata": {},
   "outputs": [],
   "source": [
    "df['sqrt']=df['New Salary'].apply(lambda x:np.sqrt(x))"
   ]
  },
  {
   "cell_type": "code",
   "execution_count": null,
   "id": "0114912b",
   "metadata": {},
   "outputs": [],
   "source": [
    "df"
   ]
  },
  {
   "cell_type": "code",
   "execution_count": null,
   "id": "1b900721",
   "metadata": {},
   "outputs": [],
   "source": [
    "#Print Minimum and Maximum of the column 'New_Salary' are:"
   ]
  },
  {
   "cell_type": "code",
   "execution_count": null,
   "id": "f05f526a",
   "metadata": {},
   "outputs": [],
   "source": [
    "print(\"Min and Max of the column 'New Salary' are  : \",df['New Salary'].min()    ,  df['New Salary'].max())"
   ]
  },
  {
   "cell_type": "code",
   "execution_count": null,
   "id": "9dd31653",
   "metadata": {},
   "outputs": [],
   "source": [
    "#Deletion, Sorting, List of Column and Rows Names"
   ]
  },
  {
   "cell_type": "code",
   "execution_count": null,
   "id": "ad3bd08b",
   "metadata": {},
   "outputs": [],
   "source": [
    "print(\"\\n Name of Column \\n\",'-'*20,sep=\"\")\n",
    "print(df.columns)"
   ]
  },
  {
   "cell_type": "code",
   "execution_count": null,
   "id": "75e912b5",
   "metadata": {},
   "outputs": [],
   "source": [
    "#If we want to print the column name in List format."
   ]
  },
  {
   "cell_type": "code",
   "execution_count": null,
   "id": "7905b11e",
   "metadata": {},
   "outputs": [],
   "source": [
    "l=list(df.columns)\n",
    "print(\"\\n Column name in a list of String for later manipulation : \",l)"
   ]
  },
  {
   "cell_type": "code",
   "execution_count": null,
   "id": "3b5abc48",
   "metadata": {},
   "outputs": [],
   "source": [
    "#Deleting Column name from Data Frame"
   ]
  },
  {
   "cell_type": "code",
   "execution_count": null,
   "id": "e6ed09e5",
   "metadata": {},
   "outputs": [],
   "source": [
    "print(\"\\n Deleting Column by 'del' command \\n\",'-'*50,sep=' ')\n",
    "del df['Salary']\n",
    "print(df)"
   ]
  },
  {
   "cell_type": "code",
   "execution_count": null,
   "id": "da12d21c",
   "metadata": {},
   "outputs": [],
   "source": [
    "df"
   ]
  },
  {
   "cell_type": "code",
   "execution_count": null,
   "id": "4009a79e",
   "metadata": {},
   "outputs": [],
   "source": [
    "#Lets Create a new data frame for using  isnull(). function"
   ]
  },
  {
   "cell_type": "code",
   "execution_count": null,
   "id": "9b6a7165",
   "metadata": {},
   "outputs": [],
   "source": [
    "import pandas as pd\n",
    "import numpy as np"
   ]
  },
  {
   "cell_type": "code",
   "execution_count": null,
   "id": "726c7dc1",
   "metadata": {},
   "outputs": [],
   "source": [
    "df=pd.DataFrame({'Name':['Ramesh','Raghav',np.nan,np.nan],\n",
    "                'Gender':[np.nan,'M','M','F'],\n",
    "                'Section':['A','B','C','D'],\n",
    "                'Class':[5,12,np.nan,np.nan],\n",
    "                'Phone_Number':[np.nan,9406289124,8349089124,np.nan],\n",
    "                'Location':['Bengluru','Noida','Hyderabad',np.nan],\n",
    "                'Email_Present':['Y','N',np.nan,np.nan],\n",
    "                'Door_Number':[np.nan,444,555,345],\n",
    "                'Street_Name':['ABC','DEF','GHI','XYZ'],\n",
    "                'Pin_Code':[5,12,np.nan,np.nan],\n",
    "                 'State':[np.nan,'Up','Telangana',np.nan],\n",
    "                 'Dad_Name':['XYZ','DEF','GHI',np.nan]},dtype=int)\n",
    "\n",
    "df"
   ]
  },
  {
   "cell_type": "code",
   "execution_count": null,
   "id": "c714a1a9",
   "metadata": {},
   "outputs": [],
   "source": [
    "len(df.columns)"
   ]
  },
  {
   "cell_type": "code",
   "execution_count": null,
   "id": "03ac218e",
   "metadata": {},
   "outputs": [],
   "source": [
    "len(df.columns)"
   ]
  },
  {
   "cell_type": "code",
   "execution_count": null,
   "id": "f4b584fc",
   "metadata": {},
   "outputs": [],
   "source": [
    "#Use isnull Function"
   ]
  },
  {
   "cell_type": "code",
   "execution_count": null,
   "id": "391a3e8c",
   "metadata": {},
   "outputs": [],
   "source": [
    "df.isnull().sum()"
   ]
  },
  {
   "cell_type": "code",
   "execution_count": null,
   "id": "83812a96",
   "metadata": {},
   "outputs": [],
   "source": [
    "df.isnull().sum().sum()"
   ]
  },
  {
   "cell_type": "code",
   "execution_count": null,
   "id": "b2521cdf",
   "metadata": {},
   "outputs": [],
   "source": [
    "#Lets Start Using CSV File in Pandad"
   ]
  },
  {
   "cell_type": "code",
   "execution_count": null,
   "id": "97babdc6",
   "metadata": {},
   "outputs": [],
   "source": [
    "import pandas as pd"
   ]
  },
  {
   "cell_type": "code",
   "execution_count": null,
   "id": "284cf8b7",
   "metadata": {},
   "outputs": [],
   "source": [
    "#How to import CSV File in Pandas"
   ]
  },
  {
   "cell_type": "code",
   "execution_count": null,
   "id": "1f0ecf2e",
   "metadata": {},
   "outputs": [],
   "source": [
    "ipl=pd.read_csv('matches.csv')"
   ]
  },
  {
   "cell_type": "code",
   "execution_count": null,
   "id": "1399654c",
   "metadata": {},
   "outputs": [],
   "source": [
    "ipl"
   ]
  },
  {
   "cell_type": "code",
   "execution_count": null,
   "id": "2499c2bd",
   "metadata": {},
   "outputs": [],
   "source": [
    "#If Your Want to see top 5   rows"
   ]
  },
  {
   "cell_type": "code",
   "execution_count": null,
   "id": "4e19066b",
   "metadata": {},
   "outputs": [],
   "source": [
    "ipl.head()"
   ]
  },
  {
   "cell_type": "code",
   "execution_count": null,
   "id": "29af1df1",
   "metadata": {},
   "outputs": [],
   "source": [
    "#If you want to see last 5 rows"
   ]
  },
  {
   "cell_type": "code",
   "execution_count": null,
   "id": "a1d484f9",
   "metadata": {},
   "outputs": [],
   "source": [
    "ipl.tail()"
   ]
  },
  {
   "cell_type": "code",
   "execution_count": null,
   "id": "110cbab6",
   "metadata": {},
   "outputs": [],
   "source": [
    "#If You want to see any column Randomly"
   ]
  },
  {
   "cell_type": "code",
   "execution_count": null,
   "id": "b6f29eab",
   "metadata": {},
   "outputs": [],
   "source": [
    "ipl.sample(n=5)  #N is v=containing how much row you want"
   ]
  },
  {
   "cell_type": "markdown",
   "id": "dfb79924",
   "metadata": {},
   "source": [
    "# Importing File Direct From Github"
   ]
  },
  {
   "cell_type": "markdown",
   "id": "1360505b",
   "metadata": {},
   "source": [
    "* Open any File in Github\n",
    "* click on 'Raw' ('This will open the file in raw format)\n",
    "* copy the link and paste as below"
   ]
  },
  {
   "cell_type": "code",
   "execution_count": null,
   "id": "ded2155d",
   "metadata": {},
   "outputs": [],
   "source": [
    "ipl=pd.read_csv(\"https://raw.githubusercontent.com/s4sauravv/Datasets/main/matches.csv\")"
   ]
  },
  {
   "cell_type": "code",
   "execution_count": null,
   "id": "9a6f441d",
   "metadata": {},
   "outputs": [],
   "source": [
    "ipl"
   ]
  },
  {
   "cell_type": "code",
   "execution_count": null,
   "id": "0914e018",
   "metadata": {},
   "outputs": [],
   "source": [
    "ipl.head()"
   ]
  },
  {
   "cell_type": "code",
   "execution_count": null,
   "id": "683898f7",
   "metadata": {},
   "outputs": [],
   "source": [
    "ipl.tail()"
   ]
  },
  {
   "cell_type": "code",
   "execution_count": null,
   "id": "b5a9d6c9",
   "metadata": {},
   "outputs": [],
   "source": [
    "#If you want to  know what is the shape of our DataFrame"
   ]
  },
  {
   "cell_type": "code",
   "execution_count": null,
   "id": "583e8c14",
   "metadata": {},
   "outputs": [],
   "source": [
    "ipl.shape"
   ]
  },
  {
   "cell_type": "code",
   "execution_count": null,
   "id": "5d0083f9",
   "metadata": {},
   "outputs": [],
   "source": [
    "#Check Type of ipl"
   ]
  },
  {
   "cell_type": "code",
   "execution_count": null,
   "id": "ece9c28e",
   "metadata": {},
   "outputs": [],
   "source": [
    "type(ipl)"
   ]
  },
  {
   "cell_type": "code",
   "execution_count": null,
   "id": "aab02f84",
   "metadata": {},
   "outputs": [],
   "source": [
    "ipl"
   ]
  },
  {
   "cell_type": "code",
   "execution_count": null,
   "id": "5d0a357b",
   "metadata": {},
   "outputs": [],
   "source": [
    "# If You Want to print all the rows you need to set as below and display the dataset"
   ]
  },
  {
   "cell_type": "code",
   "execution_count": null,
   "id": "fc79692e",
   "metadata": {},
   "outputs": [],
   "source": [
    "pd.set_option('display.max_rows',None)"
   ]
  },
  {
   "cell_type": "markdown",
   "id": "97ac0915",
   "metadata": {},
   "source": [
    "## Importing data from folders in your system\n",
    "\n",
    "### Reading Excel Files"
   ]
  },
  {
   "cell_type": "code",
   "execution_count": null,
   "id": "bfc8f71a",
   "metadata": {},
   "outputs": [],
   "source": [
    "#Name of Sheet to read from"
   ]
  },
  {
   "cell_type": "code",
   "execution_count": null,
   "id": "7f646d7d",
   "metadata": {},
   "outputs": [],
   "source": [
    "excel_file=pd.read_excel(r\"C:\\Users\\safar\\Downloads\\matches (1).csv\")"
   ]
  },
  {
   "cell_type": "code",
   "execution_count": null,
   "id": "027c09cf",
   "metadata": {},
   "outputs": [],
   "source": [
    "excel_file"
   ]
  },
  {
   "cell_type": "code",
   "execution_count": null,
   "id": "106be0e6",
   "metadata": {},
   "outputs": [],
   "source": [
    "del ipl['id']"
   ]
  },
  {
   "cell_type": "code",
   "execution_count": null,
   "id": "63705c5a",
   "metadata": {},
   "outputs": [],
   "source": [
    "ipl"
   ]
  },
  {
   "cell_type": "markdown",
   "id": "d2bf7147",
   "metadata": {},
   "source": [
    "## Exporting Data "
   ]
  },
  {
   "cell_type": "code",
   "execution_count": null,
   "id": "59434ff1",
   "metadata": {},
   "outputs": [],
   "source": [
    "#Export to current Folder"
   ]
  },
  {
   "cell_type": "code",
   "execution_count": null,
   "id": "bb8b3788",
   "metadata": {},
   "outputs": [],
   "source": [
    "ipl.to_csv('ipl_copy1.csv')"
   ]
  },
  {
   "cell_type": "code",
   "execution_count": null,
   "id": "58b20363",
   "metadata": {},
   "outputs": [],
   "source": [
    "#Export to different folder bu giving - Means which folder i want to save the copy ipl file"
   ]
  },
  {
   "cell_type": "code",
   "execution_count": null,
   "id": "49a4c40d",
   "metadata": {},
   "outputs": [],
   "source": [
    "ipl.to_csv(r\"D:\\CSV Files.csv\",header=True,index=False)"
   ]
  },
  {
   "cell_type": "markdown",
   "id": "3e12b4a9",
   "metadata": {},
   "source": [
    "# Work with Real Time Example"
   ]
  },
  {
   "cell_type": "markdown",
   "id": "7c9d8263",
   "metadata": {},
   "source": [
    "https://www.basketball-reference.com/leagues/NBA_2015_totals.html"
   ]
  },
  {
   "cell_type": "code",
   "execution_count": null,
   "id": "9c4c2a7a",
   "metadata": {},
   "outputs": [],
   "source": [
    "#when we have to use url to load dataframe from site\n",
    "\n",
    "url='https://www.basketball-reference.com/leagues/NBA_2015_totals.html'"
   ]
  },
  {
   "cell_type": "code",
   "execution_count": null,
   "id": "4f045161",
   "metadata": {},
   "outputs": [],
   "source": [
    "BB_data=pd.read_html(url)"
   ]
  },
  {
   "cell_type": "code",
   "execution_count": null,
   "id": "4ffc6fa8",
   "metadata": {},
   "outputs": [],
   "source": [
    "BB_data"
   ]
  },
  {
   "cell_type": "code",
   "execution_count": null,
   "id": "8dd45d8f",
   "metadata": {},
   "outputs": [],
   "source": [
    "BB_data[0].head()"
   ]
  },
  {
   "cell_type": "code",
   "execution_count": null,
   "id": "cf5ae2e7",
   "metadata": {},
   "outputs": [],
   "source": [
    "BB_data[0].tail()"
   ]
  },
  {
   "cell_type": "code",
   "execution_count": null,
   "id": "87d77965",
   "metadata": {},
   "outputs": [],
   "source": [
    "BB_data[0].sample(n=4) #we want 4 random rows"
   ]
  },
  {
   "cell_type": "code",
   "execution_count": null,
   "id": "863e2b11",
   "metadata": {},
   "outputs": [],
   "source": [
    "BB_data[0].shape  # we are checking shapes"
   ]
  },
  {
   "cell_type": "code",
   "execution_count": null,
   "id": "2e30b35f",
   "metadata": {},
   "outputs": [],
   "source": [
    "BB_data[0].columns# we are checking columns"
   ]
  },
  {
   "cell_type": "code",
   "execution_count": null,
   "id": "4d5b9b24",
   "metadata": {},
   "outputs": [],
   "source": [
    "BB_data[0][['Rk','Player','Pos']].head() # we use this method when we don't want all columns"
   ]
  },
  {
   "cell_type": "code",
   "execution_count": null,
   "id": "45364773",
   "metadata": {},
   "outputs": [],
   "source": [
    "BB_data[0]"
   ]
  },
  {
   "cell_type": "markdown",
   "id": "a7d3b84b",
   "metadata": {},
   "source": [
    "If You want to print all the rows ,you need to set as below and display the dataset"
   ]
  },
  {
   "cell_type": "code",
   "execution_count": null,
   "id": "3da7e8ac",
   "metadata": {},
   "outputs": [],
   "source": [
    "pd.set_option('display.max_rows',None)"
   ]
  },
  {
   "cell_type": "code",
   "execution_count": null,
   "id": "caf63d26",
   "metadata": {},
   "outputs": [],
   "source": [
    "# Any Number of rows, you want by writing as below"
   ]
  },
  {
   "cell_type": "code",
   "execution_count": null,
   "id": "fc96843b",
   "metadata": {},
   "outputs": [],
   "source": [
    "pd.options.display.max_rows=4"
   ]
  },
  {
   "cell_type": "markdown",
   "id": "085b5b34",
   "metadata": {},
   "source": [
    "# Data Time Manipulation"
   ]
  },
  {
   "cell_type": "code",
   "execution_count": null,
   "id": "1d7a08e3",
   "metadata": {},
   "outputs": [],
   "source": [
    "import numpy as np"
   ]
  },
  {
   "cell_type": "code",
   "execution_count": null,
   "id": "c6845489",
   "metadata": {},
   "outputs": [],
   "source": [
    "import pandas as pd"
   ]
  },
  {
   "cell_type": "code",
   "execution_count": null,
   "id": "b9bace12",
   "metadata": {},
   "outputs": [],
   "source": [
    "date_range=pd.date_range('4/12/2021',periods=12)\n",
    "dates=pd.DataFrame(date_range,columns=['Date'])"
   ]
  },
  {
   "cell_type": "code",
   "execution_count": null,
   "id": "2c27e6a1",
   "metadata": {},
   "outputs": [],
   "source": [
    "dates"
   ]
  },
  {
   "cell_type": "code",
   "execution_count": null,
   "id": "30886a8f",
   "metadata": {},
   "outputs": [],
   "source": [
    "dates['Day']=dates['Date'].dt.day\n",
    "dates['Month']=dates['Date'].dt.month\n",
    "dates['Year']=dates['Date'].dt.year"
   ]
  },
  {
   "cell_type": "code",
   "execution_count": null,
   "id": "abe2c8a3",
   "metadata": {},
   "outputs": [],
   "source": [
    "dates"
   ]
  },
  {
   "cell_type": "code",
   "execution_count": null,
   "id": "8dbf4879",
   "metadata": {},
   "outputs": [],
   "source": [
    "{'Date_Time':['Jan 1 12:00 AM','Jan 2 12:00 AM']}"
   ]
  },
  {
   "cell_type": "markdown",
   "id": "73e7f43b",
   "metadata": {},
   "source": [
    "Example to convert object date into proper date format"
   ]
  },
  {
   "cell_type": "code",
   "execution_count": null,
   "id": "ef21718f",
   "metadata": {},
   "outputs": [],
   "source": [
    "df=pd.DataFrame({'Date_Time':['Jan 1 12:00 AM','Jan 2 12:00 AM']})"
   ]
  },
  {
   "cell_type": "code",
   "execution_count": null,
   "id": "35b2cafb",
   "metadata": {},
   "outputs": [],
   "source": [
    "df"
   ]
  },
  {
   "cell_type": "code",
   "execution_count": null,
   "id": "96a10c05",
   "metadata": {},
   "outputs": [],
   "source": [
    "type(df)"
   ]
  },
  {
   "cell_type": "markdown",
   "id": "39f5f03a",
   "metadata": {},
   "source": [
    "### Visit https://docs.python.org/3/library/datetime.html"
   ]
  },
  {
   "cell_type": "code",
   "execution_count": null,
   "id": "2d3ea808",
   "metadata": {},
   "outputs": [],
   "source": [
    "df['Date']=pd.to_datetime(df['Date_Time'],format='%b %d %I:%M %p')"
   ]
  },
  {
   "cell_type": "code",
   "execution_count": null,
   "id": "eeb68217",
   "metadata": {},
   "outputs": [],
   "source": [
    "df"
   ]
  },
  {
   "cell_type": "code",
   "execution_count": null,
   "id": "1a5f31fb",
   "metadata": {},
   "outputs": [],
   "source": [
    "df['Day']=df['Date'].dt.day\n"
   ]
  },
  {
   "cell_type": "code",
   "execution_count": null,
   "id": "9f8bab5e",
   "metadata": {},
   "outputs": [],
   "source": [
    "df['Month']=df['Date'].dt.month\n",
    "df['Year']=df['Date'].dt.year\n",
    "print(df)"
   ]
  },
  {
   "cell_type": "code",
   "execution_count": null,
   "id": "dfeda9d3",
   "metadata": {},
   "outputs": [],
   "source": [
    "# You might wonder why it shows the year as 1990.  \n",
    "# This happens because if the year is not available, the default year is set to 1900."
   ]
  },
  {
   "cell_type": "code",
   "execution_count": null,
   "id": "7d7fa122",
   "metadata": {},
   "outputs": [],
   "source": []
  }
 ],
 "metadata": {
  "kernelspec": {
   "display_name": "Python 3 (ipykernel)",
   "language": "python",
   "name": "python3"
  },
  "language_info": {
   "codemirror_mode": {
    "name": "ipython",
    "version": 3
   },
   "file_extension": ".py",
   "mimetype": "text/x-python",
   "name": "python",
   "nbconvert_exporter": "python",
   "pygments_lexer": "ipython3",
   "version": "3.11.5"
  }
 },
 "nbformat": 4,
 "nbformat_minor": 5
}
